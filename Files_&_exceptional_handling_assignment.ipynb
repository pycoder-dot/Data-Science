{
  "nbformat": 4,
  "nbformat_minor": 0,
  "metadata": {
    "colab": {
      "provenance": []
    },
    "kernelspec": {
      "name": "python3",
      "display_name": "Python 3"
    },
    "language_info": {
      "name": "python"
    }
  },
  "cells": [
    {
      "cell_type": "markdown",
      "source": [
        "Q-1 What is the difference between interpreted and compile language ?"
      ],
      "metadata": {
        "id": "Ke0AS1GSMaKk"
      }
    },
    {
      "cell_type": "markdown",
      "source": [
        "SOL - The interpreted language is a language where source code is tranlated into machine code line by line while the programm is running. And also its implementation execute instruction directly and freely, without previously compiling a program into machine-language instructions.\n",
        "On the other hand in the compiler the entire source code is transated into machine code by a compiler before execution. But its implementations are typically compilers and not interpreters."
      ],
      "metadata": {
        "id": "TTpSbAlHMq-1"
      }
    },
    {
      "cell_type": "markdown",
      "source": [
        "Q-2 What the exception handling in python ?"
      ],
      "metadata": {
        "id": "7RmGPVnPMr2E"
      }
    },
    {
      "cell_type": "markdown",
      "source": [
        "SOL - With help of exception handling we can handle runtime errors without crashing the program it also controlled the whole process. It helps us to recover, manage errors gracefully. In exception handling we have to write an extra code to manage errors."
      ],
      "metadata": {
        "id": "Bfi1WXYnM0vm"
      }
    },
    {
      "cell_type": "markdown",
      "source": [
        "Q-3 What is the purpose of the finally block in exception handling ?"
      ],
      "metadata": {
        "id": "bylI13FuM2Az"
      }
    },
    {
      "cell_type": "markdown",
      "source": [
        "SOL - In exception handling finally block is used to specify a block of code that will always be executed whether an exception is raised or not.So the finally block will always executes after normal termination of try block or after try block terminates due to some exception.\n",
        "Example -"
      ],
      "metadata": {
        "id": "HJlHQoSfNDtq"
      }
    },
    {
      "cell_type": "code",
      "source": [
        "try:\n",
        "\tk = 5//1\n",
        "\tprint(k)\n",
        "\n",
        "except ZeroDivisionError:\n",
        "\tprint(\"Can't divide by zero\")\n",
        "\n",
        "finally:\n",
        "\tprint('This is always executed')\n"
      ],
      "metadata": {
        "colab": {
          "base_uri": "https://localhost:8080/"
        },
        "id": "6peC8iajA8uL",
        "outputId": "d9250fd3-4399-4856-99da-b80df7b914f3"
      },
      "execution_count": 1,
      "outputs": [
        {
          "output_type": "stream",
          "name": "stdout",
          "text": [
            "5\n",
            "This is always executed\n"
          ]
        }
      ]
    },
    {
      "cell_type": "markdown",
      "source": [
        "Q-4 What is logging in python ?"
      ],
      "metadata": {
        "id": "bzA3pYD8NEs7"
      }
    },
    {
      "cell_type": "markdown",
      "source": [
        "SOL - Logging in Python lets you record important information about your program’s execution. You can create and configure loggers, set log levels, and format log messages without installing additional packages. Its also means of tracking events that happen when some software runs. If you don’t have any logging record and your program crashes, there are very few chances that you detect the cause of the problem."
      ],
      "metadata": {
        "id": "bZHCKZ0tNI4Z"
      }
    },
    {
      "cell_type": "markdown",
      "source": [
        "Q-5 What is the significance of the __del__ method of python ?"
      ],
      "metadata": {
        "id": "W2O2NRciNTaB"
      }
    },
    {
      "cell_type": "markdown",
      "source": [
        "SOL - The Del statement is used to delete the objects as well as remove the variables. It can used to delete list's elements and dictionaries an sometimes the entire object."
      ],
      "metadata": {
        "id": "mBs2xeVVNfZh"
      }
    },
    {
      "cell_type": "markdown",
      "source": [
        "Q-6 What is the difference between import and from _import in python ?"
      ],
      "metadata": {
        "id": "d80hMlcGNgQr"
      }
    },
    {
      "cell_type": "markdown",
      "source": [
        "SOL - These both statements are used to bring modules into your current script.\n",
        "The import statement is used to import the entire module. But from _import is used to imprt specific items like functions, class and, variables from a module rather than entire module."
      ],
      "metadata": {
        "id": "_xvkR4sONrGN"
      }
    },
    {
      "cell_type": "markdown",
      "source": [
        "Q-7 How can you handle multiple exception in python ?"
      ],
      "metadata": {
        "id": "I188xqyPNsC3"
      }
    },
    {
      "cell_type": "markdown",
      "source": [
        "SOL - We can handle multiple exception using multiple except blocks or by specifying multiple exceptions in a single except block.\n",
        "Like - Using Multiple except Blocks, Using a Single except Block with Multiple Exceptions, Using else and finally for Further Handling."
      ],
      "metadata": {
        "id": "hidpU6I8Nz83"
      }
    },
    {
      "cell_type": "markdown",
      "source": [
        "Q-8 What is the purpose of the with statement when handling files in python ?"
      ],
      "metadata": {
        "id": "aMSGJBYrN1CI"
      }
    },
    {
      "cell_type": "markdown",
      "source": [
        "SOL - The with statement in Python is primarily used for context management and ensures that resources, such as file handles, are properly acquired and released.It is used to simplify the management of resources such as file streams, network connections, and locks."
      ],
      "metadata": {
        "id": "v9RSnrAvOAF8"
      }
    },
    {
      "cell_type": "markdown",
      "source": [
        "Q-9 What is the difference between multithreading and multiprocessing ?"
      ],
      "metadata": {
        "id": "avpGMJFqOBC4"
      }
    },
    {
      "cell_type": "markdown",
      "source": [
        "SOL - Multiprocessing uses multiple CPUs to run many processes at a time while multithreading creates multiple threads within a single process to get faster and more efficient task execution.\n",
        "In a Multiprocessing system that has more than one or two processors.  CPUs are added to increase the computing speed of the system.\n",
        "On the other hand Multithreading is a system in which multiple threads are created of a process for increasing the computing speed of the system."
      ],
      "metadata": {
        "id": "gYXHBquYOLTX"
      }
    },
    {
      "cell_type": "markdown",
      "source": [
        "Q-10 What are the advantages of using logging in a programe ?"
      ],
      "metadata": {
        "id": "tvP0k7rvONtB"
      }
    },
    {
      "cell_type": "markdown",
      "source": [
        "SOL - logging provides advantages over traditional methods of tracking and debugging, such as using print statements.  Logging offers a structured, flexible, and persistent way of recording runtime information.\n",
        "like Structured and Informative Output, Better Debugging and Diagnostics, Production-Level Tracking and Monitoring, Separation of Debugging and Business Logic etc."
      ],
      "metadata": {
        "id": "TzllqWdmOXGU"
      }
    },
    {
      "cell_type": "markdown",
      "source": [
        "Q-11 What is memory management in python ?"
      ],
      "metadata": {
        "id": "_7QjTYm3OYON"
      }
    },
    {
      "cell_type": "markdown",
      "source": [
        "SOL - Memory allocation can be defined as allocating a block of space in the computer memory to a program. In Python memory allocation and deallocation method is automatic as the Python developers created a garbage collector for Python so that the user does not have to do manual garbage collection.It handles most of the complexities associated with memory management, but understanding how it works can help developers write more efficient and reliable Python code."
      ],
      "metadata": {
        "id": "yoA9OdUWOf-A"
      }
    },
    {
      "cell_type": "markdown",
      "source": [
        "Q-12 What are the basic steps involved in exception handling in python ?"
      ],
      "metadata": {
        "id": "xSvzSChpOgu_"
      }
    },
    {
      "cell_type": "markdown",
      "source": [
        "SOL - In exxception handling instead of letting an error cause the program to crash, you can catch the error and handle it appropriately. Like - The try block is used to write the code that you think might raise an exception. If an exception is raised in the try block, Python jumps to the except block to handle the exception."
      ],
      "metadata": {
        "id": "OzM_29xwOrlf"
      }
    },
    {
      "cell_type": "markdown",
      "source": [
        "Q-13 Why is memory management is important in python ?"
      ],
      "metadata": {
        "id": "5UUBVkzqOsbH"
      }
    },
    {
      "cell_type": "markdown",
      "source": [
        "SOL - Memory management is a critical aspect of programming, and in Python, effective memory management is essential for writing efficient, scalable, and reliable programs. Understanding Memory allocation is important to any software developer as writing efficient code means writing a memory-efficient code."
      ],
      "metadata": {
        "id": "g2isxrR9O0dr"
      }
    },
    {
      "cell_type": "markdown",
      "source": [
        "Q-14 What is the role of try and except in exception handling ?"
      ],
      "metadata": {
        "id": "vmhSDaq7O1W_"
      }
    },
    {
      "cell_type": "markdown",
      "source": [
        "SOL -  Try and except blocks play a crucial role in exception handling, allowing you to manage errors or exceptional situations in a controlled manner.try Block – Identifying and Catching Potential Errors. The try block contains code that might throw an exception and the catch block handles specific exceptions by providing custom code."
      ],
      "metadata": {
        "id": "obp9689dPBMh"
      }
    },
    {
      "cell_type": "markdown",
      "source": [
        "Q-15 How does python's garbadge collection system work ?"
      ],
      "metadata": {
        "id": "pRQe2A0HPCLF"
      }
    },
    {
      "cell_type": "markdown",
      "source": [
        "SOL - Garbadge collection is an automatic memory allocation and deallocation system. So the garbadge collection is basicaly a memory collecton technique used in python to automatically reclaim memory that is no longer accessible or in use by the application."
      ],
      "metadata": {
        "id": "Fd0vxXQfPM9s"
      }
    },
    {
      "cell_type": "code",
      "source": [
        "x = [1, 2, 3]\n",
        "\n",
        "# Increment reference count\n",
        "y = x\n",
        "\n",
        "# Decrement reference count\n",
        "y = None\n"
      ],
      "metadata": {
        "id": "oig-YAB3cw7N"
      },
      "execution_count": null,
      "outputs": []
    },
    {
      "cell_type": "markdown",
      "source": [
        "Q-16 What is the purpose of the else block in exception handling ?"
      ],
      "metadata": {
        "id": "bvjqpr41PN1J"
      }
    },
    {
      "cell_type": "markdown",
      "source": [
        "SOL - Exception handling is unexpected event sometimes its called run time error where in this in else block if there is no exception then this block will be executed. So we can say that you can use the else keyword to define a block of code to be executed if no errors were raised."
      ],
      "metadata": {
        "id": "-DZElRznPZR9"
      }
    },
    {
      "cell_type": "code",
      "source": [
        "try:\n",
        "  print(\"Hello\")\n",
        "except:\n",
        "  print(\"Something went wrong\")\n",
        "else:\n",
        "  print(\"Nothing went wrong\")"
      ],
      "metadata": {
        "id": "cWjg25mjeG5T"
      },
      "execution_count": null,
      "outputs": []
    },
    {
      "cell_type": "markdown",
      "source": [
        "Q-17 What are the common logging levels in python ?"
      ],
      "metadata": {
        "id": "L7jAqMcbPaYR"
      }
    },
    {
      "cell_type": "markdown",
      "source": [
        "SOL - These logging moduls are already a part of python standard library. So we need to just import the logging modules and everything is good to go.\n",
        "There are currently six logging levels in python -\n",
        " - Notset 0 : This is the initial default setting of a log when it is created. It is not really relevant and most developers will not even take notice of this category. In many circles, it has already become nonessential. The root log is usually created with level WARNING.\n",
        " - Debug = 10: This level gives detailed information, useful only when a problem is being diagnosed.\n",
        " - Info = 20: This is used to confirm that everything is working as it should.\n",
        " - Warning = 30: This level indicates that something unexpected has happened or some problem is about to happen in the near future.\n",
        " - Error = 40:  As it implies, an error has occurred. The software was unable to perform some function.\n",
        " - Critical = 50: A serious error has occurred. The program itself may shut down or not be able to continue running properly."
      ],
      "metadata": {
        "id": "Q8cLnn7OPfAU"
      }
    },
    {
      "cell_type": "markdown",
      "source": [
        "Q-18 What is the difference between os.fork() and multiprocessing in python ?"
      ],
      "metadata": {
        "id": "OLR2t6RXPf2B"
      }
    },
    {
      "cell_type": "markdown",
      "source": [
        "SOl - multiprocessing is a package that supports spawning and fork processes using an API similar to the threading module.The multiprocessing module also introduces APIs which do not have analogs in the threading module.Python’s multiprocessing library provides a powerful way to leverage multiple processor cores for concurrent execution, enhancing the performance of computationally intensive tasks.\n",
        "On the other hand the os.fork() is This fork method works on creating the exact clone or copy of the parent process. i.e resources utilised or altered by the parent process will be accessed by the child. But it is mainly used in linux environment."
      ],
      "metadata": {
        "id": "_Z6fbDZXPwSk"
      }
    },
    {
      "cell_type": "markdown",
      "source": [
        "Q-19 What is the importance of closing a file in python ?"
      ],
      "metadata": {
        "id": "XWNtCsN2PxS7"
      }
    },
    {
      "cell_type": "markdown",
      "source": [
        "SOL - Performing write operations for each command can be expensive. For this reason, the Python default is to use a buffer that collects write operations. When the buffer gets full, or when the file is closed explicitly, the buffer is flushed, and the write operation is complete.\n",
        "We also like it will be used in -\n",
        " - Resource Management\n",
        " - Data Integrity\n",
        " - Avoiding File Locking Issues\n",
        " - Better Code Practice\n"
      ],
      "metadata": {
        "id": "ALoAHDOLP4Qf"
      }
    },
    {
      "cell_type": "code",
      "source": [
        "file = open('example.txt', 'r')\n",
        "\n",
        "file.close()  # Close the file when done\n"
      ],
      "metadata": {
        "id": "9FukHtjplczi"
      },
      "execution_count": null,
      "outputs": []
    },
    {
      "cell_type": "markdown",
      "source": [
        "Q-20 What is difference between file.read() and file.readline() in python ?"
      ],
      "metadata": {
        "id": "dLV2IlDiP5QB"
      }
    },
    {
      "cell_type": "markdown",
      "source": [
        "SOL - In Python, file.read() and file.readline() are both methods used to read data from a file, but they behave differently in how they retrieve and process the content.\n",
        " - file.read() Reads the entire file content (or a specified number of bytes if given as an argument).\n",
        " - file.readline() Reads one line at a time from the file."
      ],
      "metadata": {
        "id": "cacy1V73QJic"
      }
    },
    {
      "cell_type": "markdown",
      "source": [
        "Q-21 What is the logging module in python used for ?"
      ],
      "metadata": {
        "id": "C1z6gpTzQKVg"
      }
    },
    {
      "cell_type": "markdown",
      "source": [
        "SOL - The logging module in Python is used for tracking and recording events or messages that occur during the execution of a program. It allows developers to log messages at various levels (e.g., DEBUG, INFO, WARNING, ERROR, CRITICAL) to help diagnose issues, monitor application behavior, and record important runtime information."
      ],
      "metadata": {
        "id": "mHFzgd9vQUsy"
      }
    },
    {
      "cell_type": "markdown",
      "source": [
        "Q-22 What is os module in python used for in file handling ?"
      ],
      "metadata": {
        "id": "CTbZSkcoQVfT"
      }
    },
    {
      "cell_type": "markdown",
      "source": [
        "SOL - The OS module in Python provides functions for interacting with the operating system. OS comes under Python’s standard utility modules. This module provides a portable way of using operating system-dependent functionality. The os module in Python provides a way to interact with the operating system and perform various file-related operations, such as file manipulation, directory management, and interacting with the file system."
      ],
      "metadata": {
        "id": "XVkTSj8EQhZy"
      }
    },
    {
      "cell_type": "markdown",
      "source": [
        "Q-23 What are the challanges associated with memory management in python ?"
      ],
      "metadata": {
        "id": "Ez-KQ0E_QiH4"
      }
    },
    {
      "cell_type": "markdown",
      "source": [
        "SOL - The memory manager is responsible for these kinds of tasks by periodically running to clean up, allocate, and manage the memory.Python manages objects by using reference counting. This means that the memory manager keeps track of the number of references to each object in the program.it is the Python memory manager that handles most of the dirty work related to memory management so that you can just focus on your code."
      ],
      "metadata": {
        "id": "b8zhmVWVQrZ6"
      }
    },
    {
      "cell_type": "markdown",
      "source": [
        "Q-24 How do you rase an exception manually in python ?"
      ],
      "metadata": {
        "id": "WRoF59wjQsXY"
      }
    },
    {
      "cell_type": "markdown",
      "source": [
        "SOL - We can use 'raise' keyword to raise an exception manually. This exception will allow you to throw an exception with a custom error message.\n"
      ],
      "metadata": {
        "id": "EmlyUlioQ0Ta"
      }
    },
    {
      "cell_type": "code",
      "source": [
        "raise ExceptionType(\"Error message\")\n"
      ],
      "metadata": {
        "id": "1TL7CtHWpSBk"
      },
      "execution_count": null,
      "outputs": []
    },
    {
      "cell_type": "markdown",
      "source": [
        "Q-25 Why is it important to use multithreading in certain applications ?"
      ],
      "metadata": {
        "id": "ayChVoJ6Q09q"
      }
    },
    {
      "cell_type": "markdown",
      "source": [
        "SOL - Multithreading makes multitasking possible when it breaks programs into smaller, executable threads.  So we can say that it allow the simultanious execution of multiple task within a single program. It also enhances performance in scenarios that involve concurrency.\n",
        " - Enhanced Performance Through Parallelism\n",
        " - Improved Responsiveness\n",
        " - Efficient Resource Utilization\n",
        " - Real-Time Applications"
      ],
      "metadata": {
        "id": "Jg-43kUERzv0"
      }
    },
    {
      "cell_type": "markdown",
      "source": [
        "## Practical Questions"
      ],
      "metadata": {
        "id": "ew8O4srkR1I5"
      }
    },
    {
      "cell_type": "markdown",
      "source": [
        "Q-1 How can you open a file for writing in python and write a string to it ?"
      ],
      "metadata": {
        "id": "-ajDENNcR6Wq"
      }
    },
    {
      "cell_type": "code",
      "source": [
        "with open(\"example.txt\", \"w\") as file:\n",
        "\n",
        "    file.write(\"Hello, we have open a file \")"
      ],
      "metadata": {
        "id": "rHVjnD34SMel"
      },
      "execution_count": null,
      "outputs": []
    },
    {
      "cell_type": "markdown",
      "source": [
        "Q-2 Write a python programme to read the contents of a file and print each line ?"
      ],
      "metadata": {
        "id": "NxPrJj4uSM3i"
      }
    },
    {
      "cell_type": "code",
      "source": [
        "with open(\"example.txt\", \"r\") as file:\n",
        "\n",
        "    for line in file:\n",
        "\n",
        "        print(line.strip())"
      ],
      "metadata": {
        "id": "BB-ILxD0SYPd"
      },
      "execution_count": null,
      "outputs": []
    },
    {
      "cell_type": "markdown",
      "source": [
        "Q-3 How would you handle a case where the file doesn't exist while trying to open for reading ?"
      ],
      "metadata": {
        "id": "7U0niobgSYho"
      }
    },
    {
      "cell_type": "code",
      "source": [
        "try:\n",
        "\n",
        "    with open(\"example.txt\", \"r\") as file:\n",
        "        for line in file:\n",
        "            print(line.strip())\n",
        "except FileNotFoundError:\n",
        "\n",
        "    print(\"Error: The file does not exist.\")"
      ],
      "metadata": {
        "id": "PgRtSVz9StpN"
      },
      "execution_count": null,
      "outputs": []
    },
    {
      "cell_type": "markdown",
      "source": [
        "Q-4 Write a python script that reads from one file and write its content to another file ?"
      ],
      "metadata": {
        "id": "9CMR4NokSuJj"
      }
    },
    {
      "cell_type": "code",
      "source": [
        "with open(\"source.txt\", \"r\") as source_file, open(\"destination.txt\", \"w\") as destination_file:\n",
        "\n",
        "    for line in source_file:\n",
        "\n",
        "        destination_file.write(line)\n",
        "\n",
        "print(\"File content has been successfully copied!\")"
      ],
      "metadata": {
        "id": "2hlRDnc7S-Kw"
      },
      "execution_count": null,
      "outputs": []
    },
    {
      "cell_type": "markdown",
      "source": [
        "Q-5 How would you catch and handle division by zero error in python ?"
      ],
      "metadata": {
        "id": "TAMFVtKgS-fC"
      }
    },
    {
      "cell_type": "code",
      "source": [
        "try:\n",
        "    numerator = 10\n",
        "    denominator = 0\n",
        "    result = numerator / denominator\n",
        "    print(f\"Result: {result}\")\n",
        "except ZeroDivisionError:\n",
        "\n",
        "    print(\"Error: Division by zero is not allowed.\")"
      ],
      "metadata": {
        "id": "1B3Wd21ATLZn"
      },
      "execution_count": null,
      "outputs": []
    },
    {
      "cell_type": "markdown",
      "source": [
        "Q-6 Write a python programm that logs an error message to a logs file when a division by zero exception occur ?"
      ],
      "metadata": {
        "id": "XjjaFYNeTLk3"
      }
    },
    {
      "cell_type": "code",
      "source": [
        "import logging\n",
        "\n",
        "logging.basicConfig(\n",
        "    filename=\"error_logs.txt\",\n",
        "    level=logging.ERROR,\n",
        "    format=\"%(asctime)s - %(levelname)s - %(message)s\"\n",
        ")\n",
        "\n",
        "try:\n",
        "\n",
        "    numerator = 10\n",
        "    denominator = 0\n",
        "    result = numerator / denominator\n",
        "    print(f\"Result: {result}\")\n",
        "except ZeroDivisionError:\n",
        "\n",
        "    logging.error(\"Division by zero error occurred.\")\n",
        "    print(\"An error occurred. Check 'error_logs.txt' for details.\")"
      ],
      "metadata": {
        "id": "LbkGjWcbTk1w"
      },
      "execution_count": null,
      "outputs": []
    },
    {
      "cell_type": "markdown",
      "source": [
        "Q-7 How do you log information at different levels (INFO, ERROR, WARNING) in python using the logging module ?"
      ],
      "metadata": {
        "id": "IXcAP0nATlCf"
      }
    },
    {
      "cell_type": "code",
      "source": [
        "import logging\n",
        "\n",
        "\n",
        "logging.basicConfig(\n",
        "    filename=\"app_logs.txt\",\n",
        "    level=logging.DEBUG,\n",
        "    format=\"%(asctime)s - %(levelname)s - %(message)s\"\n",
        ")\n",
        "\n",
        "logging.debug(\"This is a debug message (useful for diagnosing issues).\")\n",
        "logging.info(\"This is an info message (general operational information).\")\n",
        "logging.warning(\"This is a warning message (potential issue detected).\")\n",
        "logging.error(\"This is an error message (something went wrong).\")\n",
        "logging.critical(\"This is a critical message (serious problem).\")"
      ],
      "metadata": {
        "id": "1OodD0b4T6gt"
      },
      "execution_count": null,
      "outputs": []
    },
    {
      "cell_type": "markdown",
      "source": [
        "Q-8 Write a programm to handle a file opening error using exception handling ?"
      ],
      "metadata": {
        "id": "0j6200DXT6q0"
      }
    },
    {
      "cell_type": "code",
      "source": [
        "try:\n",
        "\n",
        "    with open(\"non_existent_file.txt\", \"r\") as file:\n",
        "        content = file.read()\n",
        "        print(content)\n",
        "except FileNotFoundError:\n",
        "    print(\"Error: The file does not exist.\")\n",
        "\n",
        "except PermissionError:\n",
        "    print(\"Error: You do not have permission to access the file.\")\n",
        "\n",
        "except Exception as e:\n",
        "    print(f\"An unexpected error occurred: {e}\")"
      ],
      "metadata": {
        "id": "vldY-CImUIUB"
      },
      "execution_count": null,
      "outputs": []
    },
    {
      "cell_type": "markdown",
      "source": [
        "Q-9 How can you read a file line by line and store its content in a list in python ?"
      ],
      "metadata": {
        "id": "mZ-vO28ZUIbT"
      }
    },
    {
      "cell_type": "code",
      "source": [
        "lines = []\n",
        "with open(\"filename.txt\", \"r\") as file:\n",
        "    for line in file:\n",
        "        lines.append(line.strip())"
      ],
      "metadata": {
        "id": "-1axTqxRUWXg"
      },
      "execution_count": null,
      "outputs": []
    },
    {
      "cell_type": "markdown",
      "source": [
        "Q-10 how can you append data to an existing file in python ?"
      ],
      "metadata": {
        "id": "SkVwMeulUWh-"
      }
    },
    {
      "cell_type": "code",
      "source": [
        "with open(\"filename.txt\", \"a\") as file:\n",
        "    file.write(\"This is the new line of text.\\n\")"
      ],
      "metadata": {
        "id": "PXYjZcBRUf_I"
      },
      "execution_count": null,
      "outputs": []
    },
    {
      "cell_type": "markdown",
      "source": [
        "Q-11 write a python program that uses a try-except block to handle an error when attempting to access a dictionary key that doesn't exist ?"
      ],
      "metadata": {
        "id": "ovckYDRBUgHt"
      }
    },
    {
      "cell_type": "code",
      "source": [
        "data = {\n",
        "    \"name\": \"Alice\",\n",
        "    \"age\": 25,\n",
        "    \"city\": \"New York\"\n",
        "}\n",
        "\n",
        "key_to_access = \"country\"\n",
        "\n",
        "try:\n",
        "\n",
        "    value = data[key_to_access]\n",
        "    print(f\"The value for '{key_to_access}' is {value}.\")\n",
        "except KeyError:\n",
        "    print(f\"Error: The key '{key_to_access}' does not exist in the dictionary.\")"
      ],
      "metadata": {
        "id": "vXbRL4M5U5k2"
      },
      "execution_count": null,
      "outputs": []
    },
    {
      "cell_type": "markdown",
      "source": [
        "Q-12 Write a python program that demonstrates using multiple except blocks to handle different type of exceptions ?"
      ],
      "metadata": {
        "id": "mB3h9G9RU5v2"
      }
    },
    {
      "cell_type": "code",
      "source": [
        "try:\n",
        "\n",
        "    num = int(input(\"Enter a number: \"))\n",
        "    divisor = int(input(\"Enter a divisor: \"))\n",
        "\n",
        "\n",
        "    result = num / divisor\n",
        "    print(f\"Result: {result}\")\n",
        "\n",
        "    my_dict = {\"a\": 1, \"b\": 2}\n",
        "    print(f\"Value for key 'c': {my_dict['c']}\")\n",
        "\n",
        "except ValueError:\n",
        "    print(\"Error: Invalid input. Please enter numeric values.\")\n",
        "\n",
        "except ZeroDivisionError:\n",
        "    print(\"Error: Division by zero is not allowed.\")\n",
        "\n",
        "except KeyError:\n",
        "    print(\"Error: The key does not exist in the dictionary.\")\n",
        "\n",
        "except Exception as e:\n",
        "    print(f\"An unexpected error occurred: {e}\")"
      ],
      "metadata": {
        "id": "9trgwSCmVNey"
      },
      "execution_count": null,
      "outputs": []
    },
    {
      "cell_type": "markdown",
      "source": [
        "Q-13 How would you check if a file exist before attempting to read it in python ?"
      ],
      "metadata": {
        "id": "iLOfhmTiVNpz"
      }
    },
    {
      "cell_type": "code",
      "source": [
        "import os\n",
        "\n",
        "file_path = \"example.txt\"\n",
        "\n",
        "if os.path.exists(file_path):\n",
        "    with open(file_path, \"r\") as file:\n",
        "        content = file.read()\n",
        "        print(\"File content:\")\n",
        "        print(content)\n",
        "else:\n",
        "    print(f\"Error: The file '{file_path}' does not exist.\")"
      ],
      "metadata": {
        "id": "9tHhzArSVdSP"
      },
      "execution_count": null,
      "outputs": []
    },
    {
      "cell_type": "markdown",
      "source": [
        "Q-14 write a program that uses the logging module to log both information and error messages ?"
      ],
      "metadata": {
        "id": "5K_IutSXVdZS"
      }
    },
    {
      "cell_type": "code",
      "source": [
        "import logging\n",
        "\n",
        "logging.basicConfig(\n",
        "    level=logging.DEBUG,\n",
        "    format=\"%(asctime)s - %(levelname)s - %(message)s\",\n",
        "    filename=\"app.log\",\n",
        "    filemode=\"a\"\n",
        ")\n",
        "\n",
        "def divide_numbers(a, b):\n",
        "    try:\n",
        "        logging.info(f\"Attempting to divide {a} by {b}.\")\n",
        "        result = a / b\n",
        "        logging.info(f\"Division successful. Result: {result}.\")\n",
        "        return result\n",
        "    except ZeroDivisionError as e:\n",
        "        logging.error(f\"Error: Division by zero. {e}\")\n",
        "        return None\n",
        "    except Exception as e:\n",
        "        logging.error(f\"Unexpected error occurred: {e}\")\n",
        "        return None\n",
        "\n",
        "\n",
        "if __name__ == \"__main__\":\n",
        "    logging.info(\"Program started.\")\n",
        "\n",
        "    divide_numbers(10, 2)\n",
        "    divide_numbers(10, 0)\n",
        "    divide_numbers(\"10\", 2)\n",
        "\n",
        "    logging.info(\"Program finished.\")"
      ],
      "metadata": {
        "id": "0nybrj0NVsYo"
      },
      "execution_count": null,
      "outputs": []
    },
    {
      "cell_type": "markdown",
      "source": [
        "Q-15 Write a python program that prints the content of a file and handles the case when the file is empty ?"
      ],
      "metadata": {
        "id": "FZdy9IxeVsf6"
      }
    },
    {
      "cell_type": "code",
      "source": [
        "def read_file(file_path):\n",
        "    try:\n",
        "        with open(file_path, \"r\") as file:\n",
        "            content = file.read().strip()\n",
        "            if content:\n",
        "                print(\"File Content:\")\n",
        "                print(content)\n",
        "            else:\n",
        "                print(f\"The file '{file_path}' is empty.\")\n",
        "    except FileNotFoundError:\n",
        "        print(f\"Error: The file '{file_path}' does not exist.\")\n",
        "    except Exception as e:\n",
        "        print(f\"An unexpected error occurred: {e}\")\n",
        "\n",
        "\n",
        "file_path = \"example.txt\"\n",
        "read_file(file_path)"
      ],
      "metadata": {
        "id": "s7ToXSZ5J_ib"
      },
      "execution_count": null,
      "outputs": []
    },
    {
      "cell_type": "markdown",
      "source": [
        "Q-16 Demonstrate how to use memory profiling to check the memory usage of a small program ?"
      ],
      "metadata": {
        "id": "H5XjAv50J_v_"
      }
    },
    {
      "cell_type": "code",
      "source": [
        "# note- first you need to install pip install memory-profiler\n",
        "from memory_profiler import profile\n",
        "\n",
        "@profile\n",
        "def sum_of_squares(n):\n",
        "    result = []\n",
        "    for i in range(n):\n",
        "        result.append(i ** 2)\n",
        "    return result\n",
        "\n",
        "if __name__ == \"__main__\":\n",
        "    n = 1000000\n",
        "    sum_of_squares(n)"
      ],
      "metadata": {
        "id": "yL3igw_0KSyu"
      },
      "execution_count": null,
      "outputs": []
    },
    {
      "cell_type": "markdown",
      "source": [
        "Q-17 Write a python program to create and write a list of numbers to a file, one number per line ?"
      ],
      "metadata": {
        "id": "70yf1Sb9KS9t"
      }
    },
    {
      "cell_type": "code",
      "source": [
        "def write_numbers_to_file(file_path, numbers):\n",
        "    try:\n",
        "        with open(file_path, \"w\") as file:\n",
        "            for number in numbers:\n",
        "                file.write(f\"{number}\\n\")\n",
        "        print(f\"Numbers have been successfully written to {file_path}\")\n",
        "    except Exception as e:\n",
        "        print(f\"An error occurred: {e}\")\n",
        "\n",
        "numbers = [1, 2, 3, 4, 5, 6, 7, 8, 9, 10]\n",
        "file_path = \"numbers.txt\"\n",
        "\n",
        "write_numbers_to_file(file_path, numbers)"
      ],
      "metadata": {
        "id": "G3t_SpVvKlDx"
      },
      "execution_count": null,
      "outputs": []
    },
    {
      "cell_type": "markdown",
      "source": [
        "Q-18 How would you implement a basic logging setup that logs to a file with rotation after 1MB ?"
      ],
      "metadata": {
        "id": "nnCuyP4xKlN8"
      }
    },
    {
      "cell_type": "code",
      "source": [
        "import logging\n",
        "from logging.handlers import RotatingFileHandler\n",
        "\n",
        "log_file = 'app.log'\n",
        "log_size = 1 * 1024 * 1024\n",
        "backup_count = 3\n",
        "\n",
        "handler = RotatingFileHandler(log_file, maxBytes=log_size, backupCount=backup_count)\n",
        "\n",
        "formatter = logging.Formatter('%(asctime)s - %(levelname)s - %(message)s')\n",
        "handler.setFormatter(formatter)\n",
        "\n",
        "\n",
        "logger = logging.getLogger()\n",
        "logger.setLevel(logging.INFO)\n",
        "logger.addHandler(handler)\n",
        "\n",
        "logger.info(\"This is an informational message.\")\n",
        "logger.error(\"This is an error message.\")\n",
        "logger.warning(\"This is a warning message.\")"
      ],
      "metadata": {
        "id": "Fy2xjK_ZK4rO"
      },
      "execution_count": null,
      "outputs": []
    },
    {
      "cell_type": "markdown",
      "source": [
        "Q-19 Write a program that handles both IndexError and KeyError using a try-except block ?"
      ],
      "metadata": {
        "id": "yJDz5drYK40W"
      }
    },
    {
      "cell_type": "code",
      "source": [
        "def access_elements():\n",
        "    my_list = [10, 20, 30]\n",
        "    my_dict = {\"name\": \"Alice\", \"age\": 25}\n",
        "\n",
        "    try:\n",
        "        index = 3\n",
        "        print(f\"List element at index {index}: {my_list[index]}\")\n",
        "\n",
        "        key = \"address\"\n",
        "        print(f\"Value for key '{key}': {my_dict[key]}\")\n",
        "\n",
        "    except IndexError:\n",
        "        print(\"Error: List index is out of range.\")\n",
        "\n",
        "    except KeyError:\n",
        "        print(\"Error: Key not found in the dictionary.\")\n",
        "\n",
        "    except Exception as e:\n",
        "        print(f\"An unexpected error occurred: {e}\")\n",
        "\n",
        "access_elements()"
      ],
      "metadata": {
        "id": "LnxpvRxbLOUH"
      },
      "execution_count": null,
      "outputs": []
    },
    {
      "cell_type": "markdown",
      "source": [
        "Q-20 How would you open a file and read its contents using a context manager in Python ?"
      ],
      "metadata": {
        "id": "dDIIl5D7LObX"
      }
    },
    {
      "cell_type": "code",
      "source": [
        "file_path = 'example.txt'\n",
        "\n",
        "with open(file_path, 'r') as file:\n",
        "    content = file.read()\n",
        "    print(content)"
      ],
      "metadata": {
        "id": "8tVAz5tsLePZ"
      },
      "execution_count": null,
      "outputs": []
    },
    {
      "cell_type": "markdown",
      "source": [
        "Q-21 Write a python program that reads a file and print the number of occurences of a specific word ?"
      ],
      "metadata": {
        "id": "VV9fi4qMLeYN"
      }
    },
    {
      "cell_type": "code",
      "source": [
        "def count_word_occurrences(file_path, word):\n",
        "    try:\n",
        "        with open(file_path, 'r') as file:\n",
        "            content = file.read()\n",
        "            content = content.lower()\n",
        "            word = word.lower()\n",
        "            word_count = content.count(word)\n",
        "\n",
        "        print(f\"The word '{word}' appears {word_count} times in the file.\")\n",
        "\n",
        "    except FileNotFoundError:\n",
        "        print(f\"Error: The file '{file_path}' does not exist.\")\n",
        "    except Exception as e:\n",
        "        print(f\"An unexpected error occurred: {e}\")\n",
        "\n",
        "\n",
        "file_path = 'example.txt'\n",
        "word_to_search = 'python'\n",
        "count_word_occurrences(file_path, word_to_search)"
      ],
      "metadata": {
        "id": "cJcy8DVXLuAv"
      },
      "execution_count": null,
      "outputs": []
    },
    {
      "cell_type": "markdown",
      "source": [
        "Q-22 How can you check if a file is empty before attempting to read its content ?"
      ],
      "metadata": {
        "id": "3YUZdsSmLuJ1"
      }
    },
    {
      "cell_type": "code",
      "source": [
        "import os\n",
        "\n",
        "def is_file_empty(file_path):\n",
        "    return os.path.getsize(file_path) == 0\n",
        "\n",
        "def read_file_if_not_empty(file_path):\n",
        "    if is_file_empty(file_path):\n",
        "        print(f\"The file '{file_path}' is empty.\")\n",
        "    else:\n",
        "        with open(file_path, 'r') as file:\n",
        "            content = file.read()\n",
        "            print(f\"File content:\\n{content}\")\n",
        "\n",
        "\n",
        "file_path = 'example.txt'\n",
        "read_file_if_not_empty(file_path)"
      ],
      "metadata": {
        "id": "eRdQVfXOL8W9"
      },
      "execution_count": null,
      "outputs": []
    },
    {
      "cell_type": "markdown",
      "source": [
        "Q-23 Write a python program that writes to a log file when an error occurs during file handling ?"
      ],
      "metadata": {
        "id": "o-rfhA3hL8gG"
      }
    },
    {
      "cell_type": "code",
      "source": [
        "import logging\n",
        "\n",
        "logging.basicConfig(\n",
        "    filename='error_log.txt',\n",
        "    level=logging.ERROR,\n",
        "    format='%(asctime)s - %(levelname)s - %(message)s'\n",
        ")\n",
        "\n",
        "def write_to_file(file_path, content):\n",
        "    try:\n",
        "        with open(file_path, 'w') as file:\n",
        "            file.write(content)\n",
        "        print(f\"Content has been successfully written to {file_path}\")\n",
        "    except Exception as e:\n",
        "        logging.error(f\"Error occurred while writing to {file_path}: {e}\")\n",
        "\n",
        "def read_from_file(file_path):\n",
        "    try:\n",
        "        with open(file_path, 'r') as file:\n",
        "            content = file.read()\n",
        "            print(f\"File content:\\n{content}\")\n",
        "    except Exception as e:\n",
        "        logging.error(f\"Error occurred while reading from {file_path}: {e}\")\n",
        "\n",
        "file_path = 'example.txt'\n",
        "content = \"This is a test content.\"\n",
        "\n",
        "write_to_file(file_path, content)\n",
        "\n",
        "read_from_file(file_path)"
      ],
      "metadata": {
        "id": "DAiHAGCrMP9V"
      },
      "execution_count": null,
      "outputs": []
    }
  ]
}