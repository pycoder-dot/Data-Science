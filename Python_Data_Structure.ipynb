{
  "nbformat": 4,
  "nbformat_minor": 0,
  "metadata": {
    "colab": {
      "provenance": []
    },
    "kernelspec": {
      "name": "python3",
      "display_name": "Python 3"
    },
    "language_info": {
      "name": "python"
    }
  },
  "cells": [
    {
      "cell_type": "markdown",
      "source": [
        "# **Assignment - Python Data Structure**"
      ],
      "metadata": {
        "id": "UmVY6_4gSzGT"
      }
    },
    {
      "cell_type": "markdown",
      "source": [
        "Data Types and Structure questions\n"
      ],
      "metadata": {
        "id": "IybxICv4TBCJ"
      }
    },
    {
      "cell_type": "markdown",
      "source": [
        "Q-1 What are data structure, and why are they important ?"
      ],
      "metadata": {
        "id": "r_Cp_GCaTN1P"
      }
    },
    {
      "cell_type": "markdown",
      "source": [
        "   SOL - Data Structure is like a storage for structuring and organising the data in a understandable formate. It is a way of arranging data on a computer so that it can be accessed and update efficiently. It is also used for accesing, managing and retrieving data."
      ],
      "metadata": {
        "id": "VVLOhwmEUSlD"
      }
    },
    {
      "cell_type": "markdown",
      "source": [
        "Q-2 Explain the diffrence between mutable and immutable data types with examples ?"
      ],
      "metadata": {
        "id": "hqbvve70Vb6h"
      }
    },
    {
      "cell_type": "markdown",
      "source": [
        "SOL - Mutable data types are data types in which we can change, update and delete data from data types as well as manage them.\n",
        "Lists, sets,Dictionaries are the best examples of mutable data types.\n",
        "On the other hand immutable data types are those in which we can't change anything after storing.\n",
        "Tuples, strings are the best known as a immutable data types."
      ],
      "metadata": {
        "id": "u5pNew60WJeR"
      }
    },
    {
      "cell_type": "markdown",
      "source": [
        "Q-3 What are the main difference between lists and tuples in python ?"
      ],
      "metadata": {
        "id": "IqXBttcdXEno"
      }
    },
    {
      "cell_type": "markdown",
      "source": [
        "SOL - The main difference between list and tuple is that in list we can modify data but in tuples we can'nt modify data."
      ],
      "metadata": {
        "id": "axhrqzFQyPl4"
      }
    },
    {
      "cell_type": "markdown",
      "source": [
        "Q-4 Describe how dictionaries store data ?"
      ],
      "metadata": {
        "id": "btfJjoSmyld5"
      }
    },
    {
      "cell_type": "markdown",
      "source": [
        "SOL - Dictionaries use key value function for storing the data."
      ],
      "metadata": {
        "id": "5uLvxLXpys9F"
      }
    },
    {
      "cell_type": "markdown",
      "source": [
        "Q-5 Why might you use set instead of a list in python ?"
      ],
      "metadata": {
        "id": "yArg3Re2y54h"
      }
    },
    {
      "cell_type": "markdown",
      "source": [
        "SOL - Set is known for it's uniqueness in data, So if I want my information organise and unique also get rid of data redundency so that I can use set for it. But in list there can be duplicacy in data which is not good for organise data."
      ],
      "metadata": {
        "id": "Nb8a7wSAzIHc"
      }
    },
    {
      "cell_type": "markdown",
      "source": [
        "Q-6 What is a string in python, and how it is different from list ?"
      ],
      "metadata": {
        "id": "buz9VhSIzd-e"
      }
    },
    {
      "cell_type": "markdown",
      "source": [
        "SOL - String is a collection of alphabets in python or we can say that characters in between single ior double quotes in python. But the list is a sequence of items where any item can be anything."
      ],
      "metadata": {
        "id": "pjm_Lnvyz4bt"
      }
    },
    {
      "cell_type": "markdown",
      "source": [
        "Q-7 How do tuple ensure data integrity in python ?"
      ],
      "metadata": {
        "id": "iXGBcvcL04Du"
      }
    },
    {
      "cell_type": "markdown",
      "source": [
        "SOL - Tuples are iummutable in nature so it can'nt be change or modify it ensure its content is reamin unchange throughout their lifecycle. It will gaurantieeng the integrity."
      ],
      "metadata": {
        "id": "vRCD1H571NWO"
      }
    },
    {
      "cell_type": "markdown",
      "source": [
        "Q-8 What is a hash table, and how does it relate to dictionaries in python ?"
      ],
      "metadata": {
        "id": "5w33D2i516B3"
      }
    },
    {
      "cell_type": "markdown",
      "source": [
        "SOL - A hash table is structure storage system for key value pairs in array formate. It will be having unique index value for each data value."
      ],
      "metadata": {
        "id": "FA1GQTHF2PWv"
      }
    },
    {
      "cell_type": "markdown",
      "source": [
        "Q-9 Can list contain different data types in python ?"
      ],
      "metadata": {
        "id": "4AzEn7sE29xA"
      }
    },
    {
      "cell_type": "markdown",
      "source": [
        "SOL - Yes, A list can contain different data types in python including string and float."
      ],
      "metadata": {
        "id": "UM6X4MbE3RAF"
      }
    },
    {
      "cell_type": "markdown",
      "source": [
        "Q-10 Explain why strings are immutable in python ?"
      ],
      "metadata": {
        "id": "Mv9Ui0Jh3m0l"
      }
    },
    {
      "cell_type": "markdown",
      "source": [
        "SOL - Immutability is something where we can store and manage our data easily and safely as well as immutability of python string is very usefull in hashing and creating the unique keys for dictionaries.\n",
        "It will help with better efficiency, thread safety and performence optimization."
      ],
      "metadata": {
        "id": "yxNvFKkw4CPd"
      }
    },
    {
      "cell_type": "markdown",
      "source": [
        "Q-11 What advantages do dictionaries offer over list for certain task ?"
      ],
      "metadata": {
        "id": "x_vHebBq5V47"
      }
    },
    {
      "cell_type": "markdown",
      "source": [
        "SOL - The main advantage of dictionaries is its key value feature. With the help of key we can identified every different data types with its key as well as we can get uniqueness in storing data."
      ],
      "metadata": {
        "id": "5qowiBx25r43"
      }
    },
    {
      "cell_type": "markdown",
      "source": [
        "Q-12 Describe a scenario where using a tuple will be preferable over list ?"
      ],
      "metadata": {
        "id": "38LzM-SZ6hky"
      }
    },
    {
      "cell_type": "markdown",
      "source": [
        "SOL - If you want your data to store for long term also no one can change it so you can use tuple over list. Tuples are more fast and memory-efficient than list."
      ],
      "metadata": {
        "id": "asnYNToI9RcC"
      }
    },
    {
      "cell_type": "markdown",
      "source": [
        "Q-13 How do sets handle duplicate values in python ?"
      ],
      "metadata": {
        "id": "UI2DhRcN-Jo8"
      }
    },
    {
      "cell_type": "markdown",
      "source": [
        "SOL - Sets are immutable as well as unordered in python. It always work on do not duplicate values. Data can appear in different order every time they used."
      ],
      "metadata": {
        "id": "jh18Q-HA-Vbf"
      }
    },
    {
      "cell_type": "markdown",
      "source": [
        "Q-14 How does the \"in\" keyword work differently for list and dictionaries ?"
      ],
      "metadata": {
        "id": "0pKN38wS_Bl7"
      }
    },
    {
      "cell_type": "markdown",
      "source": [
        "SOL - The 'in' keyword in Python returns True if a certain element is present in a Python object, else it will return False. Also to check if a value is present in a list, tuple, range, string, etc. To iterate through a sequence in a for loop."
      ],
      "metadata": {
        "id": "KEtfYk4h_Twx"
      }
    },
    {
      "cell_type": "markdown",
      "source": [
        "Q-15 Can you modify the elements of a tuple ? Explain why or why not ?"
      ],
      "metadata": {
        "id": "lvehvwDCAAXz"
      }
    },
    {
      "cell_type": "markdown",
      "source": [
        "SOL - No, We can'nt change the element of a tuple because of its immutable nature."
      ],
      "metadata": {
        "id": "RrYgppf4AT7x"
      }
    },
    {
      "cell_type": "markdown",
      "source": [
        "Q-16 What is a nested dictionary, and give an example of its use case ?"
      ],
      "metadata": {
        "id": "wRZpPv_AAj_s"
      }
    },
    {
      "cell_type": "markdown",
      "source": [
        "SOL - Nested dictionary means dictionary inside a dictionary. Its use case is a shopping store having its substores for storing the data."
      ],
      "metadata": {
        "id": "67h-LNl6BBhL"
      }
    },
    {
      "cell_type": "markdown",
      "source": [
        "Q-17  Describe the time complexity of accessing elements in a dictionary ?"
      ],
      "metadata": {
        "id": "qd_gWeptBv3e"
      }
    },
    {
      "cell_type": "markdown",
      "source": [
        "SOL - The average time complexity of accessing elements is O(1)."
      ],
      "metadata": {
        "id": "HPLriAWyCDRX"
      }
    },
    {
      "cell_type": "markdown",
      "source": [
        "Q-18 In what situations are list preffered over dictionairies ?"
      ],
      "metadata": {
        "id": "aTQ4kQenCWiL"
      }
    },
    {
      "cell_type": "markdown",
      "source": [
        "SOL - Use a list if you have a number of related items which need to be accessed without a key - e.g. a list of person names."
      ],
      "metadata": {
        "id": "lNuvVkQaCh6D"
      }
    },
    {
      "cell_type": "markdown",
      "source": [
        "Q-19 Why are dictionaries consider unordered and how does that affect data retrieval ?"
      ],
      "metadata": {
        "id": "yjM-An64C22_"
      }
    },
    {
      "cell_type": "markdown",
      "source": [
        "SOL - When we declare a list say, L=[10,20,30,40], then element ‘10’ is at 0th position, element 20 is at 1st position and so on. All element in a list are ordered and the ordering starts from leftmost element in list and moves towards the right. But for dictionary is not possible to access its element using position as element in dictionary is not ordered. You need to provide ‘key’ to access the corresponding value of the ‘key’."
      ],
      "metadata": {
        "id": "AIh73mnnDb_1"
      }
    },
    {
      "cell_type": "markdown",
      "source": [
        "Q-20 Explain the difference between a list and a dictionary in terms of data retrieval ?"
      ],
      "metadata": {
        "id": "lP7xvh3vD1QO"
      }
    },
    {
      "cell_type": "markdown",
      "source": [
        "SOL - Lists are linear in nature whereas dictionaries stored the data in key-value pairs."
      ],
      "metadata": {
        "id": "Z8g7Eaz_EN48"
      }
    },
    {
      "cell_type": "markdown",
      "source": [
        "# Practical Question"
      ],
      "metadata": {
        "id": "2rIFqP7ItVp_"
      }
    },
    {
      "cell_type": "markdown",
      "source": [
        "Q-1 Write a code to create a string with your name and print it ?"
      ],
      "metadata": {
        "id": "jAiZSXX6tbWR"
      }
    },
    {
      "cell_type": "code",
      "source": [
        "str_1 = str(input(\"Enter your name \"))\n",
        "\n",
        "print(\"Your name is \", str_1)"
      ],
      "metadata": {
        "colab": {
          "base_uri": "https://localhost:8080/"
        },
        "id": "zlg5vTTatsdT",
        "outputId": "75dcb73e-d6b9-4d10-e0e9-da9f46d5e79b"
      },
      "execution_count": 2,
      "outputs": [
        {
          "output_type": "stream",
          "name": "stdout",
          "text": [
            "Enter your name xyz\n",
            "Your name is  xyz\n"
          ]
        }
      ]
    },
    {
      "cell_type": "markdown",
      "source": [
        "Q-2 Write a code to find a length of the string \"Hello world\" ?"
      ],
      "metadata": {
        "id": "3UvoVs9AuDQw"
      }
    },
    {
      "cell_type": "code",
      "source": [
        "str_1 = \"Hello World\"\n",
        "\n",
        "print(len(str_1))"
      ],
      "metadata": {
        "colab": {
          "base_uri": "https://localhost:8080/"
        },
        "id": "QaX4-OsHuk3W",
        "outputId": "eea25045-fe22-47bf-cb12-ceaecac90e7a"
      },
      "execution_count": 3,
      "outputs": [
        {
          "output_type": "stream",
          "name": "stdout",
          "text": [
            "11\n"
          ]
        }
      ]
    },
    {
      "cell_type": "markdown",
      "source": [
        "Q-3 Write a code to slice the first three characters from the string \"Python programming\" ?"
      ],
      "metadata": {
        "id": "WOdZwU1juubk"
      }
    },
    {
      "cell_type": "code",
      "source": [
        "Str_1 = \"Python Programming\"\n",
        "\n",
        "print(Str_1[0:3])"
      ],
      "metadata": {
        "colab": {
          "base_uri": "https://localhost:8080/"
        },
        "id": "6QAkef531PE1",
        "outputId": "682e7a30-442f-4bdb-e12a-18f1c16d951a"
      },
      "execution_count": 4,
      "outputs": [
        {
          "output_type": "stream",
          "name": "stdout",
          "text": [
            "Pyt\n"
          ]
        }
      ]
    },
    {
      "cell_type": "markdown",
      "source": [
        "Q-4 Write a code to convert the string \"hello\" to uppercase ?"
      ],
      "metadata": {
        "id": "FaUJJ5pj1fVR"
      }
    },
    {
      "cell_type": "code",
      "source": [
        "str_1 = \"hello\"\n",
        "\n",
        "str_1.upper()"
      ],
      "metadata": {
        "colab": {
          "base_uri": "https://localhost:8080/",
          "height": 35
        },
        "id": "bUGo_jom1pzO",
        "outputId": "d61714b2-c2c7-4943-a083-648885c035e4"
      },
      "execution_count": 5,
      "outputs": [
        {
          "output_type": "execute_result",
          "data": {
            "text/plain": [
              "'HELLO'"
            ],
            "application/vnd.google.colaboratory.intrinsic+json": {
              "type": "string"
            }
          },
          "metadata": {},
          "execution_count": 5
        }
      ]
    },
    {
      "cell_type": "markdown",
      "source": [
        "Q-5 Write a code to replace the word \"apple\" with \"orange\" in the string \"I like apple\" ?"
      ],
      "metadata": {
        "id": "6URC_mGV11zB"
      }
    },
    {
      "cell_type": "code",
      "source": [
        "str_1 = \"I like apple\"\n",
        "\n",
        "str_2 = str_1.replace(\"apple\", \"orange\")\n",
        "print(str_2)"
      ],
      "metadata": {
        "colab": {
          "base_uri": "https://localhost:8080/"
        },
        "id": "Er30KOjw2L6q",
        "outputId": "587de05d-aef5-4385-ed5f-c3bb90e0b324"
      },
      "execution_count": 8,
      "outputs": [
        {
          "output_type": "stream",
          "name": "stdout",
          "text": [
            "I like orange\n"
          ]
        }
      ]
    },
    {
      "cell_type": "markdown",
      "source": [
        "Q-6 Write a code to create a list with numbers 1 to 5 and print it ?"
      ],
      "metadata": {
        "id": "oZOqxtaT3GIA"
      }
    },
    {
      "cell_type": "code",
      "source": [
        "num = []\n",
        "\n",
        "for i in range(1,6):\n",
        "  num.append(i)\n",
        "print(num)"
      ],
      "metadata": {
        "colab": {
          "base_uri": "https://localhost:8080/"
        },
        "id": "fOhszU---gL9",
        "outputId": "93c9084d-e735-4379-da4e-871e72043187"
      },
      "execution_count": 53,
      "outputs": [
        {
          "output_type": "stream",
          "name": "stdout",
          "text": [
            "[1, 2, 3, 4, 5]\n"
          ]
        }
      ]
    },
    {
      "cell_type": "markdown",
      "source": [
        "Q-7 Write a code to append the number 10 to the list [1,2,3,4] ?"
      ],
      "metadata": {
        "id": "q2kWSB7VC--P"
      }
    },
    {
      "cell_type": "code",
      "source": [
        "list = [1,2,3,4]\n",
        "\n",
        "list.append(10)\n",
        "print(list)"
      ],
      "metadata": {
        "colab": {
          "base_uri": "https://localhost:8080/"
        },
        "id": "z45Wkw_IDWZA",
        "outputId": "048eb97b-fd12-4da4-9178-7a62751a79b6"
      },
      "execution_count": 17,
      "outputs": [
        {
          "output_type": "stream",
          "name": "stdout",
          "text": [
            "[1, 2, 3, 4, 10]\n"
          ]
        }
      ]
    },
    {
      "cell_type": "markdown",
      "source": [
        "Q-8 Write a code to remove the number 3 from the list [1,2,3,4,5] ?"
      ],
      "metadata": {
        "id": "hhAvh6G8Dl4z"
      }
    },
    {
      "cell_type": "code",
      "source": [
        "list = [1,2,3,4,5]\n",
        "\n",
        "list.remove(3)\n",
        "print(list)"
      ],
      "metadata": {
        "colab": {
          "base_uri": "https://localhost:8080/"
        },
        "id": "c9lt5NGVD2Vm",
        "outputId": "0ba03d21-d8d9-433a-cf99-c35d29ca8688"
      },
      "execution_count": 18,
      "outputs": [
        {
          "output_type": "stream",
          "name": "stdout",
          "text": [
            "[1, 2, 4, 5]\n"
          ]
        }
      ]
    },
    {
      "cell_type": "markdown",
      "source": [
        "Q-9 Write a code to access the second element in the list ['a','b','c','d'] ?"
      ],
      "metadata": {
        "id": "8txcNN-TD_Ja"
      }
    },
    {
      "cell_type": "code",
      "source": [
        "list = ['a','b','c','d']\n",
        "\n",
        "print(list[1])"
      ],
      "metadata": {
        "colab": {
          "base_uri": "https://localhost:8080/"
        },
        "id": "n36aq7smER5F",
        "outputId": "2d7bf3e4-e827-4a12-9dcb-e7a67a0940ca"
      },
      "execution_count": 19,
      "outputs": [
        {
          "output_type": "stream",
          "name": "stdout",
          "text": [
            "b\n"
          ]
        }
      ]
    },
    {
      "cell_type": "markdown",
      "source": [
        "Q-10 Write a code to reverse the list [10,20,30,40,50] ?"
      ],
      "metadata": {
        "id": "CC24cO17Edvc"
      }
    },
    {
      "cell_type": "code",
      "source": [
        "list = [10,20,30,40,50]\n",
        "\n",
        "list.reverse()\n",
        "print(list)"
      ],
      "metadata": {
        "colab": {
          "base_uri": "https://localhost:8080/"
        },
        "id": "Lreftj6iEzWv",
        "outputId": "d576892c-85fa-4b7e-93fc-c71b063db4c4"
      },
      "execution_count": 20,
      "outputs": [
        {
          "output_type": "stream",
          "name": "stdout",
          "text": [
            "[50, 40, 30, 20, 10]\n"
          ]
        }
      ]
    },
    {
      "cell_type": "markdown",
      "source": [
        "Q-11 Write a code to create a tuple with the elements 10,20,30 and print it ?"
      ],
      "metadata": {
        "id": "j9kxa2k3FDNr"
      }
    },
    {
      "cell_type": "code",
      "source": [
        "elements = 10,20,30\n",
        "\n",
        "print(elements)"
      ],
      "metadata": {
        "colab": {
          "base_uri": "https://localhost:8080/"
        },
        "id": "hF11d0EbFRh6",
        "outputId": "d3a35e60-5ea9-4212-8d76-ecc295d800fd"
      },
      "execution_count": 23,
      "outputs": [
        {
          "output_type": "stream",
          "name": "stdout",
          "text": [
            "(10, 20, 30)\n"
          ]
        }
      ]
    },
    {
      "cell_type": "markdown",
      "source": [
        "Q-12 Write a code to access the first element of the tuple ('apple','banana','cherry') ?"
      ],
      "metadata": {
        "id": "Kubx7mUsFcG9"
      }
    },
    {
      "cell_type": "code",
      "source": [
        "elements = ('apple','banana','cherry')\n",
        "\n",
        "print(elements[0])"
      ],
      "metadata": {
        "colab": {
          "base_uri": "https://localhost:8080/"
        },
        "id": "Br3I07DFF-sf",
        "outputId": "050d990b-52a1-4c86-8829-d995e015450e"
      },
      "execution_count": 25,
      "outputs": [
        {
          "output_type": "stream",
          "name": "stdout",
          "text": [
            "apple\n"
          ]
        }
      ]
    },
    {
      "cell_type": "markdown",
      "source": [
        "Q-13 Write a code count how many times the number 2 appear in the tuple (1,2,3,2,4,2) ?"
      ],
      "metadata": {
        "id": "I8MRzrF7GSDG"
      }
    },
    {
      "cell_type": "code",
      "source": [
        "tuple_1 = (1,2,3,2,4,2)\n",
        "\n",
        "tuple_1.count(2)\n"
      ],
      "metadata": {
        "colab": {
          "base_uri": "https://localhost:8080/"
        },
        "id": "tptXCL5sGrpv",
        "outputId": "d79b0d86-77de-4926-fe7a-1abc704876f3"
      },
      "execution_count": 26,
      "outputs": [
        {
          "output_type": "execute_result",
          "data": {
            "text/plain": [
              "3"
            ]
          },
          "metadata": {},
          "execution_count": 26
        }
      ]
    },
    {
      "cell_type": "markdown",
      "source": [
        "Q-14 Write a code to find the index of the element 'cat' in the tuple ('dog', 'cat', 'rabbit') ?"
      ],
      "metadata": {
        "id": "mHR-u4vhG4pH"
      }
    },
    {
      "cell_type": "code",
      "source": [
        "elements = ('dog','cat','rabbit')\n",
        "\n",
        "elements.index('cat')"
      ],
      "metadata": {
        "colab": {
          "base_uri": "https://localhost:8080/"
        },
        "id": "JLJcdFofHNbF",
        "outputId": "f30642c1-4c78-4e84-a979-41843ca01aee"
      },
      "execution_count": 27,
      "outputs": [
        {
          "output_type": "execute_result",
          "data": {
            "text/plain": [
              "1"
            ]
          },
          "metadata": {},
          "execution_count": 27
        }
      ]
    },
    {
      "cell_type": "markdown",
      "source": [
        "Q-15 Write a code to check if the element 'banana' is in the tuple ('apple', 'orange', 'banana') ?"
      ],
      "metadata": {
        "id": "Sff9Rw1cHiXC"
      }
    },
    {
      "cell_type": "code",
      "source": [
        "element = ('apple', 'orange', 'banana')\n",
        "\n",
        "if 'banana' in element:\n",
        "  print(\"Element present in the list.\")\n",
        "else:\n",
        "  print(\"Not present\")"
      ],
      "metadata": {
        "colab": {
          "base_uri": "https://localhost:8080/"
        },
        "id": "Gs9dLcmOH3Bm",
        "outputId": "99fc8eb4-781a-4050-d31e-d20a0408cc96"
      },
      "execution_count": 37,
      "outputs": [
        {
          "output_type": "stream",
          "name": "stdout",
          "text": [
            "Element present in the list.\n"
          ]
        }
      ]
    },
    {
      "cell_type": "markdown",
      "source": [
        "Q-16 Write a code to create a set with the elements 1,2,3,4,5 and print it ?"
      ],
      "metadata": {
        "id": "jIEHeoXtKtmr"
      }
    },
    {
      "cell_type": "code",
      "source": [
        "elements = {1,2,3,4,5}\n",
        "print(elements)"
      ],
      "metadata": {
        "colab": {
          "base_uri": "https://localhost:8080/"
        },
        "id": "eM7BnCMlLA0j",
        "outputId": "a28f2a14-dbf0-4c14-c6c0-abf748cca158"
      },
      "execution_count": 42,
      "outputs": [
        {
          "output_type": "stream",
          "name": "stdout",
          "text": [
            "{1, 2, 3, 4, 5}\n"
          ]
        }
      ]
    },
    {
      "cell_type": "markdown",
      "source": [
        "Q-17 Write a code to add the element 6 to the set {1,2,3,4} ?"
      ],
      "metadata": {
        "id": "Wb_eYOBiLgnA"
      }
    },
    {
      "cell_type": "code",
      "source": [
        "element = {1,2,3,4}\n",
        "\n",
        "element.add(6)\n",
        "print(element)"
      ],
      "metadata": {
        "colab": {
          "base_uri": "https://localhost:8080/"
        },
        "id": "A0_GGZWsLteY",
        "outputId": "299868c1-a78a-4d4b-9f5a-6dcf666a590c"
      },
      "execution_count": 43,
      "outputs": [
        {
          "output_type": "stream",
          "name": "stdout",
          "text": [
            "{1, 2, 3, 4, 6}\n"
          ]
        }
      ]
    },
    {
      "cell_type": "markdown",
      "source": [
        "Q-18 Write a code to create a tuple with the elements 10,20,30 and print it ?"
      ],
      "metadata": {
        "id": "P2dCM4CxL6zT"
      }
    },
    {
      "cell_type": "code",
      "source": [
        "element = 10,20,30\n",
        "\n",
        "print(element)"
      ],
      "metadata": {
        "colab": {
          "base_uri": "https://localhost:8080/"
        },
        "id": "zd23ar8uMGD1",
        "outputId": "f5541cb7-8fae-4267-c020-76282abc5de2"
      },
      "execution_count": 44,
      "outputs": [
        {
          "output_type": "stream",
          "name": "stdout",
          "text": [
            "(10, 20, 30)\n"
          ]
        }
      ]
    },
    {
      "cell_type": "markdown",
      "source": [
        "Q-19 Write a code to access the first element of the tuple ('apple','banana','cherry') ?"
      ],
      "metadata": {
        "id": "yMaQEh-IMNhA"
      }
    },
    {
      "cell_type": "code",
      "source": [
        "element = ('apple','banana','cherry')\n",
        "\n",
        "print(element[0])"
      ],
      "metadata": {
        "colab": {
          "base_uri": "https://localhost:8080/"
        },
        "id": "PTrSP_mqMjdP",
        "outputId": "3358bdf7-9e6e-40e8-a761-c553e5269971"
      },
      "execution_count": 45,
      "outputs": [
        {
          "output_type": "stream",
          "name": "stdout",
          "text": [
            "apple\n"
          ]
        }
      ]
    },
    {
      "cell_type": "markdown",
      "source": [
        "Q-20 Write a code count how many times the number 2 appear in the tuple (1,2,3,2,4,2) ?"
      ],
      "metadata": {
        "id": "7ws7l0YqMrtT"
      }
    },
    {
      "cell_type": "code",
      "source": [
        "element = (1,2,3,2,4,2)\n",
        "\n",
        "element.count(2)"
      ],
      "metadata": {
        "colab": {
          "base_uri": "https://localhost:8080/"
        },
        "id": "ECKIW9IVM23S",
        "outputId": "d91947b3-73c4-409a-d401-2b6e68a4e5da"
      },
      "execution_count": 46,
      "outputs": [
        {
          "output_type": "execute_result",
          "data": {
            "text/plain": [
              "3"
            ]
          },
          "metadata": {},
          "execution_count": 46
        }
      ]
    },
    {
      "cell_type": "markdown",
      "source": [
        "Q-21 Write a code to find the index of the element 'cat' in the tuple ('dog', 'cat', 'rabbit') ?"
      ],
      "metadata": {
        "id": "7TPZ-xRJM-rI"
      }
    },
    {
      "cell_type": "code",
      "source": [
        "elements = ('dog','cat','rabbit')\n",
        "\n",
        "elements.index('cat')"
      ],
      "metadata": {
        "colab": {
          "base_uri": "https://localhost:8080/"
        },
        "id": "Ut8A75sgNHaz",
        "outputId": "2e7533d8-03bd-4f55-ef59-0c0d75d1ae65"
      },
      "execution_count": 47,
      "outputs": [
        {
          "output_type": "execute_result",
          "data": {
            "text/plain": [
              "1"
            ]
          },
          "metadata": {},
          "execution_count": 47
        }
      ]
    },
    {
      "cell_type": "markdown",
      "source": [
        "Q-22 Write a code to check if the element 'banana' is in the tuple ('apple', 'orange', 'banana') ?"
      ],
      "metadata": {
        "id": "_qAd45PfNNWn"
      }
    },
    {
      "cell_type": "code",
      "source": [
        "element = ('apple', 'orange', 'banana')\n",
        "\n",
        "if 'banana' in element:\n",
        "  print(\"Element present in the list.\")\n",
        "else:\n",
        "  print(\"Not present\")"
      ],
      "metadata": {
        "colab": {
          "base_uri": "https://localhost:8080/"
        },
        "id": "N3saYDG7NWF2",
        "outputId": "85696590-474b-46f3-eb42-733f3e9d3f22"
      },
      "execution_count": 48,
      "outputs": [
        {
          "output_type": "stream",
          "name": "stdout",
          "text": [
            "Element present in the list.\n"
          ]
        }
      ]
    },
    {
      "cell_type": "markdown",
      "source": [
        "Q-23 Write a code to create a set with the elements 1,2,3,4,5 and print it ?"
      ],
      "metadata": {
        "id": "RmzrXQo0NZDV"
      }
    },
    {
      "cell_type": "code",
      "source": [
        "elements = {1,2,3,4,5}\n",
        "print(elements)"
      ],
      "metadata": {
        "colab": {
          "base_uri": "https://localhost:8080/"
        },
        "id": "jzVUt-m-NnmV",
        "outputId": "70709c3b-fbf5-4b8e-cde1-647be415adad"
      },
      "execution_count": 49,
      "outputs": [
        {
          "output_type": "stream",
          "name": "stdout",
          "text": [
            "{1, 2, 3, 4, 5}\n"
          ]
        }
      ]
    },
    {
      "cell_type": "markdown",
      "source": [
        "Q-24 Write a code to add the element 6 to the set {1,2,3,4} ?"
      ],
      "metadata": {
        "id": "08OBUxZuNrIh"
      }
    },
    {
      "cell_type": "code",
      "source": [
        "element = {1,2,3,4}\n",
        "\n",
        "element.add(6)\n",
        "print(element)"
      ],
      "metadata": {
        "colab": {
          "base_uri": "https://localhost:8080/"
        },
        "id": "orwDNXgQN1DX",
        "outputId": "dbf2dec3-47e4-4be8-c9de-05c1d9af8fe4"
      },
      "execution_count": 50,
      "outputs": [
        {
          "output_type": "stream",
          "name": "stdout",
          "text": [
            "{1, 2, 3, 4, 6}\n"
          ]
        }
      ]
    }
  ]
}