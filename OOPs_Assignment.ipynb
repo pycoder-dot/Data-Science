{
  "nbformat": 4,
  "nbformat_minor": 0,
  "metadata": {
    "colab": {
      "provenance": []
    },
    "kernelspec": {
      "name": "python3",
      "display_name": "Python 3"
    },
    "language_info": {
      "name": "python"
    }
  },
  "cells": [
    {
      "cell_type": "markdown",
      "source": [
        "### OOPS **Assignment**"
      ],
      "metadata": {
        "id": "Jgxu7wraCORO"
      }
    },
    {
      "cell_type": "markdown",
      "source": [
        "Q-1 What is the Object-oriented programming ?"
      ],
      "metadata": {
        "id": "zdLHuxbrCWEZ"
      }
    },
    {
      "cell_type": "markdown",
      "source": [
        "**SOL -** Object oriented programing is like making a blue print of the whole code or programming. Oops is a template of ojects and methods. In oops we got classes, methods and objects who complete it. In the oops we make a container of classes and in that we can make any number of objects."
      ],
      "metadata": {
        "id": "GfOdkrS9CkL0"
      }
    },
    {
      "cell_type": "markdown",
      "source": [
        "**Q-2** What is a class in OOP ?"
      ],
      "metadata": {
        "id": "eqkau6f4DhK7"
      }
    },
    {
      "cell_type": "markdown",
      "source": [
        "**SOL -** Class is like a template which manage the methods and objects in the OOPS."
      ],
      "metadata": {
        "id": "dehJGsiSDtXF"
      }
    },
    {
      "cell_type": "markdown",
      "source": [
        "Q-3 What is an object in OOP ?"
      ],
      "metadata": {
        "id": "NVsvbdNCEGtN"
      }
    },
    {
      "cell_type": "markdown",
      "source": [
        "SOL -  An object is like a fundamental concept that represents an instance of class. It is a self contained entity that combine both attribute and methods to model real world or conceptual entities."
      ],
      "metadata": {
        "id": "OTxBwaCzEU5R"
      }
    },
    {
      "cell_type": "markdown",
      "source": [
        "Q-4 What is the difference between abstraction and encapsulation ?"
      ],
      "metadata": {
        "id": "WeWwUI3dFbXK"
      }
    },
    {
      "cell_type": "markdown",
      "source": [
        "SOL - Abstraction menas hiding the unnecessary details from the user. It will hide the main details and shown only what need to be shown.It only focus on what an object done rather than how its done.\n",
        "On the other hand encapsulation means bundling the data and methods together into a single class."
      ],
      "metadata": {
        "id": "d2ZJChpOF43L"
      }
    },
    {
      "cell_type": "markdown",
      "source": [
        "Q-5 What are dunder methods in python ?"
      ],
      "metadata": {
        "id": "HfnXrmTRHKrx"
      }
    },
    {
      "cell_type": "markdown",
      "source": [
        "SOL - Dunder methods in python, also known as magic methods or special methods, pre predifened methods with names surrounded by double unscores."
      ],
      "metadata": {
        "id": "PmH1wtUQHa0m"
      }
    },
    {
      "cell_type": "markdown",
      "source": [
        "Q-6 Explain the concept of inhertance in OOP ?"
      ],
      "metadata": {
        "id": "HoJu_zetlsUS"
      }
    },
    {
      "cell_type": "markdown",
      "source": [
        "SOL - Inheritance mainly a parent child theory where a child class can inherit the functionality of parent class but a parent class cannot inherit the child class.\n",
        "Example -"
      ],
      "metadata": {
        "id": "7F2blmdys-nO"
      }
    },
    {
      "cell_type": "code",
      "source": [
        "Class A:\n",
        "  pass\n",
        "class b(A):   ## here class b inheriting the class A\n",
        "  pass\n"
      ],
      "metadata": {
        "id": "1AIz8sLMtpsQ"
      },
      "execution_count": null,
      "outputs": []
    },
    {
      "cell_type": "markdown",
      "source": [
        "Q-7 What is the polymorphism in OOP ?"
      ],
      "metadata": {
        "id": "SaABy1izt3ry"
      }
    },
    {
      "cell_type": "markdown",
      "source": [
        "SOL - Polymorphism describes the concept that you can access objects of different types through the same interface. Polymorphism is so important that languages that don't support polymorphism cannot advertise themselves as object-oriented languages."
      ],
      "metadata": {
        "id": "Dmtf2MUauHX8"
      }
    },
    {
      "cell_type": "markdown",
      "source": [
        "Q-8 How is encapsulation achieved in python ?"
      ],
      "metadata": {
        "id": "Vjc3PQKPviUd"
      }
    },
    {
      "cell_type": "markdown",
      "source": [
        "SOL - Encapsulation protects your classes from accidental changes or deletions and promotes code reusability and maintainablity. Python achieves encapsulation through public, protected and private attributes\n",
        "This approach:\n",
        "\n",
        "1 -Provides better control over data.\n",
        "2 -Prevents accidental modification of data.\n",
        "3 -Promotes modular programming.\n"
      ],
      "metadata": {
        "id": "6SrBchKdvyLy"
      }
    },
    {
      "cell_type": "markdown",
      "source": [
        "ex -"
      ],
      "metadata": {
        "id": "-wL7PjUAwy-q"
      }
    },
    {
      "cell_type": "code",
      "source": [
        "class Smartphone:\n",
        "   def __init__(self, brand, os):\n",
        "       self.brand = brand\n",
        "       self.os = os\n",
        "\n",
        "iphone = Smartphone(\"Apple\", \"iOS 17\")\n"
      ],
      "metadata": {
        "id": "-PKYXUaAxbh7"
      },
      "execution_count": null,
      "outputs": []
    },
    {
      "cell_type": "markdown",
      "source": [
        "Q-9 What is a constructor in python ?"
      ],
      "metadata": {
        "id": "OTO0CC99xcqj"
      }
    },
    {
      "cell_type": "markdown",
      "source": [
        "SOL - Constructor is a special type of method in oops where it is automatically called when a object is created from class. Also we can say that constructor is special class method for creating and nitializing an object instance at that class.\n",
        "Ex -"
      ],
      "metadata": {
        "id": "yxZwF1HcyF4l"
      }
    },
    {
      "cell_type": "code",
      "source": [
        "class ClassName:\n",
        "    def __new__(cls, parameters):\n",
        "        instance = super(ClassName, cls).__new__(cls)\n",
        "        return instance"
      ],
      "metadata": {
        "id": "RjmiyqKr7At9"
      },
      "execution_count": null,
      "outputs": []
    },
    {
      "cell_type": "markdown",
      "source": [
        "Q-10 What are class and static methods in python ?"
      ],
      "metadata": {
        "id": "r9DUrHlPyMsv"
      }
    },
    {
      "cell_type": "markdown",
      "source": [
        "SOL - Classmethod is a built in funcion decorator in python OOP also we can say that instead of accepting a self parameter, class method take a cls parameter that points to the class  and not the object instance when the method is called."
      ],
      "metadata": {
        "id": "Renl7xNRyVDH"
      }
    },
    {
      "cell_type": "markdown",
      "source": [
        "Q-11 What is method overloading in python ?"
      ],
      "metadata": {
        "id": "DLBaw6INyWGV"
      }
    },
    {
      "cell_type": "markdown",
      "source": [
        "SOL - Method overloading we can define as when we see two methods names are same in the same class so it called method overloading.\n",
        "EX -"
      ],
      "metadata": {
        "id": "rjbsJ7w7ycWj"
      }
    },
    {
      "cell_type": "code",
      "source": [
        "def product(a, b):\n",
        "    p = a * b\n",
        "    print(p)\n",
        "\n",
        "\n",
        "def product(a, b, c):\n",
        "    p = a * b*c\n",
        "    print(p)"
      ],
      "metadata": {
        "id": "43N64jGN8tyW"
      },
      "execution_count": null,
      "outputs": []
    },
    {
      "cell_type": "markdown",
      "source": [
        "Q-12 What is method overriding in OOP ?"
      ],
      "metadata": {
        "id": "86sdR_Ewyez2"
      }
    },
    {
      "cell_type": "markdown",
      "source": [
        "SOL - Method overriding is something when subclass or child class define specific implementation of a method which was already define by superclass or parent class is called method overriding."
      ],
      "metadata": {
        "id": "qXi_SagSyo6f"
      }
    },
    {
      "cell_type": "markdown",
      "source": [
        "Q-13 What is a property decorator in python ?"
      ],
      "metadata": {
        "id": "DOXCpy8Gyp3a"
      }
    },
    {
      "cell_type": "markdown",
      "source": [
        "SOL - @property decorator is a built-in decorator in Python which is helpful in defining the properties effortlessly without manually calling the inbuilt function property(). It turn class method into properties in a way that's both both elegant and user friendly."
      ],
      "metadata": {
        "id": "cAinWw5fy6ft"
      }
    },
    {
      "cell_type": "markdown",
      "source": [
        "Q-14 Why is polymorphism important in OOP ?"
      ],
      "metadata": {
        "id": "hTHKfXfd2Wwd"
      }
    },
    {
      "cell_type": "markdown",
      "source": [
        "SOL - Polymorphism is a key concept in OOP beacuse it enhances flexibility, reusability, and maintainablity in software development.\n",
        "EX - Code reusability, Dynamic behavior, Interface implementation, Encapsulation and Abstraction, and Scalability etc."
      ],
      "metadata": {
        "id": "uOzeq2Ug2zn2"
      }
    },
    {
      "cell_type": "markdown",
      "source": [
        "Q-15 What is an abstract class in python ?"
      ],
      "metadata": {
        "id": "iGMbtWm83Ewt"
      }
    },
    {
      "cell_type": "markdown",
      "source": [
        "SOL - An abstract class in Python is a class that is meant to be a blueprint for other classes. Also It defines methods that must be implemented by its subclasses, ensuring that the subclasses follow a consistent structure."
      ],
      "metadata": {
        "id": "x0bhEWnP3gEc"
      }
    },
    {
      "cell_type": "markdown",
      "source": [
        "Q-16 What are the advantages of OOP ?"
      ],
      "metadata": {
        "id": "gYsx-GCU3g-y"
      }
    },
    {
      "cell_type": "markdown",
      "source": [
        "SOL - Object-oriented programming defines many advantages for making a code in better shape also develope a software in a structure way. we can follown many exmples below for OOP.\n",
        "EX - Modularity through Encapsulation, Code Reusability, Scalability, Maintainability, Abstraction, Polymorphism, Improved Collaboration, and Data Security etc."
      ],
      "metadata": {
        "id": "1EZA5zfq3mf9"
      }
    },
    {
      "cell_type": "markdown",
      "source": [
        "Q-17 What is the difference between a class variable and an instance variable ?"
      ],
      "metadata": {
        "id": "nQwcTpJY3nnD"
      }
    },
    {
      "cell_type": "markdown",
      "source": [
        "SOL - In a class variable a variable that is shared across all instances of a class. It is defined within the class but outside of any instance methods.\n",
        "But In a instance variable a variable that is unique to each instance of a class. It is defined inside a class constructor or methods, typically using self."
      ],
      "metadata": {
        "id": "w5ixpHE733Ya"
      }
    },
    {
      "cell_type": "markdown",
      "source": [
        "Q-18 What is multiple inheritance in python ?"
      ],
      "metadata": {
        "id": "lXXXkUiX34p_"
      }
    },
    {
      "cell_type": "markdown",
      "source": [
        "SOL - Multiple inheritance in Python is a feature that allows a class to inherit from more than one parent class. This means a derived (child) class can inherit attributes and methods from multiple base (parent) classes.\n",
        "EX -"
      ],
      "metadata": {
        "id": "1j5g73AF4APj"
      }
    },
    {
      "cell_type": "code",
      "source": [
        "class Parent1:\n",
        "    def greet(self):\n",
        "        return \"Hello from Parent1\"\n",
        "\n",
        "class Parent2:\n",
        "    def welcome(self):\n",
        "        return \"Welcome from Parent2\"\n",
        "\n",
        "class Child(Parent1, Parent2):\n",
        "    def child_method(self):\n",
        "        return \"This is a method from the Child class\"\n",
        "\n",
        "# Create an instance of the Child class\n",
        "child = Child()\n",
        "print(child.greet())         # Output: Hello from Parent1\n",
        "print(child.welcome())       # Output: Welcome from Parent2\n",
        "print(child.child_method())  # Output: This is a method from the Child class\n"
      ],
      "metadata": {
        "id": "KqOwXV8nDNtz"
      },
      "execution_count": null,
      "outputs": []
    },
    {
      "cell_type": "markdown",
      "source": [
        "Q-19 Explain the purpose of \"__str__ and '__repr__\" method in python ?"
      ],
      "metadata": {
        "id": "0p3exSY34Brh"
      }
    },
    {
      "cell_type": "markdown",
      "source": [
        "SOL - In Python, the __str__ and __repr__ methods are special methods used to define how an object is represented as a string.\n",
        "__str__ Provides a user-friendly string representation of the object.\n",
        "but __repr__ Provides a developer-focused string representation of the object, primarily used for debugging."
      ],
      "metadata": {
        "id": "F6rjTPM_4RD2"
      }
    },
    {
      "cell_type": "markdown",
      "source": [
        "Q-20 What is the main significance of the 'super()'function in python ?"
      ],
      "metadata": {
        "id": "EISG-ut74SKt"
      }
    },
    {
      "cell_type": "markdown",
      "source": [
        "SOL - The super function in Python is used to access methods of the immediate parent class.It is primarily used in object-oriented programming for accessing and overriding methods in parent classes.\n",
        "The super function in Python takes two optional parameters:\n",
        "ClassName: This is the name of the subclass.\n",
        "ClassObject: This is an object of the subclass.\n"
      ],
      "metadata": {
        "id": "vCHXV0Ym4hCi"
      }
    },
    {
      "cell_type": "markdown",
      "source": [
        "Q-21 What is the significance of the __del__ method in python ?"
      ],
      "metadata": {
        "id": "VLx8aJbX4h7z"
      }
    },
    {
      "cell_type": "markdown",
      "source": [
        "SOL - The __del__ method in Python is a special method, also known as a destructor, that is automatically invoked when an object is about to be destroyed. It is also called after an object’s garbage collection occurs, which happens after all references to the item have been destroyed."
      ],
      "metadata": {
        "id": "z93gcnCf4smY"
      }
    },
    {
      "cell_type": "markdown",
      "source": [
        "Q-22 What is the difference between @staticmethod and @classmethod in python. ?"
      ],
      "metadata": {
        "id": "mHHTsRO_4uiz"
      }
    },
    {
      "cell_type": "markdown",
      "source": [
        "SOL - The main difference between @staticmethod and @classmethod are decorators used to define methods inside a class. So we can say that A static method is a method that does not require access to the class (cls) or the instance (self) it belongs to.\n",
        "But on the other hand A class method receives the class as its first argument, typically named cls. This allows it to access or modify class attributes or call other class methods.\n"
      ],
      "metadata": {
        "id": "TfzmjyuC5KG1"
      }
    },
    {
      "cell_type": "markdown",
      "source": [
        "Q-23 How does polymorphism work in python with inheritance ?"
      ],
      "metadata": {
        "id": "ZM8tCvJ65LH-"
      }
    },
    {
      "cell_type": "markdown",
      "source": [
        "SOL - Inheritance is one of the mechanisms to achieve the same. Inheritance allows programmer to create a general or a base class first and then later extend it to more specialized class. But polymorphism is an important feature of class definition in Python that is utilized when you have commonly named methods across classes or subclasses.\n",
        "So we can say that polymorphism in Python is the ability of objects belonging to different classes to be treated as objects of a common superclass. This is particularly powerful when combined with inheritance, as it allows subclasses to override or extend methods from the parent class while maintaining consistent behavior.\n",
        "\n"
      ],
      "metadata": {
        "id": "q0Fs5Wiw5U8V"
      }
    },
    {
      "cell_type": "markdown",
      "source": [
        "Q-24 What is the method chaining in python OOP ?"
      ],
      "metadata": {
        "id": "_JAzzQxh5V3Z"
      }
    },
    {
      "cell_type": "markdown",
      "source": [
        "SOL - Methods chaining is a style of programming in which invoking multiple method calls occurs sequentially. It removes the pain of assigning variables at each intermediate step as each call performs action on same object and then returns the object to next call. This is achieved by having each method return the object itself (usually self), allowing subsequent method calls to be linked together in a chain.\n",
        "\n"
      ],
      "metadata": {
        "id": "YWa6XFf35ipI"
      }
    },
    {
      "cell_type": "markdown",
      "source": [
        "Q-25 What is the purpose of the __call_ method in python ?"
      ],
      "metadata": {
        "id": "_tJm1Iu65jpO"
      }
    },
    {
      "cell_type": "markdown",
      "source": [
        "SOL - __call__ method enables Python programmers to write classes where the instances behave like functions and can be called like a function. When you implement the __call__ method in a class, you can call instances of that class with parentheses, passing arguments just like you would with a regular function."
      ],
      "metadata": {
        "id": "nIXsHMQ75uSO"
      }
    },
    {
      "cell_type": "markdown",
      "source": [
        "# Practical Questions"
      ],
      "metadata": {
        "id": "jcP7kt4Q5w3l"
      }
    },
    {
      "cell_type": "markdown",
      "source": [
        "Q-1 Create a parent class Animal with a method speak() that prints a genric message. Create a child class Dog that overrides the speak() method to print 'bark' ?"
      ],
      "metadata": {
        "id": "hPv4n-hE53bW"
      }
    },
    {
      "cell_type": "code",
      "source": [
        "class Animal:\n",
        "  def speak(self):\n",
        "    print(\"Animal only speak their language\")\n",
        "\n",
        "class Dog(Animal):\n",
        "  def speak(self):\n",
        "    print(\"Dogs Bark!\")\n",
        "\n",
        "obj = Dog()\n",
        "obj.speak()"
      ],
      "metadata": {
        "id": "o5-2arM16afl",
        "colab": {
          "base_uri": "https://localhost:8080/"
        },
        "outputId": "627e63c3-c9ec-483f-b9a8-cadc9a8a5c12"
      },
      "execution_count": null,
      "outputs": [
        {
          "output_type": "stream",
          "name": "stdout",
          "text": [
            "Dogs Bark!\n"
          ]
        }
      ]
    },
    {
      "cell_type": "markdown",
      "source": [
        "Q-2 Write a program to create an abstract class shape with a method area(). Drive classes Circle and Ractangle from it and implement the area() method in both ?"
      ],
      "metadata": {
        "id": "LEocGDoO6bAU"
      }
    },
    {
      "cell_type": "code",
      "source": [
        "from abc import ABC , abstractmethod\n",
        "\n",
        "class shape(ABC):\n",
        "  @abstractmethod\n",
        "  def area(self):\n",
        "    pass\n",
        "\n",
        "class circle(shape):\n",
        "  def __init__(self,r):\n",
        "    self.r = r\n",
        "\n",
        "  def area(self):\n",
        "    return 3.142 * (self.r ** 2)\n",
        "\n",
        "class ractangle(shape):\n",
        "  def __init__(self,l,w):\n",
        "    self.l = l\n",
        "    self.w = w\n",
        "\n",
        "  def area(self):\n",
        "    return self.l * self.w\n",
        "\n",
        "obj1 = circle(5)\n",
        "obj1.area()\n",
        "obj2 = ractangle(2,4)\n",
        "obj2.area()"
      ],
      "metadata": {
        "id": "hHTeuf9_68ce",
        "colab": {
          "base_uri": "https://localhost:8080/"
        },
        "outputId": "9af70cde-13e9-4d4a-d159-b691bd1e8f1d"
      },
      "execution_count": null,
      "outputs": [
        {
          "output_type": "execute_result",
          "data": {
            "text/plain": [
              "8"
            ]
          },
          "metadata": {},
          "execution_count": 4
        }
      ]
    },
    {
      "cell_type": "markdown",
      "source": [
        "Q-3 Implement a multi-level inheritance scenario where a class Vehicle has an attribute type. Derive a class car and further drive a class ElectricCar thats add a battery attribute ?  "
      ],
      "metadata": {
        "id": "rEj-GxLS680q"
      }
    },
    {
      "cell_type": "code",
      "source": [
        "class Vehicle:\n",
        "    def __init__(self, type_of_vehicle):\n",
        "        self.type_of_vehicle = type_of_vehicle\n",
        "\n",
        "    def final(self):\n",
        "        return f\"type_of_vehicle: {self.type_of_vehicle}\"\n",
        "\n",
        "class Car(Vehicle):\n",
        "    def __init__(self, type_of_vehicle, name, model, gas):\n",
        "        super().__init__(type_of_vehicle)\n",
        "        self.name = name\n",
        "        self.model = model\n",
        "        self.gas = gas\n",
        "\n",
        "    def final_car(self):\n",
        "        return f\"{super().final()}, name: {self.name}, model: {self.model}, gas: {self.gas}\"\n",
        "\n",
        "class ElectricCar(Car):\n",
        "    def __init__(self, type_of_vehicle, name, model, gas, battery):\n",
        "        super().__init__(type_of_vehicle, name, model, gas)\n",
        "        self.battery = battery\n",
        "\n",
        "    def final_electric_car(self):\n",
        "        return f\"{super().final_car()}, battery: {self.battery}\"\n",
        "\n",
        "\n",
        "v1 = Vehicle(\"Passenger\")\n",
        "print(v1.final())\n",
        "\n",
        "c1 = Car(\"Car\", \"Honda City\", \"Grande\", \"Petrol\")\n",
        "print(c1.final_car())\n",
        "\n",
        "ec1 = ElectricCar(\"Electric Car\", \"Tesla\", \"Model S\", \"Electric\", \"100 kWh\")\n",
        "print(ec1.final_electric_car())\n"
      ],
      "metadata": {
        "id": "eGQE6YAK7ngv",
        "colab": {
          "base_uri": "https://localhost:8080/"
        },
        "outputId": "aefd4b47-1741-4e62-8b24-decb8aa541c1"
      },
      "execution_count": 60,
      "outputs": [
        {
          "output_type": "stream",
          "name": "stdout",
          "text": [
            "type_of_vehicle: Passenger\n",
            "type_of_vehicle: Car, name: Honda City, model: Grande, gas: Petrol\n",
            "type_of_vehicle: Electric Car, name: Tesla, model: Model S, gas: Electric, battery: 100 kWh\n"
          ]
        }
      ]
    },
    {
      "cell_type": "markdown",
      "source": [
        "Q-4 Implement a multi-level inheritance scenario where a class vehicle has an attribute type. Derive a class car and further drive a class ElectricCar thats add a battery attribute ?"
      ],
      "metadata": {
        "id": "-YNZtj_97nwG"
      }
    },
    {
      "cell_type": "code",
      "source": [
        "class Vehicle:\n",
        "    def __init__(self, type_of_vehicle):\n",
        "        self.type_of_vehicle = type_of_vehicle\n",
        "\n",
        "    def final(self):\n",
        "        return f\"type_of_vehicle: {self.type_of_vehicle}\"\n",
        "\n",
        "class Car(Vehicle):\n",
        "    def __init__(self, type_of_vehicle, name, model, gas):\n",
        "        super().__init__(type_of_vehicle)\n",
        "        self.name = name\n",
        "        self.model = model\n",
        "        self.gas = gas\n",
        "\n",
        "    def final_car(self):\n",
        "        return f\"{super().final()}, name: {self.name}, model: {self.model}, gas: {self.gas}\"\n",
        "\n",
        "class ElectricCar(Car):\n",
        "    def __init__(self, type_of_vehicle, name, model, gas, battery):\n",
        "        super().__init__(type_of_vehicle, name, model, gas)\n",
        "        self.battery = battery\n",
        "\n",
        "    def final_electric_car(self):\n",
        "        return f\"{super().final_car()}, battery: {self.battery}\"\n",
        "\n",
        "\n",
        "v1 = Vehicle(\"Passenger\")\n",
        "print(v1.final())\n",
        "\n",
        "c1 = Car(\"Car\", \"Honda City\", \"Grande\", \"Petrol\")\n",
        "print(c1.final_car())\n",
        "\n",
        "ec1 = ElectricCar(\"Electric Car\", \"Tesla\", \"Model S\", \"Electric\", \"100 kWh\")\n",
        "print(ec1.final_electric_car())"
      ],
      "metadata": {
        "id": "sn_TA3CB8NPi",
        "colab": {
          "base_uri": "https://localhost:8080/"
        },
        "outputId": "84f700e0-cb1a-4589-cded-1d78f1fb4ab1"
      },
      "execution_count": 62,
      "outputs": [
        {
          "output_type": "stream",
          "name": "stdout",
          "text": [
            "type_of_vehicle: Passenger\n",
            "type_of_vehicle: Car, name: Honda City, model: Grande, gas: Petrol\n",
            "type_of_vehicle: Electric Car, name: Tesla, model: Model S, gas: Electric, battery: 100 kWh\n"
          ]
        }
      ]
    },
    {
      "cell_type": "markdown",
      "source": [
        "Q-5 Write a program to demonstrate encapsulation y creating a class BankAccount with private attributes balance and methods to deposit, withdraw, and check balance ?"
      ],
      "metadata": {
        "id": "q3WPDzjJ8TAh"
      }
    },
    {
      "cell_type": "code",
      "source": [
        "class BankAccount:\n",
        "  def __init__(self,balance):\n",
        "    self.__balance = balance\n",
        "\n",
        "  def deposit(self,amount):\n",
        "    self.__balance = self.__balance + amount\n",
        "\n",
        "  def withdraw(self,amount):\n",
        "    if self.__balance >= amount:\n",
        "      self.__balance = self.__balance - amount\n",
        "      return True\n",
        "    else:\n",
        "      return False\n",
        "\n",
        "  def check_balance(self):\n",
        "    return self.__balance\n"
      ],
      "metadata": {
        "id": "kCZHIDV88zro"
      },
      "execution_count": null,
      "outputs": []
    },
    {
      "cell_type": "code",
      "source": [
        "acc1 = BankAccount(2000)\n",
        "acc1.check_balance()\n"
      ],
      "metadata": {
        "colab": {
          "base_uri": "https://localhost:8080/"
        },
        "id": "Xpq68-M0nO2H",
        "outputId": "c3f2281b-a0d8-4d4b-b751-241544554b12"
      },
      "execution_count": null,
      "outputs": [
        {
          "output_type": "execute_result",
          "data": {
            "text/plain": [
              "2000"
            ]
          },
          "metadata": {},
          "execution_count": 31
        }
      ]
    },
    {
      "cell_type": "code",
      "source": [
        "acc1.deposit(600)\n",
        "acc1.check_balance()"
      ],
      "metadata": {
        "colab": {
          "base_uri": "https://localhost:8080/"
        },
        "id": "90FklpUnnoEs",
        "outputId": "67731b8d-ab03-47c0-b917-8c4a23dd33de"
      },
      "execution_count": null,
      "outputs": [
        {
          "output_type": "execute_result",
          "data": {
            "text/plain": [
              "2600"
            ]
          },
          "metadata": {},
          "execution_count": 32
        }
      ]
    },
    {
      "cell_type": "code",
      "source": [
        "acc1.withdraw(200)"
      ],
      "metadata": {
        "colab": {
          "base_uri": "https://localhost:8080/"
        },
        "id": "PxUj84Ftn4fv",
        "outputId": "3f1f190f-21d7-4bcd-bf87-2ed4d8754982"
      },
      "execution_count": null,
      "outputs": [
        {
          "output_type": "execute_result",
          "data": {
            "text/plain": [
              "True"
            ]
          },
          "metadata": {},
          "execution_count": 36
        }
      ]
    },
    {
      "cell_type": "markdown",
      "source": [
        "Q-6 Demonstrate runtime polymorphism using a method play() in a base class instrument. Drive class guitar and piano that implement their own version of play() ?"
      ],
      "metadata": {
        "id": "KVdBkaew8z1T"
      }
    },
    {
      "cell_type": "code",
      "source": [
        "class Instrument:\n",
        "  def play(self):\n",
        "    print(\"Here we can play any instrument\")\n",
        "\n",
        "class guitar(Instrument):\n",
        "  def play(self):\n",
        "    print(\"Here we are playing guitar\")\n",
        "\n",
        "class piano(Instrument):\n",
        "  def play(self):\n",
        "    print(\"Here we are playing piano\")"
      ],
      "metadata": {
        "id": "j4pjZEC69VcT"
      },
      "execution_count": 8,
      "outputs": []
    },
    {
      "cell_type": "code",
      "source": [
        "Ins1 = Instrument()\n",
        "Ins1.play()"
      ],
      "metadata": {
        "colab": {
          "base_uri": "https://localhost:8080/"
        },
        "id": "GK7pAmYbjmSV",
        "outputId": "7ad2ff5f-efcf-425a-fe2b-73e124ce544a"
      },
      "execution_count": 9,
      "outputs": [
        {
          "output_type": "stream",
          "name": "stdout",
          "text": [
            "Here we can play any instrument\n"
          ]
        }
      ]
    },
    {
      "cell_type": "code",
      "source": [
        "Ins2 = guitar()\n",
        "Ins2.play()"
      ],
      "metadata": {
        "colab": {
          "base_uri": "https://localhost:8080/"
        },
        "id": "qtMMxce6jvpR",
        "outputId": "b58db17b-8088-4312-ae12-600f62d5f6c8"
      },
      "execution_count": 10,
      "outputs": [
        {
          "output_type": "stream",
          "name": "stdout",
          "text": [
            "Here we are playing guitar\n"
          ]
        }
      ]
    },
    {
      "cell_type": "code",
      "source": [
        "Ins3 = piano()\n",
        "Ins3.play()"
      ],
      "metadata": {
        "colab": {
          "base_uri": "https://localhost:8080/"
        },
        "id": "jy43MJAMj62c",
        "outputId": "2c7ec7d5-c73b-4768-de31-73034ac62183"
      },
      "execution_count": 11,
      "outputs": [
        {
          "output_type": "stream",
          "name": "stdout",
          "text": [
            "Here we are playing piano\n"
          ]
        }
      ]
    },
    {
      "cell_type": "markdown",
      "source": [
        "Q-7 Create a class matheOperations with a class method add_numbers() to add two numbers and a static method subtract_numbers() to subtract two numbers ?"
      ],
      "metadata": {
        "id": "qz9OVT0r9VqI"
      }
    },
    {
      "cell_type": "code",
      "source": [
        "class matheOperations:\n",
        "  def __init__(self,number_1 , number_2):\n",
        "    self.number_1 = number_1\n",
        "    self.number_2 = number_2\n",
        "\n",
        "  def add_numbers(self):\n",
        "    return self.number_1 + self.number_2\n",
        "\n",
        "  def subtract_numbers(self):\n",
        "    return self.number_1 - self.number_2\n",
        "\n",
        "math = matheOperations(6,3)"
      ],
      "metadata": {
        "id": "OAyFuoY59z3c"
      },
      "execution_count": 5,
      "outputs": []
    },
    {
      "cell_type": "code",
      "source": [
        "math.add_numbers()"
      ],
      "metadata": {
        "colab": {
          "base_uri": "https://localhost:8080/"
        },
        "id": "HQQ536n9hv79",
        "outputId": "60645f57-ea96-4671-ce8b-77f4d591981d"
      },
      "execution_count": 6,
      "outputs": [
        {
          "output_type": "execute_result",
          "data": {
            "text/plain": [
              "9"
            ]
          },
          "metadata": {},
          "execution_count": 6
        }
      ]
    },
    {
      "cell_type": "code",
      "source": [
        "math.subtract_numbers()"
      ],
      "metadata": {
        "colab": {
          "base_uri": "https://localhost:8080/"
        },
        "id": "eA83cpRLh2tB",
        "outputId": "78d3a0a4-613a-4323-90c1-8b960bb8dfe6"
      },
      "execution_count": 7,
      "outputs": [
        {
          "output_type": "execute_result",
          "data": {
            "text/plain": [
              "3"
            ]
          },
          "metadata": {},
          "execution_count": 7
        }
      ]
    },
    {
      "cell_type": "markdown",
      "source": [
        "Q-8 Implement a class person with a class method to count the total number of person created ?"
      ],
      "metadata": {
        "id": "frMTIXYM90Dd"
      }
    },
    {
      "cell_type": "code",
      "source": [
        "class person:\n",
        "\n",
        "  count = 0\n",
        "\n",
        "  def __init__(self,name,age,height):\n",
        "    self.name = name\n",
        "    self.age = age\n",
        "    self.height = height\n",
        "\n",
        "    person.count += 1\n",
        "\n",
        "  @classmethod\n",
        "  def now_count(cls):\n",
        "    return cls.count\n",
        "\n",
        "person1 = person(\"Chris Evan\",40,\"187 cm\")\n",
        "person2 = person(\"Robert downey junior\",43, \"184 cm\")\n",
        "person3 = person(\"Christopher Nolan\",50,\"193 cm\")\n",
        "person4 = person(\"Cillion Murphy\",41,\"180 cm\")"
      ],
      "metadata": {
        "id": "oZWPa2xn-E_L"
      },
      "execution_count": 17,
      "outputs": []
    },
    {
      "cell_type": "code",
      "source": [
        "print(\"Total persons are \")\n",
        "person.new_count()"
      ],
      "metadata": {
        "id": "TDl0-ROWql_n"
      },
      "execution_count": null,
      "outputs": []
    },
    {
      "cell_type": "markdown",
      "source": [
        "Q-9 Write a class fraction with attributes numerator and denominator. Override the str method to display the fraction as \"numerator/denominator\" ?"
      ],
      "metadata": {
        "id": "2U2X3xai-FMU"
      }
    },
    {
      "cell_type": "code",
      "source": [
        "class fraction:\n",
        "  def __init__(self,numerator,denominator):\n",
        "    self.numerator = numerator\n",
        "    self.denominator = denominator\n",
        "\n",
        "  def get_numerator(self):\n",
        "    return f\"the numerator: {self.numerator}\"\n",
        "\n",
        "  def get_denominator(self):\n",
        "    return f\"the denominator: {self.denominator}\"\n",
        "\n",
        "  def get_fractions(self):\n",
        "    return self.numerator/self.denominator"
      ],
      "metadata": {
        "id": "lbsY5Kx7-nyy"
      },
      "execution_count": 20,
      "outputs": []
    },
    {
      "cell_type": "code",
      "source": [
        "frac = fraction(4,2)"
      ],
      "metadata": {
        "id": "LoRCFSJftN3n"
      },
      "execution_count": 21,
      "outputs": []
    },
    {
      "cell_type": "code",
      "source": [
        "frac.get_numerator()"
      ],
      "metadata": {
        "colab": {
          "base_uri": "https://localhost:8080/",
          "height": 35
        },
        "id": "ZBV-kdjZtVlU",
        "outputId": "bb984d5a-a1e1-440b-9fa2-9191784f54d3"
      },
      "execution_count": 22,
      "outputs": [
        {
          "output_type": "execute_result",
          "data": {
            "text/plain": [
              "'the numerator: 4'"
            ],
            "application/vnd.google.colaboratory.intrinsic+json": {
              "type": "string"
            }
          },
          "metadata": {},
          "execution_count": 22
        }
      ]
    },
    {
      "cell_type": "code",
      "source": [
        "frac.get_denominator()"
      ],
      "metadata": {
        "colab": {
          "base_uri": "https://localhost:8080/",
          "height": 35
        },
        "id": "FQor77iUtcx8",
        "outputId": "bc5d2af8-4384-4381-c2eb-3f97c15ac5d6"
      },
      "execution_count": 23,
      "outputs": [
        {
          "output_type": "execute_result",
          "data": {
            "text/plain": [
              "'the denominator: 2'"
            ],
            "application/vnd.google.colaboratory.intrinsic+json": {
              "type": "string"
            }
          },
          "metadata": {},
          "execution_count": 23
        }
      ]
    },
    {
      "cell_type": "code",
      "source": [
        "frac.get_fractions()"
      ],
      "metadata": {
        "colab": {
          "base_uri": "https://localhost:8080/"
        },
        "id": "ZCiPN1PWtita",
        "outputId": "3252e3f1-bb33-4c64-8de1-23f0232e3161"
      },
      "execution_count": 24,
      "outputs": [
        {
          "output_type": "execute_result",
          "data": {
            "text/plain": [
              "2.0"
            ]
          },
          "metadata": {},
          "execution_count": 24
        }
      ]
    },
    {
      "cell_type": "markdown",
      "source": [
        "Q-10 Demonstrate operator overloading by creating a class Vector and Overriding the add method to add two vectors ?"
      ],
      "metadata": {
        "id": "M0C1Dj8P-n_E"
      }
    },
    {
      "cell_type": "code",
      "source": [
        "class Vector:\n",
        "  def __init__(self,vector_1,vector_2):\n",
        "    self.vector_1 = vector_1\n",
        "    self.vector_2 = vector_2\n",
        "\n",
        "  def __add__(self,value):\n",
        "    if isinstance(value,Vector):\n",
        "      return Vector(self.vector_1 + value.vector_1, self.vector_2 + value.vector_2)\n",
        "\n",
        "    else:\n",
        "      raise TypeError(\"must be of type Vector \")\n",
        "\n",
        "  def __repr__(self):\n",
        "    return f\"Vector({self.vector_1}, {self.vector_2})\"\n",
        "\n"
      ],
      "metadata": {
        "id": "zNWrcp9h_dAz"
      },
      "execution_count": 25,
      "outputs": []
    },
    {
      "cell_type": "code",
      "source": [
        "vec1 = Vector(2,4)\n",
        "vec2 = Vector(5,6)"
      ],
      "metadata": {
        "id": "xoEMOetjxREe"
      },
      "execution_count": 26,
      "outputs": []
    },
    {
      "cell_type": "code",
      "source": [
        "vec3 = vec1 + vec2\n",
        "print(f\"final value: {vec3}\")"
      ],
      "metadata": {
        "colab": {
          "base_uri": "https://localhost:8080/"
        },
        "id": "ZhlLw6toxdrw",
        "outputId": "f70f1564-37fd-4afa-eb1b-6dcb02af6463"
      },
      "execution_count": 28,
      "outputs": [
        {
          "output_type": "stream",
          "name": "stdout",
          "text": [
            "final value: Vector(7, 10)\n"
          ]
        }
      ]
    },
    {
      "cell_type": "markdown",
      "source": [
        "Q-11 Create a class person with attributes name and age.  Add a method greet() that prints \"Hello, my name is {name} and I am {age} years old\" ?"
      ],
      "metadata": {
        "id": "gXyf2i33_dTE"
      }
    },
    {
      "cell_type": "code",
      "source": [
        "class person:\n",
        "  def __init__(self,name,age):\n",
        "    self.name = name\n",
        "    self.age = age\n",
        "\n",
        "  def greet(self):\n",
        "    return f\"Hello, my name is {self.name} and I am {self.age} years old\"\n",
        "\n",
        "per = person(\"Thanos\" , 57)\n",
        "per.greet()"
      ],
      "metadata": {
        "id": "opk2Kj_8HZY4",
        "colab": {
          "base_uri": "https://localhost:8080/",
          "height": 35
        },
        "outputId": "162ff1c7-4eb9-4acc-d12d-ee2a713fdb06"
      },
      "execution_count": 1,
      "outputs": [
        {
          "output_type": "execute_result",
          "data": {
            "text/plain": [
              "'Hello, my name is Thanos and I am 57 years old'"
            ],
            "application/vnd.google.colaboratory.intrinsic+json": {
              "type": "string"
            }
          },
          "metadata": {},
          "execution_count": 1
        }
      ]
    },
    {
      "cell_type": "markdown",
      "source": [
        "Q-12 Implement a class student with attributes name and grades. Create a method average_grade() to compute the average of the grades ?"
      ],
      "metadata": {
        "id": "HVpZHulRHaCc"
      }
    },
    {
      "cell_type": "code",
      "source": [
        "class student:\n",
        "  def __init__(self,name,sub_A,sub_B,sub_C,sub_D,sub_E,sub_F):\n",
        "    self.name = name\n",
        "    self.sub_A = sub_A\n",
        "    self.sub_B = sub_B\n",
        "    self.sub_C = sub_C\n",
        "    self.sub_D = sub_D\n",
        "    self.sub_E = sub_E\n",
        "    self.sub_F = sub_F\n",
        "\n",
        "  def average_grade(self):\n",
        "    avg = (self.sub_A + self.sub_B + self.sub_C + self.sub_D + self.sub_E + self.sub_F)/6\n",
        "\n",
        "    return f\"my name is {self.name} and my average grade is: {avg:.2f}\"\n",
        "\n",
        "\n",
        "grd = student(\"spiderman\" , 5.5,6.1,7,8.3,9,4.9)\n",
        "grd.average_grade()\n"
      ],
      "metadata": {
        "id": "Zovho99dHyQx",
        "colab": {
          "base_uri": "https://localhost:8080/",
          "height": 35
        },
        "outputId": "d0628f1f-eb20-4753-d779-9dcdbf3170a7"
      },
      "execution_count": 6,
      "outputs": [
        {
          "output_type": "execute_result",
          "data": {
            "text/plain": [
              "'my name is spiderman and my average grade is: 6.80'"
            ],
            "application/vnd.google.colaboratory.intrinsic+json": {
              "type": "string"
            }
          },
          "metadata": {},
          "execution_count": 6
        }
      ]
    },
    {
      "cell_type": "markdown",
      "source": [
        "Q-13 Create a class Rectangle with methods set_dimensions() to set the dimensions and area() to calculate the area ?"
      ],
      "metadata": {
        "id": "g6HHsL49HyeF"
      }
    },
    {
      "cell_type": "code",
      "source": [
        "class Rectangle:\n",
        "\n",
        "  def __init__(self):\n",
        "    self.length = 0\n",
        "    self.width = 0\n",
        "\n",
        "  def set_dimentions(self,length,width):\n",
        "    self.length = length\n",
        "    self.width = width\n",
        "\n",
        "  def area(self):\n",
        "    return f\"The area of Rectangle is : {self.length * self.width}\"\n",
        "\n",
        "Ract = Rectangle()\n",
        "Ract.set_dimentions(6,4)\n",
        "Ract.area()"
      ],
      "metadata": {
        "id": "UnlIxJZrIPz5",
        "colab": {
          "base_uri": "https://localhost:8080/",
          "height": 35
        },
        "outputId": "831a6469-7e02-4aeb-b038-a91754ec83d2"
      },
      "execution_count": 15,
      "outputs": [
        {
          "output_type": "execute_result",
          "data": {
            "text/plain": [
              "'The area of Rectangle is : 24'"
            ],
            "application/vnd.google.colaboratory.intrinsic+json": {
              "type": "string"
            }
          },
          "metadata": {},
          "execution_count": 15
        }
      ]
    },
    {
      "cell_type": "markdown",
      "source": [
        "Q-14 Create a class Employee with a method calculate_salary() that compute salary based on the hours worked and hourly rate. Create a derived class Manager that adds a bonus to the salary ?"
      ],
      "metadata": {
        "id": "KGu5Nq1tIP-x"
      }
    },
    {
      "cell_type": "code",
      "source": [
        "class Employee:\n",
        "\n",
        "  def __init__(self, hours):\n",
        "    self.hours = hours\n",
        "\n",
        "  def calculate_salary(self):\n",
        "    return 2000 * self.hours\n",
        "\n",
        "class Manager(Employee):\n",
        "  def __init__(self,hours,diwali_bonus, Extra_shift, family_bonus):\n",
        "    super().__init__(hours)\n",
        "    self.diwali_bonus = diwali_bonus\n",
        "    self.Extra_shift = Extra_shift\n",
        "    self.family_bonus = family_bonus\n",
        "\n",
        "  def add_bonus(self):\n",
        "    return f\"final salary after bonus is : {super().calculate_salary() +  self.diwali_bonus + self.Extra_shift + self.family_bonus}\""
      ],
      "metadata": {
        "id": "3pM9TQktIzrN"
      },
      "execution_count": 34,
      "outputs": []
    },
    {
      "cell_type": "code",
      "source": [
        "slr = Employee(36)\n",
        "slr.calculate_salary()"
      ],
      "metadata": {
        "colab": {
          "base_uri": "https://localhost:8080/"
        },
        "id": "dxios7oww783",
        "outputId": "2d2fef65-fc78-4335-8e69-28488e247534"
      },
      "execution_count": 32,
      "outputs": [
        {
          "output_type": "execute_result",
          "data": {
            "text/plain": [
              "72000"
            ]
          },
          "metadata": {},
          "execution_count": 32
        }
      ]
    },
    {
      "cell_type": "code",
      "source": [
        "final_slr = Manager(36 , 10000 , 5000,20000)\n",
        "final_slr.add_bonus()"
      ],
      "metadata": {
        "colab": {
          "base_uri": "https://localhost:8080/",
          "height": 35
        },
        "id": "Xcfg1xZUxm2e",
        "outputId": "c43a452a-67dc-4514-bd23-931c19ea9d54"
      },
      "execution_count": 35,
      "outputs": [
        {
          "output_type": "execute_result",
          "data": {
            "text/plain": [
              "'final salary after bonus is : 107000'"
            ],
            "application/vnd.google.colaboratory.intrinsic+json": {
              "type": "string"
            }
          },
          "metadata": {},
          "execution_count": 35
        }
      ]
    },
    {
      "cell_type": "markdown",
      "source": [
        "Q-15 Create a class product with attributes name, price, and quantity. Implement a method total_price() that calculates the total price of the product ?"
      ],
      "metadata": {
        "id": "OvgQifqbIz3M"
      }
    },
    {
      "cell_type": "code",
      "source": [
        "class product:\n",
        "\n",
        "  def __init__(self, name, price, quantity):\n",
        "    self.name = name\n",
        "    self.price = price\n",
        "    self.quantity = quantity\n",
        "\n",
        "  def total_price(self):\n",
        "    return self.price * self.quantity\n",
        "\n",
        "print(\"Total price of product is below :\")\n",
        "prd = product(\"salt\", 20 , 300)\n",
        "prd.total_price()"
      ],
      "metadata": {
        "id": "fQ2jJ4AzJb8h",
        "colab": {
          "base_uri": "https://localhost:8080/"
        },
        "outputId": "41084d1f-971c-48ff-a420-2af21f664d3f"
      },
      "execution_count": 37,
      "outputs": [
        {
          "output_type": "stream",
          "name": "stdout",
          "text": [
            "Total price of product is below :\n"
          ]
        },
        {
          "output_type": "execute_result",
          "data": {
            "text/plain": [
              "6000"
            ]
          },
          "metadata": {},
          "execution_count": 37
        }
      ]
    },
    {
      "cell_type": "markdown",
      "source": [
        "Q-16 Create class animal with an abstract method sound(). Create two derived classes cow and sheep that implement the sound() method ?"
      ],
      "metadata": {
        "id": "v8gzrjExJcK3"
      }
    },
    {
      "cell_type": "code",
      "source": [
        "from abc import ABC , abstractmethod\n",
        "\n",
        "class animal(ABC):\n",
        "\n",
        "  @abstractmethod\n",
        "  def sound(self):\n",
        "    pass\n",
        "\n",
        "class cow(animal):\n",
        "\n",
        "  def __init__(self,cow_sound):\n",
        "    self.cow_sound = cow_sound\n",
        "\n",
        "  def sound(self):\n",
        "    return f\"The sound which cow produce is : {self.cow_sound}\"\n",
        "\n",
        "class sheep(animal):\n",
        "\n",
        "  def __init__(self, sheep_sound):\n",
        "    self.sheep_sound = sheep_sound\n",
        "\n",
        "  def sound(self):\n",
        "    return f\"The sound which a sheep produce is: {self.sheep_sound}\"\n"
      ],
      "metadata": {
        "id": "Bs91JWTLJ1-H"
      },
      "execution_count": 43,
      "outputs": []
    },
    {
      "cell_type": "code",
      "source": [
        "sound_of_cow = cow(\"Mooing\")\n",
        "sound_of_cow.sound()"
      ],
      "metadata": {
        "colab": {
          "base_uri": "https://localhost:8080/",
          "height": 35
        },
        "id": "h3JwGKDk5Hny",
        "outputId": "03163eb5-f808-484f-b1c5-dc64fa4a0073"
      },
      "execution_count": 40,
      "outputs": [
        {
          "output_type": "execute_result",
          "data": {
            "text/plain": [
              "'The sound which cow make is : Mooing'"
            ],
            "application/vnd.google.colaboratory.intrinsic+json": {
              "type": "string"
            }
          },
          "metadata": {},
          "execution_count": 40
        }
      ]
    },
    {
      "cell_type": "code",
      "source": [
        "sound_of_sheep = sheep(\"Bleating\")\n",
        "sound_of_sheep.sound()"
      ],
      "metadata": {
        "colab": {
          "base_uri": "https://localhost:8080/",
          "height": 35
        },
        "id": "cCjvqC0V5l6d",
        "outputId": "df2e8931-2175-4e22-c240-1f628174d2ea"
      },
      "execution_count": 44,
      "outputs": [
        {
          "output_type": "execute_result",
          "data": {
            "text/plain": [
              "'The sound which a sheep produce is: Bleating'"
            ],
            "application/vnd.google.colaboratory.intrinsic+json": {
              "type": "string"
            }
          },
          "metadata": {},
          "execution_count": 44
        }
      ]
    },
    {
      "cell_type": "markdown",
      "source": [
        "Q-17 Creates a class book with atrributes title, author, and year_published. Add a method get_book_info() that returns a formatted string with the book's detailes."
      ],
      "metadata": {
        "id": "LZ92x2bAJ2MM"
      }
    },
    {
      "cell_type": "code",
      "source": [
        "class Book:\n",
        "\n",
        "    def __init__(self, title, author, year_published):\n",
        "        self.title = title\n",
        "        self.author = author\n",
        "        self.year_published = year_published\n",
        "\n",
        "    def get_book_info(self):\n",
        "        return f\"The book title is: {self.title} \\n The book author is: {self.author} \\n The book was published in the year: {self.year_published}\"\n",
        "\n",
        "bk = Book(\"The Girl Behind the Door\", \"Indian Sahu\", 2024)\n",
        "print(bk.get_book_info())"
      ],
      "metadata": {
        "id": "mLWyEDC8KhbA",
        "colab": {
          "base_uri": "https://localhost:8080/"
        },
        "outputId": "8d802d72-7c62-451b-de15-949ef6795688"
      },
      "execution_count": 61,
      "outputs": [
        {
          "output_type": "stream",
          "name": "stdout",
          "text": [
            "The book title is: The Girl Behind the Door \n",
            " The book author is: Indian Sahu \n",
            " The book was published in the year: 2024\n"
          ]
        }
      ]
    },
    {
      "cell_type": "markdown",
      "source": [
        "Q-18 Create a class house with attributes address and price. Create a derived class mansion that adds an attribute number_of_rooms ?"
      ],
      "metadata": {
        "id": "yufte7bPKhpI"
      }
    },
    {
      "cell_type": "code",
      "source": [
        "class House:\n",
        "    def __init__(self, address, price):\n",
        "        self.address = address\n",
        "        self.price = price\n",
        "\n",
        "    def get_house_info(self):\n",
        "        return f\"Address: {self.address}\\n Price: {self.price}\"\n",
        "\n",
        "\n",
        "class Mansion(House):\n",
        "    def __init__(self, address, price, number_of_rooms):\n",
        "        super().__init__(address, price)\n",
        "        self.number_of_rooms = number_of_rooms\n",
        "\n",
        "    def get_mansion_info(self):\n",
        "        return f\"{self.get_house_info()}\\n Number of Rooms: {self.number_of_rooms}\"\n",
        "\n",
        "\n",
        "mansion = Mansion(\"sector 15 Noida\", 5000000, 12)\n",
        "\n",
        "mansion.get_mansion_info()\n"
      ],
      "metadata": {
        "id": "jFF0gUffK9RD",
        "colab": {
          "base_uri": "https://localhost:8080/",
          "height": 35
        },
        "outputId": "560fa48b-b9f3-4647-a756-6c028140daab"
      },
      "execution_count": 55,
      "outputs": [
        {
          "output_type": "execute_result",
          "data": {
            "text/plain": [
              "'Address: sector 15 Noida\\n Price: 5000000\\n Number of Rooms: 12'"
            ],
            "application/vnd.google.colaboratory.intrinsic+json": {
              "type": "string"
            }
          },
          "metadata": {},
          "execution_count": 55
        }
      ]
    }
  ]
}