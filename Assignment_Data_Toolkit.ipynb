{
  "nbformat": 4,
  "nbformat_minor": 0,
  "metadata": {
    "colab": {
      "provenance": []
    },
    "kernelspec": {
      "name": "python3",
      "display_name": "Python 3"
    },
    "language_info": {
      "name": "python"
    }
  },
  "cells": [
    {
      "cell_type": "markdown",
      "source": [
        "# **Data Toolkit **"
      ],
      "metadata": {
        "id": "sEFef8Teqxtr"
      }
    },
    {
      "cell_type": "markdown",
      "source": [
        "Q-1 What is numpy, and why is it widely used in python ?"
      ],
      "metadata": {
        "id": "cPpCd5QMq6H-"
      }
    },
    {
      "cell_type": "markdown",
      "source": [
        "SOL- Numpy is Python most used library and it is mainly use for mathematical calculation. And also Numpy is indispensible in data science, machine learning,and numerical simulations,making it one of the most widely used libraies in Python. It provides support for multi-dimensional arrays and matrices, along with a rich set of mathematical functions to perform operations on these arrays efficiently.likewise - High Performance, Versatility, Ease of Learning, Community Support."
      ],
      "metadata": {
        "id": "yCUYqqSbaARc"
      }
    },
    {
      "cell_type": "markdown",
      "source": [
        "Q-2 How does broadcasting work in Numpy ?"
      ],
      "metadata": {
        "id": "t7ysuzufaBhq"
      }
    },
    {
      "cell_type": "markdown",
      "source": [
        "SOL - Broadcasting in NumPy is a mechanism that allows arithmetic operations between arrays of different shapes without explicitly reshaping them. When performing operations between arrays of different sizes, NumPy automatically \"broadcasts\" the smaller array across the larger array so they have compatible shapes. When two arrays are operated on together, NumPy compares their shapes element by element."
      ],
      "metadata": {
        "id": "HaL4czAWaJVZ"
      }
    },
    {
      "cell_type": "markdown",
      "source": [
        "Q-3 What is Pandas DataFrame ?"
      ],
      "metadata": {
        "id": "z6oHr3L3aKjy"
      }
    },
    {
      "cell_type": "markdown",
      "source": [
        "SOL - Pandas is python library which is widely used for managing dataframes and CSV files. Pandas DataFrame is a two-dimensional, size-mutable, and heterogeneous data structure in the Python library Pandas. It is one of the most widely used data structures for data manipulation and analysis. There are some key correcteristics of DataFrame - Tabular Structure, Labeled Axes, Heterogeneous Data, Size-Mutable etc. common use case of pandas - Data Cleaning, Exploratory Data Analysis (EDA), Data Transformation, Integration, Machine Learning Preprocessing."
      ],
      "metadata": {
        "id": "yIh_Nh9QaOwB"
      }
    },
    {
      "cell_type": "markdown",
      "source": [
        "Q-4 Explain the use of the groupBy() method in Pandas ?"
      ],
      "metadata": {
        "id": "KrLkpFO5aPeo"
      }
    },
    {
      "cell_type": "markdown",
      "source": [
        "SOL - The groupby() method in Pandas is used to group data based on the values of one or more columns and then apply an aggregate, transformation, or filter operation to the grouped data. The process involves the following steps - Splitting, Applying, Combining.groupby() is versatile and can be combined with aggregation, transformation, and filtering."
      ],
      "metadata": {
        "id": "6nPwqdFgaX-Y"
      }
    },
    {
      "cell_type": "markdown",
      "source": [
        "Q-5 Why is seaborn preferred for statistical visualization ?"
      ],
      "metadata": {
        "id": "GhOgVFoTaY1U"
      }
    },
    {
      "cell_type": "markdown",
      "source": [
        "SOL - Seaborn is a Python library built on top of Matplotlib that simplifies the process of creating statistical visualizations. It is widely preferred due to its functionality, aesthetics, and ease of use when working with data that requires statistical insights. Seaborn provides a range of functions specifically designed for statistical visualizations, making it easy to create insightful plots without much effort."
      ],
      "metadata": {
        "id": "JsHocFXJamZz"
      }
    },
    {
      "cell_type": "markdown",
      "source": [
        "Q-6 What are the difference between Numpy arrays and Python list ?"
      ],
      "metadata": {
        "id": "9Idb8MkGaniN"
      }
    },
    {
      "cell_type": "markdown",
      "source": [
        "SOL - Both NumPy arrays and Python lists are used to store collections of elements, but they differ significantly in terms of functionality, performance, and use cases. NumPy Arrays - Optimized for numerical and matrix operations.Significantly faster for large datasets because they are implemented and use contiguous memory allocation. Python Lists - Slower because they are more general-purpose and store references to objects, which can lead to inefficiencies."
      ],
      "metadata": {
        "id": "FlaKIt4Jax9H"
      }
    },
    {
      "cell_type": "markdown",
      "source": [
        "Q-7 What is a heapmap, and when should it be used ?"
      ],
      "metadata": {
        "id": "Hs3TkFHxayo2"
      }
    },
    {
      "cell_type": "markdown",
      "source": [
        "SOL - A heatmap is a data visualization technique that uses colors to represent the values of a matrix or a dataset. The intensity or shade of the color corresponds to the magnitude of the values being visualized, allowing for a quick and intuitive understanding of patterns, trends, and relationships within the data. Key Characteristics of a Heatmap - Color Representation, Grid-Like Structure, Intuitive Insights."
      ],
      "metadata": {
        "id": "f9UvyqQBa9Ud"
      }
    },
    {
      "cell_type": "markdown",
      "source": [
        "Q-8 What does the term \"vectorized operation \" mean Numpy ?"
      ],
      "metadata": {
        "id": "ZYoFwjlma-hR"
      }
    },
    {
      "cell_type": "markdown",
      "source": [
        "SOL - A vectorized operation in NumPy refers to performing operations on entire arrays (vectors, matrices, or higher-dimensional arrays) element-wise, without the need for explicit loops in Python.Key Characteristics of Vectorized Operations - Element-wise Execution, Performance, Simpler Syntax, Broadcasting."
      ],
      "metadata": {
        "id": "M3eesSkzbIoq"
      }
    },
    {
      "cell_type": "markdown",
      "source": [
        "Q-9 How does matplotlib differ from plotly ?"
      ],
      "metadata": {
        "id": "MnkdEK10bJ6L"
      }
    },
    {
      "cell_type": "markdown",
      "source": [
        "SOL - Matplotlib and Plotly are both powerful Python libraries for data visualization, but they differ significantly in their approach, features, and use cases."
      ],
      "metadata": {
        "id": "Fg6dpXYgbSA6"
      }
    },
    {
      "cell_type": "markdown",
      "source": [
        "Q-10 What is the significance of hierarchical indexing in Python ?"
      ],
      "metadata": {
        "id": "DsdGduDlbTSa"
      }
    },
    {
      "cell_type": "markdown",
      "source": [
        "SOL - Hierarchical indexing, also known as MultiIndexing, is a feature in Pandas that allows you to have multiple levels of indices in a DataFrame or Series. Key Features of Hierarchical Indexing - Multiple Levels of Indexing, Facilitates Grouped Data Operations, Improved Data Organization."
      ],
      "metadata": {
        "id": "NrXc0Y7Nbiei"
      }
    },
    {
      "cell_type": "markdown",
      "source": [
        "Q-11 What is the role of seaborn's pairplot() function ?"
      ],
      "metadata": {
        "id": "P-Ug0NrKbjhO"
      }
    },
    {
      "cell_type": "markdown",
      "source": [
        "SOL - The pairplot() function in Seaborn is a powerful tool used for visualizing pairwise relationships between multiple variables in a dataset. It creates a grid of scatter plots for each pair of features in the data, allowing you to explore the relationships and distributions across multiple variables at once."
      ],
      "metadata": {
        "id": "Bfv1j14abxnR"
      }
    },
    {
      "cell_type": "markdown",
      "source": [
        "Q-12 What is the purpose of the describe() function in Pandas ?"
      ],
      "metadata": {
        "id": "6tOBcPvebyW8"
      }
    },
    {
      "cell_type": "markdown",
      "source": [
        "SOL - Describe() method is mostly used in Pandas with the help of this we get description of data in the DataFrame. The describe() method also provide a statistical summary of the DataFrame or series. If it contain numerical data then we can use - count, Mean, std, Min, 25%, 50%, 75%: Percentiles, Max."
      ],
      "metadata": {
        "id": "kH67uabVb7nq"
      }
    },
    {
      "cell_type": "markdown",
      "source": [
        "Q-13 Why is handling missing data important in Pandas ?"
      ],
      "metadata": {
        "id": "xDiT7FL0b8WR"
      }
    },
    {
      "cell_type": "markdown",
      "source": [
        "SOL -  It is mainly used for ensuring that your data analysis is reliable and accurate. And also Handling missing data is a critical step in data analysis and machine learning because missing values can significantly impact the quality and reliability of your analysis, models, and decision-making. Reasons for Handling Missing Data - Data Integrity, Model Training, Consistency, Avoiding Data Loss, Better Predictions\n",
        "."
      ],
      "metadata": {
        "id": "Q2Q6SXxNcHir"
      }
    },
    {
      "cell_type": "markdown",
      "source": [
        "Q-14 What are the benefits of using Plotly for data Visualization ?"
      ],
      "metadata": {
        "id": "JUkwwcGecIab"
      }
    },
    {
      "cell_type": "markdown",
      "source": [
        "SOL - Plotly is most used library in python. It is mainly used large datasets in this with few lines of code, you can build visualizations that let sers zoom, hover on data points for additional data points. So plotly is a versatile and powerful library for creating interactive and visually appealing data visualizations in Python and other programming languages.   "
      ],
      "metadata": {
        "id": "SjyzjTvGcXNh"
      }
    },
    {
      "cell_type": "markdown",
      "source": [
        "Q-15 How does Numpy handle multidimensional arrays ?"
      ],
      "metadata": {
        "id": "UlTT7BYTcX98"
      }
    },
    {
      "cell_type": "markdown",
      "source": [
        "SOL - NumPy is designed to efficiently handle multidimensional arrays, known as ndarrays. These arrays can have one or more dimensions, and NumPy provides a rich set of tools for creating, manipulating, and performing operations on them."
      ],
      "metadata": {
        "id": "eyCS6fdEcs5P"
      }
    },
    {
      "cell_type": "markdown",
      "source": [
        "Q-16 What is the role of Bokeh in data visualization ?"
      ],
      "metadata": {
        "id": "nVAvVcmvctpu"
      }
    },
    {
      "cell_type": "markdown",
      "source": [
        "SOL - Bokeh is a powerful Python library for creating interactive and visually appealing data visualizations for modern web browsers. It is designed to handle large datasets efficiently and offers an intuitive interface for both beginners and advanced users. The primary focus of Bokeh is to provide dynamic, web-based visualizations that can be easily shared and integrated into applications. Bokeh also serves as a robust library for creating interactive and visually appealing visualizations."
      ],
      "metadata": {
        "id": "As-ykGbYdBq8"
      }
    },
    {
      "cell_type": "markdown",
      "source": [
        "Q-17 Explain the difference between apply() and map() in Pandas ?"
      ],
      "metadata": {
        "id": "T73egdkVdDgJ"
      }
    },
    {
      "cell_type": "markdown",
      "source": [
        "SOL - Both apply() and map() are used to apply functions to data in a Pandas DataFrame or Series. Map() Method Works only on Pandas Series (single column or row of a DataFrame). And only applies a function element-wise to transform or map each element of the Series.\n",
        "But on the other hand apply() applies a function along an axis (rows or columns) of a DataFrame or element-wise on a Series and also Works with both pd.Series and pd.DataFrame.\n"
      ],
      "metadata": {
        "id": "_CdwN54ddS-v"
      }
    },
    {
      "cell_type": "markdown",
      "source": [
        "Q-18 What are some advanced features of Numpy ?"
      ],
      "metadata": {
        "id": "NMe39j4jdT0q"
      }
    },
    {
      "cell_type": "markdown",
      "source": [
        "SOL - NumPy is a powerful library in Python for numerical computations. Beyond basic operations, it offers several advanced features that make it indispensable for scientific computing, data analysis, and machine learning workflows."
      ],
      "metadata": {
        "id": "prE2NkgTdp5J"
      }
    },
    {
      "cell_type": "markdown",
      "source": [
        "Q-19 How does Pandas simplify time series analysis ?"
      ],
      "metadata": {
        "id": "AQjNvY_kdrCS"
      }
    },
    {
      "cell_type": "markdown",
      "source": [
        "SOL - Pandas provides robust support for handling, analyzing, and visualizing time series data. Its features make it straightforward to work with time-indexed data, enabling efficient and intuitive workflows for time series analysis."
      ],
      "metadata": {
        "id": "R2KfkCEYd4j8"
      }
    },
    {
      "cell_type": "markdown",
      "source": [
        "Q-20 What is the role of a pivot table in Pandas ?"
      ],
      "metadata": {
        "id": "5Sse7kLrd5XO"
      }
    },
    {
      "cell_type": "markdown",
      "source": [
        "SOL - A pivot table in Pandas is a powerful tool used for summarizing and reorganizing data. It allows you to group, aggregate, and reshape data efficiently to derive meaningful insights. Pivot tables are particularly useful for exploring relationships and trends within multidimensional datasets.\n",
        "It Pandas acts as a dynamic tool to rearrange, aggregate, and analyze data in a structured tabular form. It enables users to extract insights from large datasets by reorganizing the data based on specified criteria."
      ],
      "metadata": {
        "id": "AHwdQwc1eKCs"
      }
    },
    {
      "cell_type": "markdown",
      "source": [
        "Q-21 Why is Numpy's array slicing faster than Python's list slicing ?"
      ],
      "metadata": {
        "id": "uhIO5skNd6vz"
      }
    },
    {
      "cell_type": "markdown",
      "source": [
        "SOL - NumPy’s array slicing is faster than Python’s list slicing due to differences in their underlying data structures and the way they handle memory and operations."
      ],
      "metadata": {
        "id": "M46lcExMegcR"
      }
    },
    {
      "cell_type": "markdown",
      "source": [
        "Q-22 What are some common use cases for Seaborn ?"
      ],
      "metadata": {
        "id": "1pRg_2GDehzQ"
      }
    },
    {
      "cell_type": "markdown",
      "source": [
        "SOL - Seaborn is a powerful Python data visualization library based on Matplotlib, designed to create attractive and informative statistical graphics. It provides an interface for creating a wide variety of visualizations, especially for exploring and analyzing statistical relationships within datasets."
      ],
      "metadata": {
        "id": "BxMUUfk3ev_k"
      }
    },
    {
      "cell_type": "markdown",
      "source": [
        "# **Practical**"
      ],
      "metadata": {
        "id": "YI_e__IIew9C"
      }
    },
    {
      "cell_type": "markdown",
      "source": [
        "Q-1 How do you create a 2D Numpy array and calculate the sum of each row ?"
      ],
      "metadata": {
        "id": "kKgZhvrUe0JJ"
      }
    },
    {
      "cell_type": "code",
      "source": [
        "import numpy as np\n",
        "\n",
        "array_2d = np.array([[1, 2, 3],\n",
        "                     [4, 5, 6],\n",
        "                     [7, 8, 9]])\n",
        "\n",
        "row_sums = np.sum(array_2d, axis=1)\n",
        "\n",
        "print(\"Sum of each row:\", row_sums)"
      ],
      "metadata": {
        "id": "s4E26nslfQZQ",
        "colab": {
          "base_uri": "https://localhost:8080/"
        },
        "outputId": "465263f3-8b1b-4347-934a-7d6f4ea79ff9"
      },
      "execution_count": 13,
      "outputs": [
        {
          "output_type": "stream",
          "name": "stdout",
          "text": [
            "Sum of each row: [ 6 15 24]\n"
          ]
        }
      ]
    },
    {
      "cell_type": "markdown",
      "source": [
        "Q-2 Write a Pandas script to find the mean of a specific column in a DataFrame ?"
      ],
      "metadata": {
        "id": "iMLUQ0r1fQ2Y"
      }
    },
    {
      "cell_type": "code",
      "source": [
        "import pandas as pd\n",
        "\n",
        "data = {\n",
        "    'Name': ['Alice', 'Bob', 'Charlie', 'David'],\n",
        "    'Age': [25, 30, 35, 40],\n",
        "    'Salary': [50000, 60000, 70000, 80000]\n",
        "}\n",
        "\n",
        "df = pd.DataFrame(data)\n",
        "\n",
        "mean_age = df['Age'].mean()\n",
        "\n",
        "print(\"Mean Age:\", mean_age)"
      ],
      "metadata": {
        "id": "AuYAmy0ofjTY",
        "colab": {
          "base_uri": "https://localhost:8080/"
        },
        "outputId": "7563c167-9c94-43f5-c0ba-6a90fa432eba"
      },
      "execution_count": 12,
      "outputs": [
        {
          "output_type": "stream",
          "name": "stdout",
          "text": [
            "Mean Age: 32.5\n"
          ]
        }
      ]
    },
    {
      "cell_type": "markdown",
      "source": [
        "Q-3 Create a scatter plot using Matplotlib ?"
      ],
      "metadata": {
        "id": "Q48XReYtfjyC"
      }
    },
    {
      "cell_type": "code",
      "source": [
        "import matplotlib.pyplot as plt\n",
        "\n",
        "x = [1, 2, 3, 4, 5]\n",
        "y = [2, 4, 1, 8, 7]\n",
        "\n",
        "plt.scatter(x, y, color='blue', marker='o', label='Data points')\n",
        "\n",
        "plt.xlabel('X-axis Label')\n",
        "plt.ylabel('Y-axis Label')\n",
        "plt.title('Scatter Plot Example')\n",
        "\n",
        "plt.legend()\n",
        "plt.show()"
      ],
      "metadata": {
        "id": "bVlPSsKQf0Fj",
        "colab": {
          "base_uri": "https://localhost:8080/",
          "height": 472
        },
        "outputId": "a5d481cb-cf84-4759-cb74-49719db77693"
      },
      "execution_count": 11,
      "outputs": [
        {
          "output_type": "display_data",
          "data": {
            "text/plain": [
              "<Figure size 640x480 with 1 Axes>"
            ],
            "image/png": "[encoded data removed]"
          },
          "metadata": {}
        }
      ]
    },
    {
      "cell_type": "markdown",
      "source": [
        "Q-4 How do you calculate the correlation matrix using Seaborn and visualize it with a heatmap ?"
      ],
      "metadata": {
        "id": "Cq9HzYzVf0fZ"
      }
    },
    {
      "cell_type": "code",
      "source": [
        "import pandas as pd\n",
        "import seaborn as sns\n",
        "import matplotlib.pyplot as plt\n",
        "\n",
        "data = {\n",
        "    'Age': [25, 30, 35, 40, 28],\n",
        "    'Salary': [50000, 60000, 70000, 80000, 52000],\n",
        "    'Experience': [2, 4, 6, 8, 3],\n",
        "    'Performance': [85, 88, 90, 95, 87]\n",
        "}\n",
        "\n",
        "df = pd.DataFrame(data)\n",
        "\n",
        "correlation_matrix = df.corr()\n",
        "\n",
        "print(correlation_matrix)\n",
        "\n",
        "plt.figure(figsize=(8, 6))\n",
        "sns.heatmap(correlation_matrix, annot=True, cmap='coolwarm', fmt=\".2f\", linewidths=0.5)\n",
        "\n",
        "plt.title('Correlation Matrix Heatmap')\n",
        "\n",
        "plt.show()\n"
      ],
      "metadata": {
        "id": "q7HiQzwmgMm2",
        "colab": {
          "base_uri": "https://localhost:8080/",
          "height": 634
        },
        "outputId": "442ef584-f4ff-4832-a11c-050c5f73c114"
      },
      "execution_count": 10,
      "outputs": [
        {
          "output_type": "stream",
          "name": "stdout",
          "text": [
            "                  Age    Salary  Experience  Performance\n",
            "Age          1.000000  0.991040    0.999389     0.983464\n",
            "Salary       0.991040  1.000000    0.995102     0.969044\n",
            "Experience   0.999389  0.995102    1.000000     0.981397\n",
            "Performance  0.983464  0.969044    0.981397     1.000000\n"
          ]
        },
        {
          "output_type": "display_data",
          "data": {
            "text/plain": [
              "<Figure size 800x600 with 2 Axes>"
            ],
            "image/png": "[encoded data removed]"
          },
          "metadata": {}
        }
      ]
    },
    {
      "cell_type": "markdown",
      "source": [
        "Q-5 Genearate a bar plot using Plotly ?"
      ],
      "metadata": {
        "id": "NE-DVa5DgM19"
      }
    },
    {
      "cell_type": "code",
      "source": [
        "import plotly.graph_objects as go\n",
        "\n",
        "categories = ['Category A', 'Category B', 'Category C', 'Category D']\n",
        "values = [23, 45, 56, 78]\n",
        "\n",
        "fig = go.Figure(\n",
        "    data=[\n",
        "        go.Bar(\n",
        "            x=categories,\n",
        "            y=values,\n",
        "            marker_color='skyblue',\n",
        "            name='Values'\n",
        "        )\n",
        "    ]\n",
        ")\n",
        "\n",
        "fig.update_layout(\n",
        "    title=\"Bar Plot Example\",\n",
        "    xaxis_title=\"Categories\",\n",
        "    yaxis_title=\"Values\",\n",
        "    template=\"plotly_white\"\n",
        ")\n",
        "\n",
        "fig.show()"
      ],
      "metadata": {
        "id": "mxegWPsbgbfu",
        "colab": {
          "base_uri": "https://localhost:8080/",
          "height": 542
        },
        "outputId": "4ff55738-24d0-4690-fd2a-bf31552a6a56"
      },
      "execution_count": 9,
      "outputs": [
        {
          "output_type": "display_data",
          "data": {
            "text/html": [
              "<html>\n",
              "<head><meta charset=\"utf-8\" /></head>\n",
              "<body>\n",
              "    <div>            <script src=\"https://cdnjs.cloudflare.com/ajax/libs/mathjax/2.7.5/MathJax.js?config=TeX-AMS-MML_SVG\"></script><script type=\"text/javascript\">if (window.MathJax && window.MathJax.Hub && window.MathJax.Hub.Config) {window.MathJax.Hub.Config({SVG: {font: \"STIX-Web\"}});}</script>                <script type=\"text/javascript\">window.PlotlyConfig = {MathJaxConfig: 'local'};</script>\n",
              "        <script charset=\"utf-8\" src=\"https://cdn.plot.ly/plotly-2.35.2.min.js\"></script>                <div id=\"1ba3dc58-14e3-4d58-9123-fc84b7ef1011\" class=\"plotly-graph-div\" style=\"height:525px; width:100%;\"></div>            <script type=\"text/javascript\">                                    window.PLOTLYENV=window.PLOTLYENV || {};                                    if (document.getElementById(\"1ba3dc58-14e3-4d58-9123-fc84b7ef1011\")) {                    Plotly.newPlot(                        \"1ba3dc58-14e3-4d58-9123-fc84b7ef1011\",                        [{\"marker\":{\"color\":\"skyblue\"},\"name\":\"Values\",\"x\":[\"Category A\",\"Category B\",\"Category C\",\"Category D\"],\"y\":[23,45,56,78],\"type\":\"bar\"}],                        {\"template\":{\"data\":{\"barpolar\":[{\"marker\":{\"line\":{\"color\":\"white\",\"width\":0.5},\"pattern\":{\"fillmode\":\"overlay\",\"size\":10,\"solidity\":0.2}},\"type\":\"barpolar\"}],\"bar\":[{\"error_x\":{\"color\":\"#2a3f5f\"},\"error_y\":{\"color\":\"#2a3f5f\"},\"marker\":{\"line\":{\"color\":\"white\",\"width\":0.5},\"pattern\":{\"fillmode\":\"overlay\",\"size\":10,\"solidity\":0.2}},\"type\":\"bar\"}],\"carpet\":[{\"aaxis\":{\"endlinecolor\":\"#2a3f5f\",\"gridcolor\":\"#C8D4E3\",\"linecolor\":\"#C8D4E3\",\"minorgridcolor\":\"#C8D4E3\",\"startlinecolor\":\"#2a3f5f\"},\"baxis\":{\"endlinecolor\":\"#2a3f5f\",\"gridcolor\":\"#C8D4E3\",\"linecolor\":\"#C8D4E3\",\"minorgridcolor\":\"#C8D4E3\",\"startlinecolor\":\"#2a3f5f\"},\"type\":\"carpet\"}],\"choropleth\":[{\"colorbar\":{\"outlinewidth\":0,\"ticks\":\"\"},\"type\":\"choropleth\"}],\"contourcarpet\":[{\"colorbar\":{\"outlinewidth\":0,\"ticks\":\"\"},\"type\":\"contourcarpet\"}],\"contour\":[{\"colorbar\":{\"outlinewidth\":0,\"ticks\":\"\"},\"colorscale\":[[0.0,\"#0d0887\"],[0.1111111111111111,\"#46039f\"],[0.2222222222222222,\"#7201a8\"],[0.3333333333333333,\"#9c179e\"],[0.4444444444444444,\"#bd3786\"],[0.5555555555555556,\"#d8576b\"],[0.6666666666666666,\"#ed7953\"],[0.7777777777777778,\"#fb9f3a\"],[0.8888888888888888,\"#fdca26\"],[1.0,\"#f0f921\"]],\"type\":\"contour\"}],\"heatmapgl\":[{\"colorbar\":{\"outlinewidth\":0,\"ticks\":\"\"},\"colorscale\":[[0.0,\"#0d0887\"],[0.1111111111111111,\"#46039f\"],[0.2222222222222222,\"#7201a8\"],[0.3333333333333333,\"#9c179e\"],[0.4444444444444444,\"#bd3786\"],[0.5555555555555556,\"#d8576b\"],[0.6666666666666666,\"#ed7953\"],[0.7777777777777778,\"#fb9f3a\"],[0.8888888888888888,\"#fdca26\"],[1.0,\"#f0f921\"]],\"type\":\"heatmapgl\"}],\"heatmap\":[{\"colorbar\":{\"outlinewidth\":0,\"ticks\":\"\"},\"colorscale\":[[0.0,\"#0d0887\"],[0.1111111111111111,\"#46039f\"],[0.2222222222222222,\"#7201a8\"],[0.3333333333333333,\"#9c179e\"],[0.4444444444444444,\"#bd3786\"],[0.5555555555555556,\"#d8576b\"],[0.6666666666666666,\"#ed7953\"],[0.7777777777777778,\"#fb9f3a\"],[0.8888888888888888,\"#fdca26\"],[1.0,\"#f0f921\"]],\"type\":\"heatmap\"}],\"histogram2dcontour\":[{\"colorbar\":{\"outlinewidth\":0,\"ticks\":\"\"},\"colorscale\":[[0.0,\"#0d0887\"],[0.1111111111111111,\"#46039f\"],[0.2222222222222222,\"#7201a8\"],[0.3333333333333333,\"#9c179e\"],[0.4444444444444444,\"#bd3786\"],[0.5555555555555556,\"#d8576b\"],[0.6666666666666666,\"#ed7953\"],[0.7777777777777778,\"#fb9f3a\"],[0.8888888888888888,\"#fdca26\"],[1.0,\"#f0f921\"]],\"type\":\"histogram2dcontour\"}],\"histogram2d\":[{\"colorbar\":{\"outlinewidth\":0,\"ticks\":\"\"},\"colorscale\":[[0.0,\"#0d0887\"],[0.1111111111111111,\"#46039f\"],[0.2222222222222222,\"#7201a8\"],[0.3333333333333333,\"#9c179e\"],[0.4444444444444444,\"#bd3786\"],[0.5555555555555556,\"#d8576b\"],[0.6666666666666666,\"#ed7953\"],[0.7777777777777778,\"#fb9f3a\"],[0.8888888888888888,\"#fdca26\"],[1.0,\"#f0f921\"]],\"type\":\"histogram2d\"}],\"histogram\":[{\"marker\":{\"pattern\":{\"fillmode\":\"overlay\",\"size\":10,\"solidity\":0.2}},\"type\":\"histogram\"}],\"mesh3d\":[{\"colorbar\":{\"outlinewidth\":0,\"ticks\":\"\"},\"type\":\"mesh3d\"}],\"parcoords\":[{\"line\":{\"colorbar\":{\"outlinewidth\":0,\"ticks\":\"\"}},\"type\":\"parcoords\"}],\"pie\":[{\"automargin\":true,\"type\":\"pie\"}],\"scatter3d\":[{\"line\":{\"colorbar\":{\"outlinewidth\":0,\"ticks\":\"\"}},\"marker\":{\"colorbar\":{\"outlinewidth\":0,\"ticks\":\"\"}},\"type\":\"scatter3d\"}],\"scattercarpet\":[{\"marker\":{\"colorbar\":{\"outlinewidth\":0,\"ticks\":\"\"}},\"type\":\"scattercarpet\"}],\"scattergeo\":[{\"marker\":{\"colorbar\":{\"outlinewidth\":0,\"ticks\":\"\"}},\"type\":\"scattergeo\"}],\"scattergl\":[{\"marker\":{\"colorbar\":{\"outlinewidth\":0,\"ticks\":\"\"}},\"type\":\"scattergl\"}],\"scattermapbox\":[{\"marker\":{\"colorbar\":{\"outlinewidth\":0,\"ticks\":\"\"}},\"type\":\"scattermapbox\"}],\"scatterpolargl\":[{\"marker\":{\"colorbar\":{\"outlinewidth\":0,\"ticks\":\"\"}},\"type\":\"scatterpolargl\"}],\"scatterpolar\":[{\"marker\":{\"colorbar\":{\"outlinewidth\":0,\"ticks\":\"\"}},\"type\":\"scatterpolar\"}],\"scatter\":[{\"fillpattern\":{\"fillmode\":\"overlay\",\"size\":10,\"solidity\":0.2},\"type\":\"scatter\"}],\"scatterternary\":[{\"marker\":{\"colorbar\":{\"outlinewidth\":0,\"ticks\":\"\"}},\"type\":\"scatterternary\"}],\"surface\":[{\"colorbar\":{\"outlinewidth\":0,\"ticks\":\"\"},\"colorscale\":[[0.0,\"#0d0887\"],[0.1111111111111111,\"#46039f\"],[0.2222222222222222,\"#7201a8\"],[0.3333333333333333,\"#9c179e\"],[0.4444444444444444,\"#bd3786\"],[0.5555555555555556,\"#d8576b\"],[0.6666666666666666,\"#ed7953\"],[0.7777777777777778,\"#fb9f3a\"],[0.8888888888888888,\"#fdca26\"],[1.0,\"#f0f921\"]],\"type\":\"surface\"}],\"table\":[{\"cells\":{\"fill\":{\"color\":\"#EBF0F8\"},\"line\":{\"color\":\"white\"}},\"header\":{\"fill\":{\"color\":\"#C8D4E3\"},\"line\":{\"color\":\"white\"}},\"type\":\"table\"}]},\"layout\":{\"annotationdefaults\":{\"arrowcolor\":\"#2a3f5f\",\"arrowhead\":0,\"arrowwidth\":1},\"autotypenumbers\":\"strict\",\"coloraxis\":{\"colorbar\":{\"outlinewidth\":0,\"ticks\":\"\"}},\"colorscale\":{\"diverging\":[[0,\"#8e0152\"],[0.1,\"#c51b7d\"],[0.2,\"#de77ae\"],[0.3,\"#f1b6da\"],[0.4,\"#fde0ef\"],[0.5,\"#f7f7f7\"],[0.6,\"#e6f5d0\"],[0.7,\"#b8e186\"],[0.8,\"#7fbc41\"],[0.9,\"#4d9221\"],[1,\"#276419\"]],\"sequential\":[[0.0,\"#0d0887\"],[0.1111111111111111,\"#46039f\"],[0.2222222222222222,\"#7201a8\"],[0.3333333333333333,\"#9c179e\"],[0.4444444444444444,\"#bd3786\"],[0.5555555555555556,\"#d8576b\"],[0.6666666666666666,\"#ed7953\"],[0.7777777777777778,\"#fb9f3a\"],[0.8888888888888888,\"#fdca26\"],[1.0,\"#f0f921\"]],\"sequentialminus\":[[0.0,\"#0d0887\"],[0.1111111111111111,\"#46039f\"],[0.2222222222222222,\"#7201a8\"],[0.3333333333333333,\"#9c179e\"],[0.4444444444444444,\"#bd3786\"],[0.5555555555555556,\"#d8576b\"],[0.6666666666666666,\"#ed7953\"],[0.7777777777777778,\"#fb9f3a\"],[0.8888888888888888,\"#fdca26\"],[1.0,\"#f0f921\"]]},\"colorway\":[\"#636efa\",\"#EF553B\",\"#00cc96\",\"#ab63fa\",\"#FFA15A\",\"#19d3f3\",\"#FF6692\",\"#B6E880\",\"#FF97FF\",\"#FECB52\"],\"font\":{\"color\":\"#2a3f5f\"},\"geo\":{\"bgcolor\":\"white\",\"lakecolor\":\"white\",\"landcolor\":\"white\",\"showlakes\":true,\"showland\":true,\"subunitcolor\":\"#C8D4E3\"},\"hoverlabel\":{\"align\":\"left\"},\"hovermode\":\"closest\",\"mapbox\":{\"style\":\"light\"},\"paper_bgcolor\":\"white\",\"plot_bgcolor\":\"white\",\"polar\":{\"angularaxis\":{\"gridcolor\":\"#EBF0F8\",\"linecolor\":\"#EBF0F8\",\"ticks\":\"\"},\"bgcolor\":\"white\",\"radialaxis\":{\"gridcolor\":\"#EBF0F8\",\"linecolor\":\"#EBF0F8\",\"ticks\":\"\"}},\"scene\":{\"xaxis\":{\"backgroundcolor\":\"white\",\"gridcolor\":\"#DFE8F3\",\"gridwidth\":2,\"linecolor\":\"#EBF0F8\",\"showbackground\":true,\"ticks\":\"\",\"zerolinecolor\":\"#EBF0F8\"},\"yaxis\":{\"backgroundcolor\":\"white\",\"gridcolor\":\"#DFE8F3\",\"gridwidth\":2,\"linecolor\":\"#EBF0F8\",\"showbackground\":true,\"ticks\":\"\",\"zerolinecolor\":\"#EBF0F8\"},\"zaxis\":{\"backgroundcolor\":\"white\",\"gridcolor\":\"#DFE8F3\",\"gridwidth\":2,\"linecolor\":\"#EBF0F8\",\"showbackground\":true,\"ticks\":\"\",\"zerolinecolor\":\"#EBF0F8\"}},\"shapedefaults\":{\"line\":{\"color\":\"#2a3f5f\"}},\"ternary\":{\"aaxis\":{\"gridcolor\":\"#DFE8F3\",\"linecolor\":\"#A2B1C6\",\"ticks\":\"\"},\"baxis\":{\"gridcolor\":\"#DFE8F3\",\"linecolor\":\"#A2B1C6\",\"ticks\":\"\"},\"bgcolor\":\"white\",\"caxis\":{\"gridcolor\":\"#DFE8F3\",\"linecolor\":\"#A2B1C6\",\"ticks\":\"\"}},\"title\":{\"x\":0.05},\"xaxis\":{\"automargin\":true,\"gridcolor\":\"#EBF0F8\",\"linecolor\":\"#EBF0F8\",\"ticks\":\"\",\"title\":{\"standoff\":15},\"zerolinecolor\":\"#EBF0F8\",\"zerolinewidth\":2},\"yaxis\":{\"automargin\":true,\"gridcolor\":\"#EBF0F8\",\"linecolor\":\"#EBF0F8\",\"ticks\":\"\",\"title\":{\"standoff\":15},\"zerolinecolor\":\"#EBF0F8\",\"zerolinewidth\":2}}},\"title\":{\"text\":\"Bar Plot Example\"},\"xaxis\":{\"title\":{\"text\":\"Categories\"}},\"yaxis\":{\"title\":{\"text\":\"Values\"}}},                        {\"responsive\": true}                    ).then(function(){\n",
              "                            \n",
              "var gd = document.getElementById('1ba3dc58-14e3-4d58-9123-fc84b7ef1011');\n",
              "var x = new MutationObserver(function (mutations, observer) {{\n",
              "        var display = window.getComputedStyle(gd).display;\n",
              "        if (!display || display === 'none') {{\n",
              "            console.log([gd, 'removed!']);\n",
              "            Plotly.purge(gd);\n",
              "            observer.disconnect();\n",
              "        }}\n",
              "}});\n",
              "\n",
              "// Listen for the removal of the full notebook cells\n",
              "var notebookContainer = gd.closest('#notebook-container');\n",
              "if (notebookContainer) {{\n",
              "    x.observe(notebookContainer, {childList: true});\n",
              "}}\n",
              "\n",
              "// Listen for the clearing of the current output cell\n",
              "var outputEl = gd.closest('.output');\n",
              "if (outputEl) {{\n",
              "    x.observe(outputEl, {childList: true});\n",
              "}}\n",
              "\n",
              "                        })                };                            </script>        </div>\n",
              "</body>\n",
              "</html>"
            ]
          },
          "metadata": {}
        }
      ]
    },
    {
      "cell_type": "markdown",
      "source": [
        "Q-6 Create a DataFrame and add a new column based on an existing column ?"
      ],
      "metadata": {
        "id": "HLzFY4GfgbqF"
      }
    },
    {
      "cell_type": "code",
      "source": [
        "import pandas as pd\n",
        "\n",
        "data = {\n",
        "    'Name': ['Alice', 'Bob', 'Charlie', 'David'],\n",
        "    'Salary': [50000, 60000, 70000, 80000],\n",
        "    'Bonus Percentage': [10, 15, 5, 20]\n",
        "}\n",
        "df = pd.DataFrame(data)\n",
        "\n",
        "df['Bonus Amount'] = df['Salary'] * (df['Bonus Percentage'] / 100)\n",
        "\n",
        "print(df)"
      ],
      "metadata": {
        "id": "ZzysDBZ9grvw",
        "colab": {
          "base_uri": "https://localhost:8080/"
        },
        "outputId": "4b470ab6-f114-467d-b70b-7ed41e302f98"
      },
      "execution_count": 8,
      "outputs": [
        {
          "output_type": "stream",
          "name": "stdout",
          "text": [
            "      Name  Salary  Bonus Percentage  Bonus Amount\n",
            "0    Alice   50000                10        5000.0\n",
            "1      Bob   60000                15        9000.0\n",
            "2  Charlie   70000                 5        3500.0\n",
            "3    David   80000                20       16000.0\n"
          ]
        }
      ]
    },
    {
      "cell_type": "markdown",
      "source": [
        "Q-7 Write a program to perform element-wise multiplication of two Numpy arrays ?"
      ],
      "metadata": {
        "id": "cq_Mc2Nugr_q"
      }
    },
    {
      "cell_type": "code",
      "source": [
        "import numpy as np\n",
        "\n",
        "array1 = np.array([1, 2, 3, 4])\n",
        "array2 = np.array([5, 6, 7, 8])\n",
        "\n",
        "result = array1 * array2\n",
        "\n",
        "print(\"Array 1:\", array1)\n",
        "print(\"Array 2:\", array2)\n",
        "print(\"Element-wise Multiplication Result:\", result)"
      ],
      "metadata": {
        "id": "-biQ3lschGHB",
        "colab": {
          "base_uri": "https://localhost:8080/"
        },
        "outputId": "af90df88-c705-42b5-949c-c304bcbdbb71"
      },
      "execution_count": 7,
      "outputs": [
        {
          "output_type": "stream",
          "name": "stdout",
          "text": [
            "Array 1: [1 2 3 4]\n",
            "Array 2: [5 6 7 8]\n",
            "Element-wise Multiplication Result: [ 5 12 21 32]\n"
          ]
        }
      ]
    },
    {
      "cell_type": "markdown",
      "source": [
        "Q-8 Create a line plot with multiple lines using Maplotlib ?"
      ],
      "metadata": {
        "id": "O8MCQYiPhGRY"
      }
    },
    {
      "cell_type": "code",
      "source": [
        "import matplotlib.pyplot as plt\n",
        "\n",
        "x = [1, 2, 3, 4, 5]\n",
        "y1 = [1, 4, 9, 16, 25]\n",
        "y2 = [1, 8, 27, 64, 125]\n",
        "y3 = [2, 4, 6, 8, 10]\n",
        "\n",
        "plt.plot(x, y1, label='y = x^2', color='blue', linestyle='-', marker='o')\n",
        "plt.plot(x, y2, label='y = x^3', color='green', linestyle='--', marker='s')\n",
        "plt.plot(x, y3, label='y = 2x', color='red', linestyle='-.', marker='d')\n",
        "\n",
        "plt.xlabel('X-axis Label')\n",
        "plt.ylabel('Y-axis Label')\n",
        "plt.title('Line Plot with Multiple Lines')\n",
        "\n",
        "plt.legend()\n",
        "plt.show()"
      ],
      "metadata": {
        "id": "K7JIdoj2hlIJ",
        "colab": {
          "base_uri": "https://localhost:8080/",
          "height": 472
        },
        "outputId": "cd7908d7-2b66-40aa-f34d-e7dab19f07d5"
      },
      "execution_count": 6,
      "outputs": [
        {
          "output_type": "display_data",
          "data": {
            "text/plain": [
              "<Figure size 640x480 with 1 Axes>"
            ],
            "image/png": "[encoded data removed]"
          },
          "metadata": {}
        }
      ]
    },
    {
      "cell_type": "markdown",
      "source": [
        "Q-9 Generate a Pandas DataFrame and filter rows where a column value is greater than a threshold ?"
      ],
      "metadata": {
        "id": "rCQzBJXRhlTG"
      }
    },
    {
      "cell_type": "code",
      "source": [
        "import pandas as pd\n",
        "\n",
        "data = {\n",
        "    'Name': ['Alice', 'Bob', 'Charlie', 'David', 'Eva'],\n",
        "    'Age': [24, 30, 35, 40, 28],\n",
        "    'Salary': [50000, 60000, 70000, 80000, 55000]\n",
        "}\n",
        "df = pd.DataFrame(data)\n",
        "\n",
        "filtered_df = df[df['Age'] > 30]\n",
        "\n",
        "print(\"Original DataFrame:\")\n",
        "print(df)\n",
        "print(\"\\nFiltered DataFrame (Age > 30):\")\n",
        "print(filtered_df)"
      ],
      "metadata": {
        "id": "K7GgMRNzzps9",
        "colab": {
          "base_uri": "https://localhost:8080/"
        },
        "outputId": "495fbbbe-e870-4592-d0db-5b08fcce1a52"
      },
      "execution_count": 5,
      "outputs": [
        {
          "output_type": "stream",
          "name": "stdout",
          "text": [
            "Original DataFrame:\n",
            "      Name  Age  Salary\n",
            "0    Alice   24   50000\n",
            "1      Bob   30   60000\n",
            "2  Charlie   35   70000\n",
            "3    David   40   80000\n",
            "4      Eva   28   55000\n",
            "\n",
            "Filtered DataFrame (Age > 30):\n",
            "      Name  Age  Salary\n",
            "2  Charlie   35   70000\n",
            "3    David   40   80000\n"
          ]
        }
      ]
    },
    {
      "cell_type": "markdown",
      "source": [
        "Q-10 Create a histogram using seaborn to visualize a distribution ?"
      ],
      "metadata": {
        "id": "uRvM4r8tzp4t"
      }
    },
    {
      "cell_type": "code",
      "source": [
        "import seaborn as sns\n",
        "import matplotlib.pyplot as plt\n",
        "\n",
        "data = [12, 15, 12, 14, 15, 18, 19, 21, 23, 22, 25, 25, 28, 30, 32, 35, 36, 40, 42, 45]\n",
        "\n",
        "sns.histplot(data, bins=10, kde=True, color='blue')\n",
        "\n",
        "plt.xlabel(\"Value\")\n",
        "plt.ylabel(\"Frequency\")\n",
        "plt.title(\"Distribution of Values\")\n",
        "\n",
        "plt.show()"
      ],
      "metadata": {
        "id": "1OYzh-aD0B7v",
        "colab": {
          "base_uri": "https://localhost:8080/",
          "height": 472
        },
        "outputId": "acd04c03-fa0c-4319-a1a5-6b13dfc2d916"
      },
      "execution_count": 4,
      "outputs": [
        {
          "output_type": "display_data",
          "data": {
            "text/plain": [
              "<Figure size 640x480 with 1 Axes>"
            ],
            "image/png": "[encoded data removed]"
          },
          "metadata": {}
        }
      ]
    },
    {
      "cell_type": "markdown",
      "source": [
        "Q-11 Perform matrix multiplication using Numpy ?"
      ],
      "metadata": {
        "id": "5XjNOPmU0CkD"
      }
    },
    {
      "cell_type": "code",
      "source": [
        "import numpy as np\n",
        "\n",
        "matrix1 = np.array([[1, 2, 3], [4, 5, 6]])\n",
        "matrix2 = np.array([[7, 8], [9, 10], [11, 12]])\n",
        "\n",
        "result = np.dot(matrix1, matrix2)\n",
        "\n",
        "result_alternative = matrix1 @ matrix2\n",
        "\n",
        "print(\"Matrix 1:\")\n",
        "print(matrix1)\n",
        "\n",
        "print(\"\\nMatrix 2:\")\n",
        "print(matrix2)\n",
        "\n",
        "print(\"\\nResult of Matrix Multiplication:\")\n",
        "print(result)"
      ],
      "metadata": {
        "id": "4sGom3ye0LfK",
        "colab": {
          "base_uri": "https://localhost:8080/"
        },
        "outputId": "c091d162-6003-45c4-b6ed-23dbff499459"
      },
      "execution_count": 3,
      "outputs": [
        {
          "output_type": "stream",
          "name": "stdout",
          "text": [
            "Matrix 1:\n",
            "[[1 2 3]\n",
            " [4 5 6]]\n",
            "\n",
            "Matrix 2:\n",
            "[[ 7  8]\n",
            " [ 9 10]\n",
            " [11 12]]\n",
            "\n",
            "Result of Matrix Multiplication:\n",
            "[[ 58  64]\n",
            " [139 154]]\n"
          ]
        }
      ]
    },
    {
      "cell_type": "markdown",
      "source": [
        "Q-12 Use pandas to load a csv file and display its first 5 rows ?"
      ],
      "metadata": {
        "id": "q5xGftYT0LuQ"
      }
    },
    {
      "cell_type": "code",
      "source": [
        "import pandas as pd\n",
        "\n",
        "df = pd.read_csv('your_file.csv')\n",
        "\n",
        "print(df.head())"
      ],
      "metadata": {
        "id": "NLjxjAQhJuoV"
      },
      "execution_count": null,
      "outputs": []
    },
    {
      "cell_type": "markdown",
      "source": [
        "Q-13 Create a 3D scatter plot using plotly ?"
      ],
      "metadata": {
        "id": "ZyUakcUp0Y4g"
      }
    },
    {
      "cell_type": "code",
      "source": [
        "import plotly.express as px\n",
        "import pandas as pd\n",
        "\n",
        "data = {\n",
        "    'X': [1, 2, 3, 4, 5],\n",
        "    'Y': [2, 4, 6, 8, 10],\n",
        "    'Z': [5, 7, 9, 11, 13]\n",
        "}\n",
        "\n",
        "df = pd.DataFrame(data)\n",
        "\n",
        "fig = px.scatter_3d(df, x='X', y='Y', z='Z', title=\"3D Scatter Plot\")\n",
        "\n",
        "fig.show()"
      ],
      "metadata": {
        "id": "G2rVNxfz0goC",
        "colab": {
          "base_uri": "https://localhost:8080/",
          "height": 542
        },
        "outputId": "ebacd2c7-e88f-44d5-c38c-4eab881e46fb"
      },
      "execution_count": 1,
      "outputs": [
        {
          "output_type": "display_data",
          "data": {
            "text/html": [
              "<html>\n",
              "<head><meta charset=\"utf-8\" /></head>\n",
              "<body>\n",
              "    <div>            <script src=\"https://cdnjs.cloudflare.com/ajax/libs/mathjax/2.7.5/MathJax.js?config=TeX-AMS-MML_SVG\"></script><script type=\"text/javascript\">if (window.MathJax && window.MathJax.Hub && window.MathJax.Hub.Config) {window.MathJax.Hub.Config({SVG: {font: \"STIX-Web\"}});}</script>                <script type=\"text/javascript\">window.PlotlyConfig = {MathJaxConfig: 'local'};</script>\n",
              "        <script charset=\"utf-8\" src=\"https://cdn.plot.ly/plotly-2.35.2.min.js\"></script>                <div id=\"0709055f-78d9-4958-aa2c-94e5e42ff9a7\" class=\"plotly-graph-div\" style=\"height:525px; width:100%;\"></div>            <script type=\"text/javascript\">                                    window.PLOTLYENV=window.PLOTLYENV || {};                                    if (document.getElementById(\"0709055f-78d9-4958-aa2c-94e5e42ff9a7\")) {                    Plotly.newPlot(                        \"0709055f-78d9-4958-aa2c-94e5e42ff9a7\",                        [{\"hovertemplate\":\"X=%{x}\\u003cbr\\u003eY=%{y}\\u003cbr\\u003eZ=%{z}\\u003cextra\\u003e\\u003c\\u002fextra\\u003e\",\"legendgroup\":\"\",\"marker\":{\"color\":\"#636efa\",\"symbol\":\"circle\"},\"mode\":\"markers\",\"name\":\"\",\"scene\":\"scene\",\"showlegend\":false,\"x\":[1,2,3,4,5],\"y\":[2,4,6,8,10],\"z\":[5,7,9,11,13],\"type\":\"scatter3d\"}],                        {\"template\":{\"data\":{\"histogram2dcontour\":[{\"type\":\"histogram2dcontour\",\"colorbar\":{\"outlinewidth\":0,\"ticks\":\"\"},\"colorscale\":[[0.0,\"#0d0887\"],[0.1111111111111111,\"#46039f\"],[0.2222222222222222,\"#7201a8\"],[0.3333333333333333,\"#9c179e\"],[0.4444444444444444,\"#bd3786\"],[0.5555555555555556,\"#d8576b\"],[0.6666666666666666,\"#ed7953\"],[0.7777777777777778,\"#fb9f3a\"],[0.8888888888888888,\"#fdca26\"],[1.0,\"#f0f921\"]]}],\"choropleth\":[{\"type\":\"choropleth\",\"colorbar\":{\"outlinewidth\":0,\"ticks\":\"\"}}],\"histogram2d\":[{\"type\":\"histogram2d\",\"colorbar\":{\"outlinewidth\":0,\"ticks\":\"\"},\"colorscale\":[[0.0,\"#0d0887\"],[0.1111111111111111,\"#46039f\"],[0.2222222222222222,\"#7201a8\"],[0.3333333333333333,\"#9c179e\"],[0.4444444444444444,\"#bd3786\"],[0.5555555555555556,\"#d8576b\"],[0.6666666666666666,\"#ed7953\"],[0.7777777777777778,\"#fb9f3a\"],[0.8888888888888888,\"#fdca26\"],[1.0,\"#f0f921\"]]}],\"heatmap\":[{\"type\":\"heatmap\",\"colorbar\":{\"outlinewidth\":0,\"ticks\":\"\"},\"colorscale\":[[0.0,\"#0d0887\"],[0.1111111111111111,\"#46039f\"],[0.2222222222222222,\"#7201a8\"],[0.3333333333333333,\"#9c179e\"],[0.4444444444444444,\"#bd3786\"],[0.5555555555555556,\"#d8576b\"],[0.6666666666666666,\"#ed7953\"],[0.7777777777777778,\"#fb9f3a\"],[0.8888888888888888,\"#fdca26\"],[1.0,\"#f0f921\"]]}],\"heatmapgl\":[{\"type\":\"heatmapgl\",\"colorbar\":{\"outlinewidth\":0,\"ticks\":\"\"},\"colorscale\":[[0.0,\"#0d0887\"],[0.1111111111111111,\"#46039f\"],[0.2222222222222222,\"#7201a8\"],[0.3333333333333333,\"#9c179e\"],[0.4444444444444444,\"#bd3786\"],[0.5555555555555556,\"#d8576b\"],[0.6666666666666666,\"#ed7953\"],[0.7777777777777778,\"#fb9f3a\"],[0.8888888888888888,\"#fdca26\"],[1.0,\"#f0f921\"]]}],\"contourcarpet\":[{\"type\":\"contourcarpet\",\"colorbar\":{\"outlinewidth\":0,\"ticks\":\"\"}}],\"contour\":[{\"type\":\"contour\",\"colorbar\":{\"outlinewidth\":0,\"ticks\":\"\"},\"colorscale\":[[0.0,\"#0d0887\"],[0.1111111111111111,\"#46039f\"],[0.2222222222222222,\"#7201a8\"],[0.3333333333333333,\"#9c179e\"],[0.4444444444444444,\"#bd3786\"],[0.5555555555555556,\"#d8576b\"],[0.6666666666666666,\"#ed7953\"],[0.7777777777777778,\"#fb9f3a\"],[0.8888888888888888,\"#fdca26\"],[1.0,\"#f0f921\"]]}],\"surface\":[{\"type\":\"surface\",\"colorbar\":{\"outlinewidth\":0,\"ticks\":\"\"},\"colorscale\":[[0.0,\"#0d0887\"],[0.1111111111111111,\"#46039f\"],[0.2222222222222222,\"#7201a8\"],[0.3333333333333333,\"#9c179e\"],[0.4444444444444444,\"#bd3786\"],[0.5555555555555556,\"#d8576b\"],[0.6666666666666666,\"#ed7953\"],[0.7777777777777778,\"#fb9f3a\"],[0.8888888888888888,\"#fdca26\"],[1.0,\"#f0f921\"]]}],\"mesh3d\":[{\"type\":\"mesh3d\",\"colorbar\":{\"outlinewidth\":0,\"ticks\":\"\"}}],\"scatter\":[{\"fillpattern\":{\"fillmode\":\"overlay\",\"size\":10,\"solidity\":0.2},\"type\":\"scatter\"}],\"parcoords\":[{\"type\":\"parcoords\",\"line\":{\"colorbar\":{\"outlinewidth\":0,\"ticks\":\"\"}}}],\"scatterpolargl\":[{\"type\":\"scatterpolargl\",\"marker\":{\"colorbar\":{\"outlinewidth\":0,\"ticks\":\"\"}}}],\"bar\":[{\"error_x\":{\"color\":\"#2a3f5f\"},\"error_y\":{\"color\":\"#2a3f5f\"},\"marker\":{\"line\":{\"color\":\"#E5ECF6\",\"width\":0.5},\"pattern\":{\"fillmode\":\"overlay\",\"size\":10,\"solidity\":0.2}},\"type\":\"bar\"}],\"scattergeo\":[{\"type\":\"scattergeo\",\"marker\":{\"colorbar\":{\"outlinewidth\":0,\"ticks\":\"\"}}}],\"scatterpolar\":[{\"type\":\"scatterpolar\",\"marker\":{\"colorbar\":{\"outlinewidth\":0,\"ticks\":\"\"}}}],\"histogram\":[{\"marker\":{\"pattern\":{\"fillmode\":\"overlay\",\"size\":10,\"solidity\":0.2}},\"type\":\"histogram\"}],\"scattergl\":[{\"type\":\"scattergl\",\"marker\":{\"colorbar\":{\"outlinewidth\":0,\"ticks\":\"\"}}}],\"scatter3d\":[{\"type\":\"scatter3d\",\"line\":{\"colorbar\":{\"outlinewidth\":0,\"ticks\":\"\"}},\"marker\":{\"colorbar\":{\"outlinewidth\":0,\"ticks\":\"\"}}}],\"scattermapbox\":[{\"type\":\"scattermapbox\",\"marker\":{\"colorbar\":{\"outlinewidth\":0,\"ticks\":\"\"}}}],\"scatterternary\":[{\"type\":\"scatterternary\",\"marker\":{\"colorbar\":{\"outlinewidth\":0,\"ticks\":\"\"}}}],\"scattercarpet\":[{\"type\":\"scattercarpet\",\"marker\":{\"colorbar\":{\"outlinewidth\":0,\"ticks\":\"\"}}}],\"carpet\":[{\"aaxis\":{\"endlinecolor\":\"#2a3f5f\",\"gridcolor\":\"white\",\"linecolor\":\"white\",\"minorgridcolor\":\"white\",\"startlinecolor\":\"#2a3f5f\"},\"baxis\":{\"endlinecolor\":\"#2a3f5f\",\"gridcolor\":\"white\",\"linecolor\":\"white\",\"minorgridcolor\":\"white\",\"startlinecolor\":\"#2a3f5f\"},\"type\":\"carpet\"}],\"table\":[{\"cells\":{\"fill\":{\"color\":\"#EBF0F8\"},\"line\":{\"color\":\"white\"}},\"header\":{\"fill\":{\"color\":\"#C8D4E3\"},\"line\":{\"color\":\"white\"}},\"type\":\"table\"}],\"barpolar\":[{\"marker\":{\"line\":{\"color\":\"#E5ECF6\",\"width\":0.5},\"pattern\":{\"fillmode\":\"overlay\",\"size\":10,\"solidity\":0.2}},\"type\":\"barpolar\"}],\"pie\":[{\"automargin\":true,\"type\":\"pie\"}]},\"layout\":{\"autotypenumbers\":\"strict\",\"colorway\":[\"#636efa\",\"#EF553B\",\"#00cc96\",\"#ab63fa\",\"#FFA15A\",\"#19d3f3\",\"#FF6692\",\"#B6E880\",\"#FF97FF\",\"#FECB52\"],\"font\":{\"color\":\"#2a3f5f\"},\"hovermode\":\"closest\",\"hoverlabel\":{\"align\":\"left\"},\"paper_bgcolor\":\"white\",\"plot_bgcolor\":\"#E5ECF6\",\"polar\":{\"bgcolor\":\"#E5ECF6\",\"angularaxis\":{\"gridcolor\":\"white\",\"linecolor\":\"white\",\"ticks\":\"\"},\"radialaxis\":{\"gridcolor\":\"white\",\"linecolor\":\"white\",\"ticks\":\"\"}},\"ternary\":{\"bgcolor\":\"#E5ECF6\",\"aaxis\":{\"gridcolor\":\"white\",\"linecolor\":\"white\",\"ticks\":\"\"},\"baxis\":{\"gridcolor\":\"white\",\"linecolor\":\"white\",\"ticks\":\"\"},\"caxis\":{\"gridcolor\":\"white\",\"linecolor\":\"white\",\"ticks\":\"\"}},\"coloraxis\":{\"colorbar\":{\"outlinewidth\":0,\"ticks\":\"\"}},\"colorscale\":{\"sequential\":[[0.0,\"#0d0887\"],[0.1111111111111111,\"#46039f\"],[0.2222222222222222,\"#7201a8\"],[0.3333333333333333,\"#9c179e\"],[0.4444444444444444,\"#bd3786\"],[0.5555555555555556,\"#d8576b\"],[0.6666666666666666,\"#ed7953\"],[0.7777777777777778,\"#fb9f3a\"],[0.8888888888888888,\"#fdca26\"],[1.0,\"#f0f921\"]],\"sequentialminus\":[[0.0,\"#0d0887\"],[0.1111111111111111,\"#46039f\"],[0.2222222222222222,\"#7201a8\"],[0.3333333333333333,\"#9c179e\"],[0.4444444444444444,\"#bd3786\"],[0.5555555555555556,\"#d8576b\"],[0.6666666666666666,\"#ed7953\"],[0.7777777777777778,\"#fb9f3a\"],[0.8888888888888888,\"#fdca26\"],[1.0,\"#f0f921\"]],\"diverging\":[[0,\"#8e0152\"],[0.1,\"#c51b7d\"],[0.2,\"#de77ae\"],[0.3,\"#f1b6da\"],[0.4,\"#fde0ef\"],[0.5,\"#f7f7f7\"],[0.6,\"#e6f5d0\"],[0.7,\"#b8e186\"],[0.8,\"#7fbc41\"],[0.9,\"#4d9221\"],[1,\"#276419\"]]},\"xaxis\":{\"gridcolor\":\"white\",\"linecolor\":\"white\",\"ticks\":\"\",\"title\":{\"standoff\":15},\"zerolinecolor\":\"white\",\"automargin\":true,\"zerolinewidth\":2},\"yaxis\":{\"gridcolor\":\"white\",\"linecolor\":\"white\",\"ticks\":\"\",\"title\":{\"standoff\":15},\"zerolinecolor\":\"white\",\"automargin\":true,\"zerolinewidth\":2},\"scene\":{\"xaxis\":{\"backgroundcolor\":\"#E5ECF6\",\"gridcolor\":\"white\",\"linecolor\":\"white\",\"showbackground\":true,\"ticks\":\"\",\"zerolinecolor\":\"white\",\"gridwidth\":2},\"yaxis\":{\"backgroundcolor\":\"#E5ECF6\",\"gridcolor\":\"white\",\"linecolor\":\"white\",\"showbackground\":true,\"ticks\":\"\",\"zerolinecolor\":\"white\",\"gridwidth\":2},\"zaxis\":{\"backgroundcolor\":\"#E5ECF6\",\"gridcolor\":\"white\",\"linecolor\":\"white\",\"showbackground\":true,\"ticks\":\"\",\"zerolinecolor\":\"white\",\"gridwidth\":2}},\"shapedefaults\":{\"line\":{\"color\":\"#2a3f5f\"}},\"annotationdefaults\":{\"arrowcolor\":\"#2a3f5f\",\"arrowhead\":0,\"arrowwidth\":1},\"geo\":{\"bgcolor\":\"white\",\"landcolor\":\"#E5ECF6\",\"subunitcolor\":\"white\",\"showland\":true,\"showlakes\":true,\"lakecolor\":\"white\"},\"title\":{\"x\":0.05},\"mapbox\":{\"style\":\"light\"}}},\"scene\":{\"domain\":{\"x\":[0.0,1.0],\"y\":[0.0,1.0]},\"xaxis\":{\"title\":{\"text\":\"X\"}},\"yaxis\":{\"title\":{\"text\":\"Y\"}},\"zaxis\":{\"title\":{\"text\":\"Z\"}}},\"legend\":{\"tracegroupgap\":0},\"title\":{\"text\":\"3D Scatter Plot\"}},                        {\"responsive\": true}                    ).then(function(){\n",
              "                            \n",
              "var gd = document.getElementById('0709055f-78d9-4958-aa2c-94e5e42ff9a7');\n",
              "var x = new MutationObserver(function (mutations, observer) {{\n",
              "        var display = window.getComputedStyle(gd).display;\n",
              "        if (!display || display === 'none') {{\n",
              "            console.log([gd, 'removed!']);\n",
              "            Plotly.purge(gd);\n",
              "            observer.disconnect();\n",
              "        }}\n",
              "}});\n",
              "\n",
              "// Listen for the removal of the full notebook cells\n",
              "var notebookContainer = gd.closest('#notebook-container');\n",
              "if (notebookContainer) {{\n",
              "    x.observe(notebookContainer, {childList: true});\n",
              "}}\n",
              "\n",
              "// Listen for the clearing of the current output cell\n",
              "var outputEl = gd.closest('.output');\n",
              "if (outputEl) {{\n",
              "    x.observe(outputEl, {childList: true});\n",
              "}}\n",
              "\n",
              "                        })                };                            </script>        </div>\n",
              "</body>\n",
              "</html>"
            ]
          },
          "metadata": {}
        }
      ]
    }
  ]
}