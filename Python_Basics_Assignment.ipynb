{
  "nbformat": 4,
  "nbformat_minor": 0,
  "metadata": {
    "colab": {
      "provenance": []
    },
    "kernelspec": {
      "name": "python3",
      "display_name": "Python 3"
    },
    "language_info": {
      "name": "python"
    }
  },
  "cells": [
    {
      "cell_type": "markdown",
      "source": [
        "# Python Basics Questions"
      ],
      "metadata": {
        "id": "M6J6MmNkTNw6"
      }
    },
    {
      "cell_type": "markdown",
      "source": [
        "Q-1  What is Python, and why it is popular ?"
      ],
      "metadata": {
        "id": "6eK_r3RjTKFu"
      }
    },
    {
      "cell_type": "markdown",
      "source": [
        "    Ans-  Python is a interpreted language which is run its code line by line. Pyton is very easy language. It create a bridge for connection between machine and human.\n",
        "    Python is famous for its vast amount of libraries and its simplicity. The libraries is used for web development as well as in the machine learning algorithm and data visualization.\n"
      ],
      "metadata": {
        "id": "FYZf-FljWLEr"
      }
    },
    {
      "cell_type": "markdown",
      "source": [
        "Q-2  What is an interpreter in Python ?"
      ],
      "metadata": {
        "id": "1CC-9LEQZHiP"
      }
    },
    {
      "cell_type": "markdown",
      "source": [
        "    Ans- Interpreter is like a translater which convert python code into machine code which will become understable by the comouter. It conert High level language into machine code."
      ],
      "metadata": {
        "id": "MkdyMUIGZNeg"
      }
    },
    {
      "cell_type": "markdown",
      "source": [
        "Q-3 What are pre-defined keywords in Python ?"
      ],
      "metadata": {
        "id": "kJn-3oRkZyLe"
      }
    },
    {
      "cell_type": "markdown",
      "source": [
        "    Ans- There are some kewwords in python which can not be change. There multiple keywords like if, else, for, while, import, do while, def, class, try etc."
      ],
      "metadata": {
        "id": "N00bxNIwaE_j"
      }
    },
    {
      "cell_type": "markdown",
      "source": [
        "Q-4 Can keywords can be used as a variable names ?"
      ],
      "metadata": {
        "id": "G32GS1KGawfw"
      }
    },
    {
      "cell_type": "markdown",
      "source": [
        "    Ans - No, We can't use keywords as a variables."
      ],
      "metadata": {
        "id": "zcPBo4_RbGrp"
      }
    },
    {
      "cell_type": "markdown",
      "source": [
        "Q-5 What is mutability in Python ?"
      ],
      "metadata": {
        "id": "7MRmnW1JbQFr"
      }
    },
    {
      "cell_type": "markdown",
      "source": [
        "    Ans - Mutability means we can change and update the data which are stored. There some mutables versions like List, dicstionary etc."
      ],
      "metadata": {
        "id": "A4ZZSqJLbhgN"
      }
    },
    {
      "cell_type": "markdown",
      "source": [
        "Q-6 Why are lists is mutable, but tuples are immutable ?"
      ],
      "metadata": {
        "id": "s-u6yje7cBYR"
      }
    },
    {
      "cell_type": "markdown",
      "source": [
        "    Ans - Lists are mutable because we can update change and delete in the lists. But in the tuple we can't change or update anything that's why tuple is immutable."
      ],
      "metadata": {
        "id": "m2kRxGjacUAS"
      }
    },
    {
      "cell_type": "markdown",
      "source": [
        "Q-7 What is the difference between \"==\" and \"is\" operators in python ?"
      ],
      "metadata": {
        "id": "oHpSACjJcskp"
      }
    },
    {
      "cell_type": "markdown",
      "source": [
        "    Ans - \"==\" it is equality operator which comes under arthmetic operator which is also used for comparison and determining equality.\n",
        "    as well as \"is\" operator which are used to compare objects based on their identity."
      ],
      "metadata": {
        "id": "UvgONoJkdWQ4"
      }
    },
    {
      "cell_type": "markdown",
      "source": [
        "Q-8 What are logical operator in Python ?"
      ],
      "metadata": {
        "id": "MZGIEwSTeudx"
      }
    },
    {
      "cell_type": "markdown",
      "source": [
        "    Ans - Logical operators is like symbols or words which compare expressions.\n",
        "    There are multiple boolean logical operators like And, Or, Not, Xor."
      ],
      "metadata": {
        "id": "Z1dwBFz5e3Lb"
      }
    },
    {
      "cell_type": "markdown",
      "source": [
        "Q-9 What is type casting in Python ?"
      ],
      "metadata": {
        "id": "d9AIP0n8feWi"
      }
    },
    {
      "cell_type": "markdown",
      "source": [
        "    Ans - Type casting is also called type conversion which is used for converting datatypes into another datatypes like int() to Float() or int()convert into str()."
      ],
      "metadata": {
        "id": "NRm2-2z0fxBE"
      }
    },
    {
      "cell_type": "markdown",
      "source": [
        "Q-10 What is the difference in implicit and explicit type casting ?"
      ],
      "metadata": {
        "id": "EvVKvsJugOm2"
      }
    },
    {
      "cell_type": "markdown",
      "source": [
        "    Ans - With the help of implicit type casting python converts datatype into another datatype without the intervation of user.\n",
        "    On the other hand in the implicit datatype Python needs user involvement to convert the variable data type into the required data type."
      ],
      "metadata": {
        "id": "STpbMYsBgiAM"
      }
    },
    {
      "cell_type": "markdown",
      "source": [
        "Q-11 What is the purpose of conditionals statements in Python ?"
      ],
      "metadata": {
        "id": "H93csULchaHL"
      }
    },
    {
      "cell_type": "markdown",
      "source": [
        "    Ans - Conditional statements play a crucial role in code they take dscisions based on certain conditions.which means control flow of python program will be decided based on outcome of condition."
      ],
      "metadata": {
        "id": "NNO3CzwQhtkZ"
      }
    },
    {
      "cell_type": "markdown",
      "source": [
        "Q-12 How does the elif statement work ?"
      ],
      "metadata": {
        "id": "0ow4nRYhipyy"
      }
    },
    {
      "cell_type": "markdown",
      "source": [
        "    Ans - It's the mixture of else if condition statement which ensure that if one condition is false then move to another elif statement."
      ],
      "metadata": {
        "id": "X4NWHRyoi5Oj"
      }
    },
    {
      "cell_type": "markdown",
      "source": [
        "Q-13 What is the difference between for and while loops ?"
      ],
      "metadata": {
        "id": "upOwArmAjg6-"
      }
    },
    {
      "cell_type": "markdown",
      "source": [
        "    Ans - for loop is like a finite loop in program where it is used in list, tuples, dictionaries etc. But while loop only exit when the condition is false if the condition is not going to false then while loop will endup in infine loop."
      ],
      "metadata": {
        "id": "ufU8EdWWjukI"
      }
    },
    {
      "cell_type": "markdown",
      "source": [
        "Q-14 Describe a scenario where a while loop is more suitable than a for loop ?"
      ],
      "metadata": {
        "id": "0KwH4gbwkVjR"
      }
    },
    {
      "cell_type": "markdown",
      "source": [
        "    Ans - If you know how times loops will execute than for loop will be better otherwise while loop is suprior."
      ],
      "metadata": {
        "id": "w_AAneJVkwJV"
      }
    },
    {
      "cell_type": "markdown",
      "source": [],
      "metadata": {
        "id": "ghWRfYVNlkgN"
      }
    },
    {
      "cell_type": "code",
      "source": [
        "data = 1\n",
        "\n",
        "while data <= 200:\n",
        "    print(\"something\")\n",
        "    data = data + 1\n",
        "print(\"final\")"
      ],
      "metadata": {
        "id": "G99x_pk9m3xD"
      },
      "execution_count": null,
      "outputs": []
    },
    {
      "cell_type": "markdown",
      "source": [
        "## Python Practical Questions"
      ],
      "metadata": {
        "id": "WB1SQnE-nJns"
      }
    },
    {
      "cell_type": "markdown",
      "source": [
        "Q-1 Write a Python program to print \"Hello, World\" ?"
      ],
      "metadata": {
        "id": "nuxUvu8FnQqv"
      }
    },
    {
      "cell_type": "code",
      "source": [
        "print(\"Hello, World\")"
      ],
      "metadata": {
        "id": "e21NbAZqnWDt",
        "colab": {
          "base_uri": "https://localhost:8080/"
        },
        "outputId": "0237ee6c-392f-4ffb-cd5c-184b703f64e9"
      },
      "execution_count": 1,
      "outputs": [
        {
          "output_type": "stream",
          "name": "stdout",
          "text": [
            "Hello, World\n"
          ]
        }
      ]
    },
    {
      "cell_type": "markdown",
      "source": [
        "Q-2 Write a Python program that display your name and age ?"
      ],
      "metadata": {
        "id": "ijZNxX1lNFU5"
      }
    },
    {
      "cell_type": "code",
      "source": [
        "name = input(\"Enter your name \")\n",
        "age = int(input(\"Enter your age \"))\n",
        "\n",
        "print(\"your name is \", name, \"and your age is\", age)"
      ],
      "metadata": {
        "colab": {
          "base_uri": "https://localhost:8080/"
        },
        "id": "aMemmUfXNQQk",
        "outputId": "fd65498a-aa1b-4ac0-a908-0db66299c8b9"
      },
      "execution_count": 3,
      "outputs": [
        {
          "output_type": "stream",
          "name": "stdout",
          "text": [
            "Enter your name xyz\n",
            "Enter your age 24\n",
            "your name is  xyz and your age is 24\n"
          ]
        }
      ]
    },
    {
      "cell_type": "markdown",
      "source": [
        "Q-3 Write code to print all the pre-defined keywords in python using the keyword library ?"
      ],
      "metadata": {
        "id": "8CU_XhQYN50S"
      }
    },
    {
      "cell_type": "code",
      "source": [
        "import keyword\n",
        "\n",
        "print(keyword.kwlist)"
      ],
      "metadata": {
        "colab": {
          "base_uri": "https://localhost:8080/"
        },
        "id": "jdc8iV4sOQFi",
        "outputId": "3626b113-9bff-4734-8bef-a4999c4a0052"
      },
      "execution_count": 4,
      "outputs": [
        {
          "output_type": "stream",
          "name": "stdout",
          "text": [
            "['False', 'None', 'True', 'and', 'as', 'assert', 'async', 'await', 'break', 'class', 'continue', 'def', 'del', 'elif', 'else', 'except', 'finally', 'for', 'from', 'global', 'if', 'import', 'in', 'is', 'lambda', 'nonlocal', 'not', 'or', 'pass', 'raise', 'return', 'try', 'while', 'with', 'yield']\n"
          ]
        }
      ]
    },
    {
      "cell_type": "markdown",
      "source": [
        "Q-4 Write a python program that checks if a given word is a python keyword ?"
      ],
      "metadata": {
        "id": "IU6Hu0gmPZ-L"
      }
    },
    {
      "cell_type": "code",
      "source": [
        "import keyword\n",
        "\n",
        "print(\"if the given word is python keyword it will return True else it will return False\")\n",
        "key_word = input(\"Enter the word \")\n",
        "\n",
        "print(key_word, \"is a python keyword:\",\n",
        "      keyword.iskeyword(key_word))"
      ],
      "metadata": {
        "colab": {
          "base_uri": "https://localhost:8080/"
        },
        "id": "dI2vwkFoQTFo",
        "outputId": "41fd20c8-5890-4e78-9b08-68ab2be6e481"
      },
      "execution_count": 7,
      "outputs": [
        {
          "output_type": "stream",
          "name": "stdout",
          "text": [
            "if the given word is python keyword it will return True else it will return False\n",
            "Enter the word class\n",
            "class is a python keyword: True\n"
          ]
        }
      ]
    },
    {
      "cell_type": "markdown",
      "source": [
        "Q-5 Create a list and tuple in python, and demonstrate how attempting to change an element works differently for each ?"
      ],
      "metadata": {
        "id": "W7UQPSuURtkN"
      }
    },
    {
      "cell_type": "code",
      "source": [
        "list_a = [1,2,34,\"xyz\", \"banana\"]\n",
        "tuple_b = (1,2,3,4,5,\"mango\",\"xtz\")\n",
        "\n",
        "print(list_a)\n",
        "list_a.append(\"fruits\")\n",
        "print(list_a)\n",
        "print(type(list_a))\n",
        "\n",
        "print(tuple_b)\n",
        "print(type(tuple_b))\n",
        "tuple_b[0] = \"fruit\"\n",
        "print(tuple_b)"
      ],
      "metadata": {
        "colab": {
          "base_uri": "https://localhost:8080/",
          "height": 269
        },
        "id": "De0dskbUSMKW",
        "outputId": "46bffe7d-610a-4a9c-a049-8b8ee830eb7e"
      },
      "execution_count": 13,
      "outputs": [
        {
          "output_type": "stream",
          "name": "stdout",
          "text": [
            "[1, 2, 34, 'xyz', 'banana']\n",
            "[1, 2, 34, 'xyz', 'banana', 'fruits']\n",
            "<class 'list'>\n",
            "(1, 2, 3, 4, 5, 'mango', 'xtz')\n"
          ]
        },
        {
          "output_type": "error",
          "ename": "TypeError",
          "evalue": "'tuple' object does not support item assignment",
          "traceback": [
            "\u001b[0;31m---------------------------------------------------------------------------\u001b[0m",
            "\u001b[0;31mTypeError\u001b[0m                                 Traceback (most recent call last)",
            "\u001b[0;32m<ipython-input-13-3bd5e2928995>\u001b[0m in \u001b[0;36m<cell line: 10>\u001b[0;34m()\u001b[0m\n\u001b[1;32m      8\u001b[0m \u001b[0;34m\u001b[0m\u001b[0m\n\u001b[1;32m      9\u001b[0m \u001b[0mprint\u001b[0m\u001b[0;34m(\u001b[0m\u001b[0mtuple_b\u001b[0m\u001b[0;34m)\u001b[0m\u001b[0;34m\u001b[0m\u001b[0;34m\u001b[0m\u001b[0m\n\u001b[0;32m---> 10\u001b[0;31m \u001b[0mtuple_b\u001b[0m\u001b[0;34m[\u001b[0m\u001b[0;36m0\u001b[0m\u001b[0;34m]\u001b[0m \u001b[0;34m=\u001b[0m \u001b[0;34m\"fruit\"\u001b[0m\u001b[0;34m\u001b[0m\u001b[0;34m\u001b[0m\u001b[0m\n\u001b[0m\u001b[1;32m     11\u001b[0m \u001b[0mprint\u001b[0m\u001b[0;34m(\u001b[0m\u001b[0mtuple_b\u001b[0m\u001b[0;34m)\u001b[0m\u001b[0;34m\u001b[0m\u001b[0;34m\u001b[0m\u001b[0m\n",
            "\u001b[0;31mTypeError\u001b[0m: 'tuple' object does not support item assignment"
          ]
        }
      ]
    },
    {
      "cell_type": "markdown",
      "source": [
        "Q-6 Write a function to demonstrate the behavior of mutable and immutable arguments ?"
      ],
      "metadata": {
        "id": "UU1J6dv5Unmb"
      }
    },
    {
      "cell_type": "code",
      "source": [
        "mutable = [1,2,3,4,5]\n",
        "mutable.append(6)\n",
        "mutable.remove(2)\n",
        "print(mutable)"
      ],
      "metadata": {
        "colab": {
          "base_uri": "https://localhost:8080/"
        },
        "id": "njuNHFslU_6B",
        "outputId": "c1a6567b-c0f0-4344-d57f-4500c0f77492"
      },
      "execution_count": 14,
      "outputs": [
        {
          "output_type": "stream",
          "name": "stdout",
          "text": [
            "[1, 3, 4, 5, 6]\n"
          ]
        }
      ]
    },
    {
      "cell_type": "code",
      "source": [
        "immutable = (1,2,3,4,5,6)\n",
        "immutable[2] = 7\n",
        "print(immutable)"
      ],
      "metadata": {
        "colab": {
          "base_uri": "https://localhost:8080/",
          "height": 180
        },
        "id": "qCC_UYvMV1PD",
        "outputId": "4679feb6-44dc-4cbe-f225-c5daa6a9e5fb"
      },
      "execution_count": 15,
      "outputs": [
        {
          "output_type": "error",
          "ename": "TypeError",
          "evalue": "'tuple' object does not support item assignment",
          "traceback": [
            "\u001b[0;31m---------------------------------------------------------------------------\u001b[0m",
            "\u001b[0;31mTypeError\u001b[0m                                 Traceback (most recent call last)",
            "\u001b[0;32m<ipython-input-15-772180714708>\u001b[0m in \u001b[0;36m<cell line: 2>\u001b[0;34m()\u001b[0m\n\u001b[1;32m      1\u001b[0m \u001b[0mimmutable\u001b[0m \u001b[0;34m=\u001b[0m \u001b[0;34m(\u001b[0m\u001b[0;36m1\u001b[0m\u001b[0;34m,\u001b[0m\u001b[0;36m2\u001b[0m\u001b[0;34m,\u001b[0m\u001b[0;36m3\u001b[0m\u001b[0;34m,\u001b[0m\u001b[0;36m4\u001b[0m\u001b[0;34m,\u001b[0m\u001b[0;36m5\u001b[0m\u001b[0;34m,\u001b[0m\u001b[0;36m6\u001b[0m\u001b[0;34m)\u001b[0m\u001b[0;34m\u001b[0m\u001b[0;34m\u001b[0m\u001b[0m\n\u001b[0;32m----> 2\u001b[0;31m \u001b[0mimmutable\u001b[0m\u001b[0;34m[\u001b[0m\u001b[0;36m2\u001b[0m\u001b[0;34m]\u001b[0m \u001b[0;34m=\u001b[0m \u001b[0;36m7\u001b[0m\u001b[0;34m\u001b[0m\u001b[0;34m\u001b[0m\u001b[0m\n\u001b[0m\u001b[1;32m      3\u001b[0m \u001b[0mprint\u001b[0m\u001b[0;34m(\u001b[0m\u001b[0mimmutable\u001b[0m\u001b[0;34m)\u001b[0m\u001b[0;34m\u001b[0m\u001b[0;34m\u001b[0m\u001b[0m\n",
            "\u001b[0;31mTypeError\u001b[0m: 'tuple' object does not support item assignment"
          ]
        }
      ]
    },
    {
      "cell_type": "markdown",
      "source": [
        "Q-7 Write a program to demonstrate the use of logical operator ?"
      ],
      "metadata": {
        "id": "S9kTy68kWNPj"
      }
    },
    {
      "cell_type": "code",
      "source": [
        "age = int(input(\"Enter your age \"))\n",
        "\n",
        "limit = 65\n",
        "if age >= 18 and age < 65:\n",
        "  print(True)\n",
        "\n",
        "if age < 18 or age > 65:\n",
        "  print(False)\n",
        "\n",
        "if not(age == 17 or age == 80):\n",
        "  print(\"you can't do testdrive\")\n",
        "\n",
        "else:\n",
        "  print(\"Everything working\")"
      ],
      "metadata": {
        "colab": {
          "base_uri": "https://localhost:8080/"
        },
        "id": "A5_p1ZRkWjhI",
        "outputId": "e93b6921-4c87-4649-ddde-e0e5fc6e3712"
      },
      "execution_count": 19,
      "outputs": [
        {
          "output_type": "stream",
          "name": "stdout",
          "text": [
            "Enter your age 17\n",
            "False\n",
            "Everything working\n"
          ]
        }
      ]
    },
    {
      "cell_type": "markdown",
      "source": [
        "Q-8 Write a Python program to convert user input from string to integer, float and boolean types ?"
      ],
      "metadata": {
        "id": "blBN4beLc43-"
      }
    },
    {
      "cell_type": "code",
      "source": [
        "user = str(input(\"Enter the string as a number \"))\n",
        "\n",
        "print(type(user))\n",
        "\n",
        "user_a = int(user)\n",
        "print(\"The user is integer\", user_a)\n",
        "print(type(user_a))\n",
        "\n",
        "\n",
        "user_b = float(user)\n",
        "print(\"The user is float\", user_b)\n",
        "print(type(user_b))\n",
        "\n",
        "user_c = bool(user)\n",
        "print(\"the user is now boolean\", user_c)\n",
        "print(type(user_c))"
      ],
      "metadata": {
        "colab": {
          "base_uri": "https://localhost:8080/"
        },
        "id": "YOFycCy9dUpR",
        "outputId": "50d72930-c276-42fe-f472-34fdd1508808"
      },
      "execution_count": 28,
      "outputs": [
        {
          "output_type": "stream",
          "name": "stdout",
          "text": [
            "Enter the string as a number 5\n",
            "<class 'str'>\n",
            "The user is integer 5\n",
            "<class 'int'>\n",
            "The user is float 5.0\n",
            "<class 'float'>\n",
            "the user is now boolean True\n",
            "<class 'bool'>\n"
          ]
        }
      ]
    },
    {
      "cell_type": "markdown",
      "source": [
        "Q-9 Write a code to demonstrate type casting with list element ?"
      ],
      "metadata": {
        "id": "yTMhGgXZfqWW"
      }
    },
    {
      "cell_type": "code",
      "source": [
        "list = [1,2,3,4,5]\n",
        "\n",
        "for i in list:\n",
        "  list_a = float(i)\n",
        "  print(\"the new list is float\", list_a)"
      ],
      "metadata": {
        "colab": {
          "base_uri": "https://localhost:8080/"
        },
        "id": "kWWcsy3hf6H-",
        "outputId": "c54caf94-9371-4100-cf92-923fde14e49c"
      },
      "execution_count": 35,
      "outputs": [
        {
          "output_type": "stream",
          "name": "stdout",
          "text": [
            "the new list is float 1.0\n",
            "the new list is float 2.0\n",
            "the new list is float 3.0\n",
            "the new list is float 4.0\n",
            "the new list is float 5.0\n"
          ]
        }
      ]
    },
    {
      "cell_type": "markdown",
      "source": [
        "Q-10 Write a program that checks if a number is positive, negative or zero ?"
      ],
      "metadata": {
        "id": "XmGIBmnMhNzY"
      }
    },
    {
      "cell_type": "code",
      "source": [
        "number = int(input(\"Enter the number \"))\n",
        "\n",
        "if number > 0:\n",
        "  print(\"Number is positive\")\n",
        "\n",
        "elif number < 0:\n",
        "  print(\"Number is Negative\")\n",
        "\n",
        "elif number == 0:\n",
        "  print(\"Number is zero\")\n",
        "\n",
        "else:\n",
        "  print(\"Not a number\")"
      ],
      "metadata": {
        "colab": {
          "base_uri": "https://localhost:8080/"
        },
        "id": "k17jk154hpWH",
        "outputId": "94647afc-a396-4597-f1d8-d0f81a7be2a1"
      },
      "execution_count": 37,
      "outputs": [
        {
          "output_type": "stream",
          "name": "stdout",
          "text": [
            "Enter the number -3\n",
            "Number is Negative\n"
          ]
        }
      ]
    },
    {
      "cell_type": "markdown",
      "source": [
        "Q-11 Write a for loop to print number from 1 to 10 ?"
      ],
      "metadata": {
        "id": "sZeDjDm9idqr"
      }
    },
    {
      "cell_type": "code",
      "source": [
        "for i in range(1,11):\n",
        "  print(i)"
      ],
      "metadata": {
        "colab": {
          "base_uri": "https://localhost:8080/"
        },
        "id": "XTcGacW-jSg7",
        "outputId": "d66aca03-c754-42d5-8062-26e9c476b179"
      },
      "execution_count": 38,
      "outputs": [
        {
          "output_type": "stream",
          "name": "stdout",
          "text": [
            "1\n",
            "2\n",
            "3\n",
            "4\n",
            "5\n",
            "6\n",
            "7\n",
            "8\n",
            "9\n",
            "10\n"
          ]
        }
      ]
    },
    {
      "cell_type": "markdown",
      "source": [
        "Q-12 Write a python program to find the sum of all even numbers between 1 to 50 ?"
      ],
      "metadata": {
        "id": "9w3znk7Tjdfp"
      }
    },
    {
      "cell_type": "code",
      "source": [
        "sum = 0\n",
        "for i in range(1,51):\n",
        "  if i % 2 == 0:\n",
        "    print(i)\n",
        "    sum = sum + i\n",
        "print(f\"sum of all even numbers is {sum}\")\n"
      ],
      "metadata": {
        "colab": {
          "base_uri": "https://localhost:8080/"
        },
        "id": "G2BFifgXjtR0",
        "outputId": "80c5e8ce-048a-4d89-dade-e9f13d86be9a"
      },
      "execution_count": 43,
      "outputs": [
        {
          "output_type": "stream",
          "name": "stdout",
          "text": [
            "2\n",
            "4\n",
            "6\n",
            "8\n",
            "10\n",
            "12\n",
            "14\n",
            "16\n",
            "18\n",
            "20\n",
            "22\n",
            "24\n",
            "26\n",
            "28\n",
            "30\n",
            "32\n",
            "34\n",
            "36\n",
            "38\n",
            "40\n",
            "42\n",
            "44\n",
            "46\n",
            "48\n",
            "50\n",
            "sum of all even numbers is 650\n"
          ]
        }
      ]
    },
    {
      "cell_type": "markdown",
      "source": [
        "Q-13 write a python program to reverse a string using while loop ?"
      ],
      "metadata": {
        "id": "tEDFUMHFmzNX"
      }
    },
    {
      "cell_type": "code",
      "source": [
        "string = str(input(\"Enter the string \"))\n",
        "\n",
        "print(\"The orginal string is \", string)\n",
        "\n",
        "reverse_string = \"\"\n",
        "count = len(string)\n",
        "while count > 0:\n",
        "  reverse_string += string[count - 1]\n",
        "  count = count - 1\n",
        "print(\"The reverse string is \", reverse_string)\n"
      ],
      "metadata": {
        "colab": {
          "base_uri": "https://localhost:8080/"
        },
        "id": "gTwdnShhn5xB",
        "outputId": "0dc8c11f-568b-4c7c-9db0-7846c3792a88"
      },
      "execution_count": 48,
      "outputs": [
        {
          "output_type": "stream",
          "name": "stdout",
          "text": [
            "Enter the string welcome\n",
            "The orginal string is  welcome\n",
            "The reverse string is  emoclew\n"
          ]
        }
      ]
    },
    {
      "cell_type": "markdown",
      "source": [
        "Q-14 Write a python program to calculate a factorial of a number provided by the user using a while loop ?"
      ],
      "metadata": {
        "id": "vYQoAvCepu5b"
      }
    },
    {
      "cell_type": "code",
      "source": [
        "number = int(input(\"Enter a number \"))\n",
        "\n",
        "fact = 1\n",
        "while number >= 1:\n",
        "  fact *= number\n",
        "  number -= 1\n",
        "\n",
        "print(\"The final factorial of a number is \", fact)\n"
      ],
      "metadata": {
        "colab": {
          "base_uri": "https://localhost:8080/"
        },
        "id": "moxXYnlbqN7e",
        "outputId": "e153e95e-c59b-4483-ff84-d4ed1a94edb8"
      },
      "execution_count": 49,
      "outputs": [
        {
          "output_type": "stream",
          "name": "stdout",
          "text": [
            "Enter a number 5\n",
            "The final factorial of a number is  120\n"
          ]
        }
      ]
    }
  ]
}